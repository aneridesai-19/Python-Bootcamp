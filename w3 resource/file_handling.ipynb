{
 "cells": [
  {
   "cell_type": "markdown",
   "metadata": {},
   "source": [
    "# File input output"
   ]
  },
  {
   "cell_type": "code",
   "execution_count": 1,
   "metadata": {},
   "outputs": [],
   "source": [
    "# Write a Python program to create a file,\n",
    "# where all letters of English alphabet are listed by specified number of letters on each line.\n",
    "\n",
    "import string\n",
    "\n",
    "def letters_file_line(n):\n",
    "    with open(\"words.txt\",\"w\") as file:\n",
    "        alph = string.ascii_uppercase\n",
    "        letters = [alph[i:i+n] + \"\\n\" for i in range(0,len(alph),n)]\n",
    "        file.writelines(letters)\n",
    "\n",
    "letters_file_line(4)"
   ]
  },
  {
   "cell_type": "code",
   "execution_count": 3,
   "metadata": {},
   "outputs": [],
   "source": [
    "# Write a Python program to generate 26 text files named A.txt, B.txt, and so on up to Z.txt.\n",
    "\n",
    "import string, os\n",
    "if not os.path.exists(\"letters\"):\n",
    "   os.makedirs(\"letters\")\n",
    "for letter in string.ascii_uppercase:\n",
    "   with open(\"letters\\\\\" + letter + \".txt\", \"w\") as file:\n",
    "       file.writelines(letter)\n"
   ]
  },
  {
   "cell_type": "markdown",
   "metadata": {},
   "source": [
    "# CSV"
   ]
  },
  {
   "cell_type": "code",
   "execution_count": 5,
   "metadata": {},
   "outputs": [
    {
     "name": "stdout",
     "output_type": "stream",
     "text": [
      "CSV file as a dictionary:\n",
      "\n",
      "id | Column1 | Column2\n",
      "id | Column1 | Column2\n",
      "id | Column1 | Column2\n"
     ]
    }
   ],
   "source": [
    "#  Write a Python program to write a Python dictionary to a csv file. \n",
    "# After writing the CSV file read the CSV file and display the content.\n",
    "\n",
    "import csv\n",
    "csv_columns = ['id','Column1', 'Column2']\n",
    "dict_data = {'id':['1', '2', '3'],\n",
    "    'Column1':[33, 25, 56],\n",
    "    'Column2':[35, 30, 30] }\n",
    "csv_file = \"temp.csv\"\n",
    "try:\n",
    "    with open(csv_file, 'w') as file:\n",
    "        writer = csv.DictWriter(file, fieldnames=csv_columns)\n",
    "        writer.writeheader()\n",
    "        for data in dict_data:\n",
    "            writer.writerow(dict_data)\n",
    "except IOError:\n",
    "    print(\"I/O error\")\n",
    "data = csv.DictReader(open(csv_file))\n",
    "print(\"CSV file as a dictionary:\\n\")\n",
    "for row in data:\n",
    "    print(\" | \".join(row))"
   ]
  },
  {
   "cell_type": "code",
   "execution_count": 12,
   "metadata": {},
   "outputs": [
    {
     "name": "stdout",
     "output_type": "stream",
     "text": [
      "10,a1,1\n",
      "12,a2,3\n",
      "14,a3,5\n"
     ]
    }
   ],
   "source": [
    "# Write a Python program to write a Python list of lists to a csv file. \n",
    "# After writing the CSV file read the CSV file and display the content.\n",
    "\n",
    "import csv\n",
    "data = [[10,'a1', 1], [12,'a2', 3], [14, 'a3', 5]]\n",
    "with open(\"temp2.csv\", \"w\", newline=\"\") as file:\n",
    "    writer = csv.writer(file)\n",
    "    writer.writerows(data)\n",
    "with open('temp2.csv', newline='') as csvfile:\n",
    "    data = csv.reader(csvfile, delimiter=' ')\n",
    "    for row in data:\n",
    "        print(''.join(row))"
   ]
  },
  {
   "cell_type": "code",
   "execution_count": null,
   "metadata": {},
   "outputs": [],
   "source": []
  }
 ],
 "metadata": {
  "kernelspec": {
   "display_name": "base",
   "language": "python",
   "name": "python3"
  },
  "language_info": {
   "codemirror_mode": {
    "name": "ipython",
    "version": 3
   },
   "file_extension": ".py",
   "mimetype": "text/x-python",
   "name": "python",
   "nbconvert_exporter": "python",
   "pygments_lexer": "ipython3",
   "version": "3.12.7"
  }
 },
 "nbformat": 4,
 "nbformat_minor": 2
}

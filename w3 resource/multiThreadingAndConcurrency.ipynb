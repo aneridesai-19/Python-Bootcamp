{
 "cells": [
  {
   "cell_type": "markdown",
   "metadata": {},
   "source": [
    "# Multi Threading And Concurrency"
   ]
  },
  {
   "cell_type": "code",
   "execution_count": 3,
   "metadata": {},
   "outputs": [
    {
     "name": "stdout",
     "output_type": "stream",
     "text": [
      "Response from https://www.python.org: 200\n",
      "Response from https://www.wikipedia.org: 200\n",
      "Response from https://www.google.com: 200\n",
      "Response from https://www.example.com: 200\n"
     ]
    }
   ],
   "source": [
    "# Write a Python program that performs concurrent HTTP requests using threads.\n",
    "\n",
    "import requests\n",
    "import threading\n",
    "\n",
    "def make_req(url):\n",
    "    res = requests.get(url)\n",
    "    print(f\"Response from {url}: {res.status_code}\")\n",
    "\n",
    "urls = [\n",
    "    \"https://www.example.com\",\n",
    "    \"https://www.google.com\",\n",
    "    \"https://www.wikipedia.org\",\n",
    "    \"https://www.python.org\"\n",
    "]\n",
    "\n",
    "threads =[]\n",
    "for url in urls:\n",
    "    thread = threading.Thread(target=make_req, args=(url,))\n",
    "    thread.start()\n",
    "    threads.append(thread)\n",
    "\n",
    "for i in threads:\n",
    "    i.join()"
   ]
  },
  {
   "cell_type": "code",
   "execution_count": 4,
   "metadata": {},
   "outputs": [
    {
     "name": "stdout",
     "output_type": "stream",
     "text": [
      "\n",
      "Calculating factorial of 12 in thread Thread-153 (calculate_fact)\n",
      "Factorial of 12 is 479001600 in thread Thread-153 (calculate_fact)\n",
      "\n",
      "Calculating factorial of 12 in thread Thread-154 (calculate_fact)\n",
      "Factorial of 12 is 479001600 in thread Thread-154 (calculate_fact)\n"
     ]
    }
   ],
   "source": [
    "#  Write a Python program to calculate the factorial of a number using multiple threads.\n",
    "\n",
    "import threading\n",
    "\n",
    "def factorial(n):\n",
    "    result = 1\n",
    "    for i in range(1,n+1):\n",
    "        result *= i\n",
    "    return result\n",
    "\n",
    "def calculate_fact(n):\n",
    "    print(f\"\\nCalculating factorial of {n} in thread {threading.current_thread().name}\")\n",
    "    result = factorial(n)\n",
    "    print(f\"Factorial of {n} is {result} in thread {threading.current_thread().name}\")\n",
    "\n",
    "n = 12\n",
    "\n",
    "thread1 = threading.Thread(target=calculate_fact,args=(n,))\n",
    "thread2 = threading.Thread(target=calculate_fact,args=(n,))\n",
    "\n",
    "thread1.start()\n",
    "thread2.start()\n",
    "\n",
    "thread1.join()\n",
    "thread2.join()"
   ]
  },
  {
   "cell_type": "markdown",
   "metadata": {},
   "source": [
    "# Asynchronous"
   ]
  },
  {
   "cell_type": "code",
   "execution_count": 7,
   "metadata": {},
   "outputs": [
    {
     "name": "stdout",
     "output_type": "stream",
     "text": [
      "Task 1 starting\n",
      "Task 2 starting\n",
      "Task 2 completed\n",
      "Task 1 completed\n"
     ]
    }
   ],
   "source": [
    "# Running Multiple Asynchronous Tasks Concurrently\n",
    "\n",
    "import asyncio\n",
    "\n",
    "async def task1():\n",
    "    print(\"Task 1 starting\")\n",
    "    await asyncio.sleep(4)\n",
    "    print(\"Task 1 completed\")\n",
    "\n",
    "async def task2():\n",
    "    print(\"Task 2 starting\")\n",
    "    await asyncio.sleep(2)\n",
    "    print(\"Task 2 completed\")\n",
    "\n",
    "async def main():\n",
    "    await asyncio.gather(task1(), task2())\n",
    "\n",
    "await main()\n",
    "\n"
   ]
  },
  {
   "cell_type": "code",
   "execution_count": 9,
   "metadata": {},
   "outputs": [
    {
     "name": "stdout",
     "output_type": "stream",
     "text": [
      "Task 1 starting\n",
      "Task 2 starting\n",
      "Error caught: An error occurred in Task 1!\n"
     ]
    },
    {
     "name": "stdout",
     "output_type": "stream",
     "text": [
      "Task 2 completed\n"
     ]
    }
   ],
   "source": [
    "# Handling Asynchronous Task with Error Handling\n",
    "\n",
    "import asyncio\n",
    "\n",
    "async def task1():\n",
    "    print(\"Task 1 starting\")\n",
    "    await asyncio.sleep(1)\n",
    "    raise ValueError(\"An error occurred in Task 1!\")\n",
    "\n",
    "async def task2():\n",
    "    print(\"Task 2 starting\")\n",
    "    await asyncio.sleep(2)\n",
    "    print(\"Task 2 completed\")\n",
    "\n",
    "async def main():\n",
    "    try:\n",
    "        await asyncio.gather(task1(), task2())\n",
    "    except Exception as e:\n",
    "        print(f\"Error caught: {e}\")\n",
    "\n",
    "await main()\n"
   ]
  },
  {
   "cell_type": "code",
   "execution_count": 15,
   "metadata": {},
   "outputs": [
    {
     "name": "stdout",
     "output_type": "stream",
     "text": [
      "Starting long operation for 10 sec...\n",
      "Process stops after waiting for 5 sec...\n"
     ]
    }
   ],
   "source": [
    "# Write a Python program that implements a timeout for an asynchronous operation using asyncio.wait_for().\n",
    "\n",
    "import asyncio\n",
    "import time\n",
    "\n",
    "async def timeOutFor(duration):\n",
    "    print(f\"Starting long operation for {duration} sec...\")\n",
    "    await asyncio.sleep(duration)\n",
    "    return f\"Long operation ends after {duration} sec...\"\n",
    "\n",
    "async def main():\n",
    "    timeout = 5\n",
    "    try:\n",
    "        result = await asyncio.wait_for(timeOutFor(10),timeout)\n",
    "        print(result)\n",
    "    except asyncio.TimeoutError:\n",
    "        print(f\"Process stops after waiting for {timeout} sec...\")\n",
    "\n",
    "await main()"
   ]
  },
  {
   "cell_type": "code",
   "execution_count": null,
   "metadata": {},
   "outputs": [],
   "source": []
  }
 ],
 "metadata": {
  "kernelspec": {
   "display_name": "base",
   "language": "python",
   "name": "python3"
  },
  "language_info": {
   "codemirror_mode": {
    "name": "ipython",
    "version": 3
   },
   "file_extension": ".py",
   "mimetype": "text/x-python",
   "name": "python",
   "nbconvert_exporter": "python",
   "pygments_lexer": "ipython3",
   "version": "3.12.7"
  }
 },
 "nbformat": 4,
 "nbformat_minor": 2
}

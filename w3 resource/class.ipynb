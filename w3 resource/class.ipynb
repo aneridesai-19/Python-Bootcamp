{
 "cells": [
  {
   "cell_type": "markdown",
   "metadata": {},
   "source": [
    "# Class Basic 1"
   ]
  },
  {
   "cell_type": "code",
   "execution_count": 6,
   "metadata": {},
   "outputs": [
    {
     "name": "stdout",
     "output_type": "stream",
     "text": [
      "student 1 details: \n",
      "Id: 24\n",
      "Name: Aneri\n",
      "College: CSPIT\n",
      "\n",
      "student 2 details:\n",
      "Id: 18\n",
      "Name: John\n",
      "College: Nirma\n"
     ]
    }
   ],
   "source": [
    "# Write a Python class named Student with two instances student1, student2 and assign values to the instances' attributes. \n",
    "# Print all the attributes of the student1, student2 instances with their values in the given format.\n",
    "\n",
    "class Student:\n",
    "    def __init__(self,id,name,college):\n",
    "        self.id = id\n",
    "        self.name = name\n",
    "        self.college = college\n",
    "    def show_detail(self):\n",
    "        return f\"Id: {self.id}\\nName: {self.name}\\nCollege: {self.college}\"\n",
    "\n",
    "student1 = Student(24,\"Aneri\",\"CSPIT\")\n",
    "student2 = Student(18,\"John\",\"Nirma\")\n",
    "print(\"student 1 details: \")\n",
    "print(student1.show_detail())\n",
    "print(\"\\nstudent 2 details:\")\n",
    "print(student2.show_detail())"
   ]
  },
  {
   "cell_type": "code",
   "execution_count": 8,
   "metadata": {},
   "outputs": [
    {
     "name": "stdout",
     "output_type": "stream",
     "text": [
      "Student details: \n",
      "Id: 24\n",
      "Name: Aneri\n",
      "Class: CE\n"
     ]
    }
   ],
   "source": [
    "# Write a Python class named Student with two attributes: student_id, student_name. Add a new attribute: student_class. \n",
    "# Create a function to display all attributes and their values in the Student class.\n",
    "\n",
    "class Student:\n",
    "    def __init__(self,id,name):\n",
    "        self.id = id\n",
    "        self.name = name\n",
    "    def show_detail(self):\n",
    "        return f\"Id: {self.id}\\nName: {self.name}\\nClass: {self.student_class}\"\n",
    "\n",
    "student1 = Student(24,\"Aneri\")\n",
    "student1.student_class = \"CE\"\n",
    "print(\"Student details: \")\n",
    "print(student1.show_detail())\n"
   ]
  },
  {
   "cell_type": "markdown",
   "metadata": {},
   "source": [
    "# Class Basic 2"
   ]
  },
  {
   "cell_type": "code",
   "execution_count": 10,
   "metadata": {},
   "outputs": [
    {
     "name": "stdout",
     "output_type": "stream",
     "text": [
      "Area =  28.26\n",
      "Perimeter =  18.84\n"
     ]
    }
   ],
   "source": [
    "# Write a Python class named Circle constructed from a radius and two methods,\n",
    "# that will compute the area and the perimeter of a circle.\n",
    "\n",
    "class Circle:\n",
    "    def __init__(self,r):\n",
    "        self.r = r\n",
    "    def area(self):\n",
    "        return 3.14*(self.r**2)\n",
    "    def perimeter(self):\n",
    "        return 2*3.14*self.r\n",
    "    \n",
    "c1 = Circle(3)\n",
    "print(\"Area = \",c1.area())\n",
    "print(\"Perimeter = \",c1.perimeter())"
   ]
  },
  {
   "cell_type": "markdown",
   "metadata": {},
   "source": [
    "# Class Real life problems"
   ]
  },
  {
   "cell_type": "code",
   "execution_count": 12,
   "metadata": {},
   "outputs": [
    {
     "name": "stdout",
     "output_type": "stream",
     "text": [
      "30000 rs deposited. Current balance is 80000 rs.\n",
      "10000 rs withdrawed. Current balance is 70000 rs.\n",
      "Available balance is 70000 rs\n",
      "Insufficient Balance.\n"
     ]
    }
   ],
   "source": [
    "# Write a  Python class BankAccount with attributes like account_number, balance, date_of_opening and customer_name, \n",
    "# and methods like deposit, withdraw, and check_balance.\n",
    "\n",
    "class BankAccount:\n",
    "    def __init__(self,acc_num,balance,date_of_opening,customer_name):\n",
    "        self.acc_num = acc_num\n",
    "        self.balance = balance\n",
    "        self.date_of_opening = date_of_opening\n",
    "        self.customer_name = customer_name\n",
    "\n",
    "    def deposit(self,amount):\n",
    "        self.balance += amount\n",
    "        print(f\"{amount} rs deposited. Current balance is {self.balance} rs.\")\n",
    "\n",
    "    def withdraw(self,amount):\n",
    "        if amount > self.balance:\n",
    "            print(\"Insufficient Balance.\")\n",
    "        else:\n",
    "            self.balance-=amount\n",
    "            print(f\"{amount} rs withdrawed. Current balance is {self.balance} rs.\")\n",
    "\n",
    "    def check_balance(self):\n",
    "        print(f\"Available balance is {self.balance} rs\")\n",
    "\n",
    "owner = BankAccount(145236, 50000, \"12-12-2025\", \"Aneri\")\n",
    "owner.deposit(30000)\n",
    "owner.withdraw(10000)\n",
    "owner.check_balance()\n",
    "owner.withdraw(80000)"
   ]
  },
  {
   "cell_type": "code",
   "execution_count": 8,
   "metadata": {},
   "outputs": [
    {
     "name": "stdout",
     "output_type": "stream",
     "text": [
      "Product name: Cheese\n",
      "Stock Count: 100\n",
      "Price: 50\n",
      "\n",
      "-------After updation---------\n",
      "Product name: Cheese\n",
      "Stock Count: 150\n",
      "Price: 60\n"
     ]
    }
   ],
   "source": [
    "# Write a Python class Inventory with attributes like item_id, item_name, stock_count, and price, \n",
    "# and methods like add_item, update_item, and check_item_details.\n",
    "# Use a dictionary to store the item details, where the key is the item_id and the value is a dictionary \n",
    "# containing the item_name, stock_count, and price.\n",
    "\n",
    "class Inventory:\n",
    "    def __init__(self):\n",
    "        self.inventory = {}\n",
    "    def add_item(self,id,name,stock,price):\n",
    "        self.inventory[id] = {\"Item name\":name, \"Stock Count\":stock, \"Price\":price}\n",
    "\n",
    "    def update_item(self,id,stock,price):\n",
    "        if id in self.inventory:\n",
    "            self.inventory[id][\"Stock Count\"]=stock\n",
    "            self.inventory[id][\"Price\"]=price\n",
    "        else:\n",
    "            print(\"Item not found.\")\n",
    "    \n",
    "    def check_item_details(self,id):\n",
    "        if id in self.inventory:\n",
    "            item = self.inventory[id]\n",
    "            print(f\"Product name: {item['Item name']}\\nStock Count: {item['Stock Count']}\\nPrice: {item['Price']}\")\n",
    "        else:\n",
    "            print(\"Item not found.\")\n",
    "inventory = Inventory()\n",
    "inventory.add_item(1,\"Cheese\",100,50)\n",
    "inventory.check_item_details(1)\n",
    "print(\"\\n-------After updation---------\")\n",
    "inventory.update_item(1,150,60)\n",
    "inventory.check_item_details(1)"
   ]
  },
  {
   "cell_type": "code",
   "execution_count": null,
   "metadata": {},
   "outputs": [],
   "source": []
  }
 ],
 "metadata": {
  "kernelspec": {
   "display_name": "base",
   "language": "python",
   "name": "python3"
  },
  "language_info": {
   "codemirror_mode": {
    "name": "ipython",
    "version": 3
   },
   "file_extension": ".py",
   "mimetype": "text/x-python",
   "name": "python",
   "nbconvert_exporter": "python",
   "pygments_lexer": "ipython3",
   "version": "3.12.7"
  }
 },
 "nbformat": 4,
 "nbformat_minor": 2
}

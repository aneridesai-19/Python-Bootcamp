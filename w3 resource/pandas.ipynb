{
 "cells": [
  {
   "cell_type": "markdown",
   "metadata": {},
   "source": [
    "# Pandas Basics"
   ]
  },
  {
   "cell_type": "code",
   "execution_count": 1,
   "metadata": {},
   "outputs": [
    {
     "name": "stdout",
     "output_type": "stream",
     "text": [
      "Original DataFrame:\n",
      "      W     X   Y   Z\n",
      "0  68.0  78.0  84  86\n",
      "1  75.0  75.0  94  97\n",
      "2  86.0   NaN  89  96\n",
      "3  80.0  80.0  86  72\n",
      "4   NaN  86.0  86  83\n",
      "\n",
      "Original Series:\n",
      "0    68.0\n",
      "1    75.0\n",
      "2    86.0\n",
      "3    80.0\n",
      "4     NaN\n",
      "dtype: float64\n",
      "\n",
      "Check for inequality of the said series & dataframe:\n",
      "       W      X     Y     Z\n",
      "0  False   True  True  True\n",
      "1  False  False  True  True\n",
      "2  False   True  True  True\n",
      "3  False  False  True  True\n",
      "4   True   True  True  True\n"
     ]
    }
   ],
   "source": [
    "# Write a Pandas program to check inequality over the index axis of a given dataframe and a given series.\n",
    "\n",
    "import pandas as pd\n",
    "\n",
    "df_data = pd.DataFrame({'W':[68,75,86,80,None],'X':[78,75,None,80,86], 'Y':[84,94,89,86,86],'Z':[86,97,96,72,83]})\n",
    "sr_data = pd.Series([68, 75, 86, 80, None]) \n",
    "\n",
    "print(\"Original DataFrame:\")\n",
    "print(df_data)\n",
    "\n",
    "print(\"\\nOriginal Series:\")\n",
    "print(sr_data)\n",
    "\n",
    "print(\"\\nCheck for inequality of the said series & dataframe:\")\n",
    "print(df_data.ne(sr_data, axis = 0))\n"
   ]
  },
  {
   "cell_type": "code",
   "execution_count": 4,
   "metadata": {},
   "outputs": [
    {
     "name": "stdout",
     "output_type": "stream",
     "text": [
      "Index of the first occurence of the smallest value: 7\n",
      "Index of the first occurence of the largest value: 1\n"
     ]
    }
   ],
   "source": [
    "# Write a Pandas program to find the index of the first occurrence of the smallest and largest value of a given series.\n",
    "\n",
    "nums = pd.Series([1, 88, 7, 12, 88, 23, 3, 0, 9, 0])\n",
    "\n",
    "print(\"Index of the first occurence of the smallest value:\",nums.idxmin())\n",
    "\n",
    "print(\"Index of the first occurence of the largest value:\",nums.idxmax())"
   ]
  },
  {
   "cell_type": "code",
   "execution_count": 6,
   "metadata": {},
   "outputs": [
    {
     "name": "stdout",
     "output_type": "stream",
     "text": [
      "Lowest n records within each group of a DataFrame:\n",
      "   col1  col2  col3\n",
      "0     1     4     7\n",
      "1     2     5     5\n",
      "2     3     6     8\n",
      "\n",
      "    col1  col2  col3\n",
      "5    11     0    11\n",
      "0     1     4     7\n",
      "\n",
      "    col1  col2  col3\n",
      "4     7     5     1\n",
      "1     2     5     5\n",
      "0     1     4     7\n",
      "2     3     6     8\n"
     ]
    }
   ],
   "source": [
    "# Write a Pandas program to get lowest n records within each group of a given DataFrame.\n",
    "\n",
    "d = {'col1': [1, 2, 3, 4, 7, 11], 'col2': [4, 5, 6, 9, 5, 0], 'col3': [7, 5, 8, 12, 1,11]}\n",
    "df = pd.DataFrame(data=d)\n",
    "\n",
    "print(\"Lowest n records within each group of a DataFrame:\")\n",
    "df1 = df.nsmallest(3, 'col1')\n",
    "print(df1)\n",
    "\n",
    "df2 = df.nsmallest(2, 'col2')\n",
    "print(\"\\n\",df2)\n",
    "\n",
    "df3 = df.nsmallest(4, 'col3')\n",
    "print(\"\\n\",df3)"
   ]
  },
  {
   "cell_type": "code",
   "execution_count": 7,
   "metadata": {},
   "outputs": [
    {
     "name": "stdout",
     "output_type": "stream",
     "text": [
      "Check for inequality of the said dataframes:\n",
      "       W      X      Y      Z\n",
      "0   True  False  False  False\n",
      "1  False  False   True  False\n",
      "2  False   True  False  False\n",
      "3  False  False  False  False\n",
      "4   True   True  False  False\n"
     ]
    }
   ],
   "source": [
    "# Write a Pandas program to check for inequality of two given DataFrames.\n",
    "\n",
    "df1 = pd.DataFrame({'W':[68,75,86,80,None],'X':[78,85,None,80,86], 'Y':[84,94,89,83,86],'Z':[86,97,96,72,83]})\n",
    "df2 = pd.DataFrame({'W':[78,75,86,80,None],'X':[78,85,96,80,76], 'Y':[84,84,89,83,86],'Z':[86,97,96,72,83]})\n",
    "\n",
    "print(\"Check for inequality of the said dataframes:\")\n",
    "print(df1.ne(df2))\n"
   ]
  },
  {
   "cell_type": "code",
   "execution_count": 13,
   "metadata": {},
   "outputs": [
    {
     "name": "stdout",
     "output_type": "stream",
     "text": [
      "Create MultiIndex on 'tcode' and 'school_code':\n",
      "                  class            name date_of_birth  weight\n",
      "tcode school_code                                            \n",
      "t1    s001            V  Alberto Franco    15/05/2002      35\n",
      "t2    s002            V    Gino Mcneill    17/05/2002      37\n",
      "t3    s003           VI     Ryan Parkes    16/02/1999      33\n",
      "t4    s001           VI    Eesha Hinton    25/09/1998      30\n",
      "t5    s002            V    Gino Mcneill    11/05/2002      31\n",
      "t6    s004           VI    David Parkes    15/09/1997      32\n",
      "\n",
      "\n",
      "Select rows(s) from 'tcode' column:\n",
      "                  class          name date_of_birth  weight\n",
      "tcode school_code                                          \n",
      "t2    s002            V  Gino Mcneill    17/05/2002      37\n",
      "\n",
      "\n",
      "Select rows(s) from 'school_code' column:\n",
      "                  class            name date_of_birth  weight\n",
      "tcode school_code                                            \n",
      "t1    s001            V  Alberto Franco    15/05/2002      35\n",
      "t4    s001           VI    Eesha Hinton    25/09/1998      30\n",
      "\n",
      "\n",
      "Select rows(s) from 'tcode' and 'scode' columns:\n",
      "                  class            name date_of_birth  weight\n",
      "tcode school_code                                            \n",
      "t1    s001            V  Alberto Franco    15/05/2002      35\n",
      "t4    s001           VI    Eesha Hinton    25/09/1998      30\n"
     ]
    }
   ],
   "source": [
    "# Write a Pandas program to select rows by filtering on one or more column(s) in a multi-index dataframe.\n",
    "\n",
    "df = pd.DataFrame({\n",
    "    'school_code': ['s001','s002','s003','s001','s002','s004'],\n",
    "    'class': ['V', 'V', 'VI', 'VI', 'V', 'VI'],\n",
    "    'name': ['Alberto Franco','Gino Mcneill','Ryan Parkes', 'Eesha Hinton', 'Gino Mcneill', 'David Parkes'],\n",
    "    'date_of_birth': ['15/05/2002','17/05/2002','16/02/1999','25/09/1998','11/05/2002','15/09/1997'],\n",
    "    'weight': [35, 37, 33, 30, 31, 32],\n",
    "    'tcode': ['t1', 't2', 't3', 't4', 't5', 't6']})    \n",
    "\n",
    "\n",
    "print(\"Create MultiIndex on 'tcode' and 'school_code':\")\n",
    "df = df.set_index(['tcode', 'school_code'])\n",
    "print(df)\n",
    "\n",
    "print(\"\\n\\nSelect rows(s) from 'tcode' column:\")\n",
    "print(df.query((\"tcode == 't2'\")))\n",
    "\n",
    "print(\"\\n\\nSelect rows(s) from 'school_code' column:\")\n",
    "print(df.query(\"school_code == 's001'\"))\n",
    "\n",
    "print(\"\\n\\nSelect rows(s) from 'tcode' and 'scode' columns:\")\n",
    "print(df.query((\"tcode == 't1'\") and (\"school_code == 's001'\")))\n"
   ]
  },
  {
   "cell_type": "code",
   "execution_count": 14,
   "metadata": {},
   "outputs": [
    {
     "name": "stdout",
     "output_type": "stream",
     "text": [
      "Original DataFrame:\n",
      "  school_code class            name date_of_birth  weight\n",
      "0        s001     V  Alberto Franco    15/05/2002      35\n",
      "1        s002     V    Gino Mcneill    17/05/2002      37\n",
      "2        s003    VI     Ryan Parkes    16/02/1999      33\n",
      "3        s001    VI    Eesha Hinton    25/09/1998      30\n",
      "4        s002     V    Gino Mcneill    11/05/2002      31\n",
      "5        s004    VI    David Parkes    15/09/1997      32\n",
      "\n",
      "Default Index Range:\n",
      "RangeIndex(start=0, stop=6, step=1)\n",
      "\n",
      "New Index Range:\n",
      "RangeIndex(start=10, stop=16, step=1)\n",
      "\n",
      "DataFrame with new index:\n",
      "   school_code class            name date_of_birth  weight\n",
      "10        s001     V  Alberto Franco    15/05/2002      35\n",
      "11        s002     V    Gino Mcneill    17/05/2002      37\n",
      "12        s003    VI     Ryan Parkes    16/02/1999      33\n",
      "13        s001    VI    Eesha Hinton    25/09/1998      30\n",
      "14        s002     V    Gino Mcneill    11/05/2002      31\n",
      "15        s004    VI    David Parkes    15/09/1997      32\n"
     ]
    }
   ],
   "source": [
    "# Write a  Pandas program to start index with different value rather than 0 in a given DataFrame.\n",
    "\n",
    "df = pd.DataFrame({\n",
    "    'school_code': ['s001','s002','s003','s001','s002','s004'],\n",
    "    'class': ['V', 'V', 'VI', 'VI', 'V', 'VI'],\n",
    "    'name': ['Alberto Franco','Gino Mcneill','Ryan Parkes', 'Eesha Hinton', 'Gino Mcneill', 'David Parkes'],\n",
    "    'date_of_birth': ['15/05/2002','17/05/2002','16/02/1999','25/09/1998','11/05/2002','15/09/1997'],\n",
    "    'weight': [35, 37, 33, 30, 31, 32]})\n",
    "     \n",
    "print(\"Original DataFrame:\")\n",
    "print(df)\n",
    "\n",
    "print(\"\\nDefault Index Range:\")\n",
    "print(df.index)\n",
    "\n",
    "df.index += 10 \n",
    "print(\"\\nNew Index Range:\")\n",
    "print(df.index)\n",
    "\n",
    "print(\"\\nDataFrame with new index:\")\n",
    "print(df)"
   ]
  },
  {
   "cell_type": "markdown",
   "metadata": {},
   "source": [
    "# Pandas Advanced Indexing, Slicing, and Filtering"
   ]
  },
  {
   "cell_type": "code",
   "execution_count": 27,
   "metadata": {},
   "outputs": [
    {
     "name": "stdout",
     "output_type": "stream",
     "text": [
      "   Y\n",
      "X   \n",
      "1  5\n",
      "6  2\n",
      "7  1\n"
     ]
    }
   ],
   "source": [
    "# Write a Pandas program that uses MultiIndex to select data based on conditions.\n",
    "\n",
    "import pandas as pd\n",
    "\n",
    "df = pd.DataFrame({\n",
    "    'X': [1, 6, 8, 3, 7],\n",
    "    'Y': [5, 2, 9, 4, 1],\n",
    "    'Z': ['one', 'one', 'two', 'two', 'one']\n",
    "})\n",
    "\n",
    "df = df.set_index(['Z','X'])\n",
    "\n",
    "ans = df.loc[('one',slice(None))]\n",
    "print(ans)"
   ]
  },
  {
   "cell_type": "code",
   "execution_count": 29,
   "metadata": {},
   "outputs": [
    {
     "name": "stdout",
     "output_type": "stream",
     "text": [
      "       B\n",
      "C   A   \n",
      "one 1  5\n",
      "    6  2\n",
      "    7  1\n",
      "two 3  4\n",
      "    8  9\n"
     ]
    }
   ],
   "source": [
    "# Write a Pandas program that uses .loc to slice a MultiIndex DataFrame.\n",
    "\n",
    "df = pd.DataFrame({\n",
    "    'A': [1, 6, 8, 3, 7],\n",
    "    'B': [5, 2, 9, 4, 1],\n",
    "    'C': ['one', 'one', 'two', 'two', 'one']\n",
    "})\n",
    "\n",
    "df = df.set_index(['C', 'A'])\n",
    "\n",
    "df = df.sort_index()\n",
    "\n",
    "result = df.loc['one':'two']\n",
    "print(result)\n"
   ]
  },
  {
   "cell_type": "code",
   "execution_count": 31,
   "metadata": {},
   "outputs": [
    {
     "name": "stdout",
     "output_type": "stream",
     "text": [
      "   X  Y\n",
      "1  6  2\n",
      "4  7  1\n"
     ]
    }
   ],
   "source": [
    "# Write a Pandas program to select rows where column 'X' > 5 and column 'Y' < 5.\n",
    "\n",
    "df = pd.DataFrame({\n",
    "    'X': [1, 6, 8, 3, 7],\n",
    "    'Y': [5, 2, 9, 4, 1]\n",
    "})\n",
    "\n",
    "ans = df[(df['X']>5) & (df['Y']<5)]\n",
    "print(ans)"
   ]
  },
  {
   "cell_type": "code",
   "execution_count": 32,
   "metadata": {},
   "outputs": [
    {
     "name": "stdout",
     "output_type": "stream",
     "text": [
      "Original data:\n",
      "   Year       WHO region                Country Beverage Types  Display Value\n",
      "0  1986  Western Pacific               Viet Nam           Wine           0.00\n",
      "1  1986         Americas                Uruguay          Other           0.50\n",
      "2  1985           Africa           Cte d'Ivoire           Wine           1.62\n",
      "3  1986         Americas               Colombia           Beer           4.27\n",
      "4  1987         Americas  Saint Kitts and Nevis           Beer           1.98\n",
      "\n",
      "\n",
      "Every fifth row starting from 2nd row:\n",
      "    Year WHO region     Country Beverage Types  Display Value\n",
      "1   1986   Americas     Uruguay          Other           0.50\n",
      "6   1987     Africa   Mauritius           Wine           0.13\n",
      "11  1989   Americas   Guatemala           Beer           0.62\n",
      "16  1984   Americas  Costa Rica           Wine           0.06\n",
      "21  1989   Americas  Costa Rica        Spirits           4.51\n"
     ]
    }
   ],
   "source": [
    "# Write a Pandas program to filter all records starting from the 2nd row, \n",
    "# access every 5th row from world alcohol consumption dataset.\n",
    "\n",
    "wa = pd.read_csv('world_alcohol.csv')\n",
    "\n",
    "print(\"Original data:\")\n",
    "print(wa.head())\n",
    "\n",
    "print(\"\\n\\nEvery fifth row starting from 2nd row:\")\n",
    "print(wa.iloc[1::5].head())"
   ]
  },
  {
   "cell_type": "code",
   "execution_count": 33,
   "metadata": {},
   "outputs": [
    {
     "name": "stdout",
     "output_type": "stream",
     "text": [
      "Every other column starting from 'Year':\n",
      "   Year                Country  Display Value\n",
      "0  1986               Viet Nam           0.00\n",
      "1  1986                Uruguay           0.50\n",
      "2  1985           Cte d'Ivoire           1.62\n",
      "3  1986               Colombia           4.27\n",
      "4  1987  Saint Kitts and Nevis           1.98\n"
     ]
    }
   ],
   "source": [
    "# Write a Pandas program to filter all records starting from the 'Year' column, \n",
    "# access every other column from world alcohol consumption dataset.\n",
    "\n",
    "print(\"Every other column starting from 'Year':\")\n",
    "print(wa.iloc[:,0::2].head())"
   ]
  },
  {
   "cell_type": "markdown",
   "metadata": {},
   "source": [
    "# String and Regular Expression"
   ]
  },
  {
   "cell_type": "code",
   "execution_count": 36,
   "metadata": {},
   "outputs": [
    {
     "name": "stdout",
     "output_type": "stream",
     "text": [
      "Original df:\n",
      "  company_code date_of_sale                      address\n",
      "0         Abcd   12/05/2002    9910 Surrey <b>Avenue</b>\n",
      "1         EFGF   16/02/1999          92 N. Bishop Avenue\n",
      "2      zefsalf   05/09/1998  9910 <br>Golden Star Avenue\n",
      "3      sdfslew   12/02/2022        102 Dunbar <i></i>St.\n",
      "4      zekfsdf   15/09/1997     17 West Livingston Court\n",
      "\n",
      "\n",
      "Df without tags:\n",
      "  company_code date_of_sale                   address\n",
      "0         Abcd   12/05/2002        9910 Surrey Avenue\n",
      "1         EFGF   16/02/1999       92 N. Bishop Avenue\n",
      "2      zefsalf   05/09/1998   9910 Golden Star Avenue\n",
      "3      sdfslew   12/02/2022            102 Dunbar St.\n",
      "4      zekfsdf   15/09/1997  17 West Livingston Court\n"
     ]
    }
   ],
   "source": [
    "# Write a Pandas program to remove the html tags within the specified column of a given DataFrame.\n",
    "\n",
    "import re \n",
    "\n",
    "df = pd.DataFrame({\n",
    "    'company_code': ['Abcd','EFGF', 'zefsalf', 'sdfslew', 'zekfsdf'],\n",
    "    'date_of_sale': ['12/05/2002','16/02/1999','05/09/1998','12/02/2022','15/09/1997'],\n",
    "    'address': ['9910 Surrey <b>Avenue</b>','92 N. Bishop Avenue','9910 <br>Golden Star Avenue', '102 Dunbar <i></i>St.', '17 West Livingston Court']\n",
    "})\n",
    "\n",
    "print(\"Original df:\")\n",
    "print(df)\n",
    "\n",
    "def remove_tags(str):\n",
    "    result = re.sub(\"<.*?>\",\"\",str)\n",
    "    return result\n",
    "\n",
    "df['address'] = df['address'].apply(lambda x:remove_tags(x))\n",
    "print(\"\\n\\nDf without tags:\")\n",
    "print(df)"
   ]
  },
  {
   "cell_type": "code",
   "execution_count": 38,
   "metadata": {},
   "outputs": [
    {
     "name": "stdout",
     "output_type": "stream",
     "text": [
      "Original df:\n",
      "  company_code date_of_sale                   address\n",
      "0         Abcd   12/05/2002        9910 Surrey Avenue\n",
      "1         EFGF   16/02/1999       92 N. Bishop Avenue\n",
      "2      zefsalf   05/09/1998   9910 Golden Star Avenue\n",
      "3      sdfslew   12/02/2022            102 Dunbar St.\n",
      "4      zekfsdf   15/09/1997  17 West Livingston Court\n",
      "\n",
      "\n",
      "Df without tags:\n",
      "  company_code date_of_sale                    address\n",
      "0         Abcd   12/05/2002           [Surrey, Avenue]\n",
      "1         EFGF   16/02/1999           [Bishop, Avenue]\n",
      "2      zefsalf   05/09/1998     [Golden, Star, Avenue]\n",
      "3      sdfslew   12/02/2022               [Dunbar, St]\n",
      "4      zekfsdf   15/09/1997  [West, Livingston, Court]\n"
     ]
    }
   ],
   "source": [
    "# Write a Pandas program to extract words starting with capital words from a given column of a given DataFrame.\n",
    "\n",
    "df = pd.DataFrame({\n",
    "    'company_code': ['Abcd','EFGF', 'zefsalf', 'sdfslew', 'zekfsdf'],\n",
    "    'date_of_sale': ['12/05/2002','16/02/1999','05/09/1998','12/02/2022','15/09/1997'],\n",
    "    'address': ['9910 Surrey Avenue','92 N. Bishop Avenue','9910 Golden Star Avenue', '102 Dunbar St.', '17 West Livingston Court']\n",
    "})\n",
    "\n",
    "print(\"Original df:\")\n",
    "print(df)\n",
    "\n",
    "def capital_words(str):\n",
    "    result = re.findall(r'[A-Z]\\w+',str)\n",
    "    return result\n",
    "\n",
    "df['address'] = df['address'].apply(lambda x:capital_words(x))\n",
    "print(\"\\n\\nDf without tags:\")\n",
    "print(df)"
   ]
  },
  {
   "cell_type": "markdown",
   "metadata": {},
   "source": [
    "# Pandas Joining and merging DataFrame"
   ]
  },
  {
   "cell_type": "code",
   "execution_count": 55,
   "metadata": {},
   "outputs": [
    {
     "name": "stdout",
     "output_type": "stream",
     "text": [
      "Original DataFrames:\n",
      "  student_id              name  marks\n",
      "0         S1  Danniella Fenton    200\n",
      "1         S2      Ryder Storey    210\n",
      "2         S3      Bryce Jensen    190\n",
      "3         S4         Ed Bernal    222\n",
      "4         S5       Kwame Morin    199 \n",
      "\n",
      "   student_id              name  marks\n",
      "0         S4  Scarlette Fisher    201\n",
      "1         S5  Carla Williamson    200\n",
      "2         S6       Dante Morse    198\n",
      "3         S7    Kaiser William    219\n",
      "4         S8   Madeeha Preston    201\n",
      "\n",
      "Join the said two dataframes along rows:\n",
      "  student_id              name  marks\n",
      "0         S1  Danniella Fenton    200\n",
      "1         S2      Ryder Storey    210\n",
      "2         S3      Bryce Jensen    190\n",
      "3         S4         Ed Bernal    222\n",
      "4         S5       Kwame Morin    199\n",
      "0         S4  Scarlette Fisher    201\n",
      "1         S5  Carla Williamson    200\n",
      "2         S6       Dante Morse    198\n",
      "3         S7    Kaiser William    219\n",
      "4         S8   Madeeha Preston    201\n"
     ]
    }
   ],
   "source": [
    "# Write a Pandas program to join the two given dataframes along rows and assign all data.\n",
    "\n",
    "student_data1 = pd.DataFrame({\n",
    "        'student_id': ['S1', 'S2', 'S3', 'S4', 'S5'],\n",
    "         'name': ['Danniella Fenton', 'Ryder Storey', 'Bryce Jensen', 'Ed Bernal', 'Kwame Morin'], \n",
    "        'marks': [200, 210, 190, 222, 199]})\n",
    "\n",
    "student_data2 = pd.DataFrame({\n",
    "        'student_id': ['S4', 'S5', 'S6', 'S7', 'S8'],\n",
    "        'name': ['Scarlette Fisher', 'Carla Williamson', 'Dante Morse', 'Kaiser William', 'Madeeha Preston'], \n",
    "        'marks': [201, 200, 198, 219, 201]})\n",
    "\n",
    "print(\"Original DataFrames:\")\n",
    "print(student_data1,\"\\n\\n\",student_data2)\n",
    "\n",
    "print(\"\\nJoin the said two dataframes along rows:\")\n",
    "result_data = pd.concat([student_data1, student_data2])\n",
    "print(result_data)"
   ]
  },
  {
   "cell_type": "code",
   "execution_count": 56,
   "metadata": {},
   "outputs": [
    {
     "name": "stdout",
     "output_type": "stream",
     "text": [
      "\n",
      "Join the said two dataframes along columns:\n",
      "  student_id              name  marks student_id              name  marks\n",
      "0         S1  Danniella Fenton    200         S4  Scarlette Fisher    201\n",
      "1         S2      Ryder Storey    210         S5  Carla Williamson    200\n",
      "2         S3      Bryce Jensen    190         S6       Dante Morse    198\n",
      "3         S4         Ed Bernal    222         S7    Kaiser William    219\n",
      "4         S5       Kwame Morin    199         S8   Madeeha Preston    201\n"
     ]
    }
   ],
   "source": [
    "# Write a Pandas program to join the two given dataframes along columns and assign all data.\n",
    "\n",
    "print(\"\\nJoin the said two dataframes along columns:\")\n",
    "result_data = pd.concat([student_data1, student_data2],axis=1)\n",
    "print(result_data)"
   ]
  },
  {
   "cell_type": "code",
   "execution_count": 42,
   "metadata": {},
   "outputs": [
    {
     "name": "stdout",
     "output_type": "stream",
     "text": [
      "Original dataframes:\n",
      "     A  B\n",
      "0  NaN  3\n",
      "1  0.0  4\n",
      "2  NaN  5 \n",
      "\n",
      "    A    B\n",
      "0  1  3.0\n",
      "1  1  NaN\n",
      "2  3  3.0\n",
      "\n",
      "\n",
      "Combining df1 with df2:\n",
      "     A    B\n",
      "0  1.0  3.0\n",
      "1  0.0  4.0\n",
      "2  3.0  5.0\n",
      "\n",
      "\n",
      "Combining df2 with df1:\n",
      "     A    B\n",
      "0  1.0  3.0\n",
      "1  1.0  4.0\n",
      "2  3.0  3.0\n"
     ]
    }
   ],
   "source": [
    "# Write a Pandas program to Combine two DataFrame objects by filling\n",
    "# null values in one DataFrame with non-null values from other DataFrame.\n",
    "\n",
    "df1 = pd.DataFrame({'A': [None, 0, None], 'B': [3, 4, 5]})\n",
    "df2 = pd.DataFrame({'A': [1, 1, 3], 'B': [3, None, 3]})\n",
    "\n",
    "print(\"Original dataframes:\")\n",
    "print(df1,\"\\n\\n\",df2)\n",
    "\n",
    "ans1 = df1.combine_first(df2)\n",
    "print(\"\\n\\nCombining df1 with df2:\")\n",
    "print(ans1)\n",
    "\n",
    "ans2 = df2.combine_first(df1)\n",
    "print(\"\\n\\nCombining df2 with df1:\")\n",
    "print(ans2)"
   ]
  },
  {
   "cell_type": "code",
   "execution_count": 48,
   "metadata": {},
   "outputs": [
    {
     "name": "stdout",
     "output_type": "stream",
     "text": [
      "Original dataframes:\n",
      "  key1 key2   P   Q\n",
      "0   K0   K0  P0  Q0\n",
      "1   K0   K1  P1  Q1\n",
      "2   K1   K0  P2  Q2\n",
      "3   K2   K1  P3  Q3 \n",
      "\n",
      "   key1 key2   R   S\n",
      "0   K0   K0  R0  S0\n",
      "1   K1   K0  R1  S1\n",
      "2   K1   K0  R2  S2\n",
      "3   K2   K0  R3  S3\n",
      "\n",
      "\n",
      "After combining two dataframes:\n",
      "   key1 key2    P    Q    R    S\n",
      "0   K0   K0   P0   Q0  NaN  NaN\n",
      "1   K0   K1   P1   Q1  NaN  NaN\n",
      "2   K1   K0   P2   Q2  NaN  NaN\n",
      "3   K2   K1   P3   Q3  NaN  NaN\n",
      "0   K0   K0  NaN  NaN   R0   S0\n",
      "1   K1   K0  NaN  NaN   R1   S1\n",
      "2   K1   K0  NaN  NaN   R2   S2\n",
      "3   K2   K0  NaN  NaN   R3   S3\n"
     ]
    }
   ],
   "source": [
    "# Write a Pandas program to merge two given dataframes with different columns.\n",
    "\n",
    "data1 = pd.DataFrame({'key1': ['K0', 'K0', 'K1', 'K2'],\n",
    "                     'key2': ['K0', 'K1', 'K0', 'K1'],\n",
    "                     'P': ['P0', 'P1', 'P2', 'P3'],\n",
    "                     'Q': ['Q0', 'Q1', 'Q2', 'Q3']}) \n",
    "data2 = pd.DataFrame({'key1': ['K0', 'K1', 'K1', 'K2'],\n",
    "                      'key2': ['K0', 'K0', 'K0', 'K0'],\n",
    "                      'R': ['R0', 'R1', 'R2', 'R3'],\n",
    "                      'S': ['S0', 'S1', 'S2', 'S3']})\n",
    "\n",
    "print(\"Original dataframes:\")\n",
    "print(data1,\"\\n\\n\",data2)\n",
    "\n",
    "ans = pd.concat([data1,data2],axis=0)\n",
    "print(\"\\n\\nAfter combining two dataframes:\\n\",ans)"
   ]
  },
  {
   "cell_type": "markdown",
   "metadata": {},
   "source": [
    "# Grouping and Aggregating"
   ]
  },
  {
   "cell_type": "code",
   "execution_count": 51,
   "metadata": {},
   "outputs": [
    {
     "name": "stdout",
     "output_type": "stream",
     "text": [
      "\n",
      "Group:\n",
      "(5001, 3001)\n",
      "    ord_no  purch_amt    ord_date  customer_id  salesman_id\n",
      "2    70002      65.26  2012-10-05         3001         5001\n",
      "6    70008    5760.00  2012-09-10         3001         5001\n",
      "11   70013    3045.60  2012-04-25         3001         5001\n",
      "\n",
      "Group:\n",
      "(5001, 3002)\n",
      "   ord_no  purch_amt    ord_date  customer_id  salesman_id\n",
      "5   70005     2400.6  2012-07-27         3002         5001\n",
      "\n",
      "Group:\n",
      "(5002, 3002)\n",
      "   ord_no  purch_amt    ord_date  customer_id  salesman_id\n",
      "0   70001     150.50  2012-10-05         3002         5002\n",
      "4   70007     948.50  2012-09-10         3002         5002\n",
      "9   70012     250.45  2012-06-27         3002         5002\n",
      "\n",
      "Group:\n",
      "(5003, 3001)\n",
      "   ord_no  purch_amt    ord_date  customer_id  salesman_id\n",
      "1   70009     270.65  2012-09-10         3001         5003\n",
      "\n",
      "Group:\n",
      "(5003, 3003)\n",
      "    ord_no  purch_amt    ord_date  customer_id  salesman_id\n",
      "3    70004     110.50  2012-08-17         3003         5003\n",
      "8    70003    2480.40  2012-10-10         3003         5003\n",
      "10   70011      75.29  2012-08-17         3003         5003\n",
      "\n",
      "Group:\n",
      "(5003, 3004)\n",
      "   ord_no  purch_amt    ord_date  customer_id  salesman_id\n",
      "7   70010    1983.43  2012-10-10         3004         5003\n",
      "\n",
      "\n",
      "After droping 2 rows:\n",
      "   ord_no  purch_amt    ord_date  customer_id  salesman_id\n",
      "0   70001     150.50  2012-10-05         3002         5002\n",
      "2   70002      65.26  2012-10-05         3001         5001\n",
      "3   70004     110.50  2012-08-17         3003         5003\n"
     ]
    }
   ],
   "source": [
    "#  Write a  Pandas program to split a given dataset using group by on multiple columns and drop last n rows of from each group.\n",
    "\n",
    "df = pd.DataFrame({\n",
    "'ord_no':[70001,70009,70002,70004,70007,70005,70008,70010,70003,70012,70011,70013],\n",
    "'purch_amt':[150.5,270.65,65.26,110.5,948.5,2400.6,5760,1983.43,2480.4,250.45, 75.29,3045.6],\n",
    "'ord_date': ['2012-10-05','2012-09-10','2012-10-05','2012-08-17','2012-09-10','2012-07-27','2012-09-10','2012-10-10','2012-10-10','2012-06-27','2012-08-17','2012-04-25'],\n",
    "'customer_id':[3002,3001,3001,3003,3002,3002,3001,3004,3003,3002,3003,3001],\n",
    "'salesman_id':[5002,5003,5001,5003,5002,5001,5001,5003,5003,5002,5003,5001]})\n",
    "\n",
    "# print(\"Original dataframe:\")\n",
    "# print(df)\n",
    "\n",
    "result = df.groupby(['salesman_id','customer_id'])\n",
    "\n",
    "for i,j in result:\n",
    "    print(\"\\nGroup:\")\n",
    "    print(i)\n",
    "    print(j)\n",
    "\n",
    "n = 2\n",
    "\n",
    "ans = df.drop(result.tail(n).index, axis=0)\n",
    "print(f\"\\n\\nAfter droping {n} rows:\")\n",
    "print(ans)"
   ]
  },
  {
   "cell_type": "code",
   "execution_count": 54,
   "metadata": {},
   "outputs": [
    {
     "name": "stdout",
     "output_type": "stream",
     "text": [
      "salesman_id\n",
      "5001    70002\n",
      "5002    70001\n",
      "5003    70003\n",
      "5004    70010\n",
      "5005    70009\n",
      "Name: ord_no, dtype: int64\n"
     ]
    }
   ],
   "source": [
    "# Write a Pandas program to split the following dataset using group by on 'salesman_id' \n",
    "# and find the first order date for each group.\n",
    "\n",
    "\n",
    "df = pd.DataFrame({\n",
    "'ord_no':[70001,70009,70002,70004,70007,70005,70008,70010,70003,70012,70011,70013],\n",
    "'purch_amt':[150.5,270.65,65.26,110.5,948.5,2400.6,5760,1983.43,2480.4,250.45, 75.29,3045.6],\n",
    "'ord_date': ['2012-10-05','2012-09-10','2012-10-05','2012-08-17','2012-09-10','2012-07-27','2012-09-10','2012-10-10','2012-10-10','2012-06-27','2012-08-17','2012-04-25'],\n",
    "'customer_id':[3005,3001,3002,3009,3005,3007,3002,3004,3009,3008,3003,3002],\n",
    "'salesman_id': [5002,5005,5001,5003,5002,5001,5001,5004,5003,5002,5004,5001]})\n",
    "\n",
    "ans = df.groupby('salesman_id')['ord_no'].min()\n",
    "print(ans)"
   ]
  },
  {
   "cell_type": "markdown",
   "metadata": {},
   "source": [
    "# Time Series"
   ]
  },
  {
   "cell_type": "code",
   "execution_count": 65,
   "metadata": {},
   "outputs": [
    {
     "name": "stdout",
     "output_type": "stream",
     "text": [
      "Holidays between 1st jan 2025 to 31st Dec 2025:\n",
      "2025-01-01 00:00:00\n",
      "2025-01-20 00:00:00\n",
      "2025-02-17 00:00:00\n",
      "2025-05-26 00:00:00\n",
      "2025-06-19 00:00:00\n",
      "2025-07-04 00:00:00\n",
      "2025-09-01 00:00:00\n",
      "2025-10-13 00:00:00\n",
      "2025-11-11 00:00:00\n",
      "2025-11-27 00:00:00\n",
      "2025-12-25 00:00:00\n"
     ]
    }
   ],
   "source": [
    "# Write a Pandas program to generate holidays between two dates using the US federal holiday calendar.\n",
    "\n",
    "import pandas as pd\n",
    "from pandas.tseries.holiday import USFederalHolidayCalendar\n",
    "from datetime import datetime\n",
    "\n",
    "s_date = datetime(2025,1,1)\n",
    "e_date = datetime(2025,12,31)\n",
    "\n",
    "print(\"Holidays between 1st jan 2025 to 31st Dec 2025:\")\n",
    "cal = USFederalHolidayCalendar()\n",
    "for i in cal.holidays(start=s_date,end=e_date):\n",
    "    print(i)"
   ]
  },
  {
   "cell_type": "code",
   "execution_count": 69,
   "metadata": {},
   "outputs": [
    {
     "name": "stdout",
     "output_type": "stream",
     "text": [
      "Specified date:\n",
      "2025-01-11 00:00:00\n",
      "\n",
      "One business day from the said date:\n",
      "2025-01-13 00:00:00\n",
      "\n",
      "Two business days from the said date:\n",
      "2025-01-14 00:00:00\n",
      "\n",
      "Three business days from the said date:\n",
      "2025-01-15 00:00:00\n",
      "\n",
      "Next business month end from the said date:\n",
      "2025-01-31 00:00:00\n"
     ]
    }
   ],
   "source": [
    "# Write a Pandas program to calculate one, two, three business day(s) from a specified date. \n",
    "# Also find the next business month end from a specific date.\n",
    "\n",
    "from pandas.tseries.offsets import *\n",
    "import datetime\n",
    "from datetime import datetime\n",
    "\n",
    "dt = datetime(2025, 1, 11)\n",
    "print(\"Specified date:\")\n",
    "print(dt)\n",
    "\n",
    "print(\"\\nOne business day from the said date:\")\n",
    "obday = dt + BusinessDay()\n",
    "print(obday)\n",
    "\n",
    "print(\"\\nTwo business days from the said date:\")\n",
    "tbday = dt + 2 * BusinessDay()\n",
    "print(tbday)\n",
    "\n",
    "print(\"\\nThree business days from the said date:\")\n",
    "thbday = dt + 3 * BusinessDay()\n",
    "print(thbday)\n",
    "\n",
    "print(\"\\nNext business month end from the said date:\")\n",
    "nbday = dt + BMonthEnd()\n",
    "print(nbday)\n"
   ]
  },
  {
   "cell_type": "markdown",
   "metadata": {},
   "source": [
    "# Handling Missing Values"
   ]
  },
  {
   "cell_type": "code",
   "execution_count": 74,
   "metadata": {},
   "outputs": [
    {
     "data": {
      "image/png": "[encoded data removed]",
      "text/plain": [
       "<Figure size 500x300 with 2 Axes>"
      ]
     },
     "metadata": {},
     "output_type": "display_data"
    }
   ],
   "source": [
    "# Write a Pandas program to create a hitmap for more information about the distribution of missing values in a given DataFrame.\n",
    "\n",
    "import numpy as np\n",
    "import seaborn as sns\n",
    "import matplotlib.pyplot as plt\n",
    "\n",
    "df = pd.DataFrame({\n",
    "'ord_no':[70001,np.nan,70002,70004,np.nan,70005,np.nan,70010,70003,70012,np.nan,70013],\n",
    "'purch_amt':[150.5,np.nan,65.26,110.5,948.5,np.nan,5760,1983.43,np.nan,250.45, 75.29,3045.6],\n",
    "'sale_amt':[10.5,20.65,np.nan,11.5,98.5,np.nan,57,19.43,np.nan,25.45, 75.29,35.6],\n",
    "'ord_date': ['2012-10-05','2012-09-10',np.nan,'2012-08-17','2012-09-10','2012-07-27','2012-09-10','2012-10-10','2012-10-10','2012-06-27','2012-08-17','2012-04-25'],\n",
    "'customer_id':[3002,3001,3001,3003,3002,3001,3001,3004,3003,3002,3001,3001],\n",
    "'salesman_id':[5002,5003,5001,np.nan,5002,5001,5001,np.nan,5003,5002,5003,np.nan]})\n",
    "\n",
    "plt.figure(figsize=(5,3))\n",
    "\n",
    "sns.heatmap(df.isnull(), cbar=True, cmap=\"YlGnBu\")\n",
    "\n",
    "plt.show()\n"
   ]
  },
  {
   "cell_type": "code",
   "execution_count": 82,
   "metadata": {},
   "outputs": [
    {
     "name": "stdout",
     "output_type": "stream",
     "text": [
      "\n",
      "\n",
      "After updating NaN values:\n",
      "     ord_no  purch_amt  sale_amt    ord_date  customer_id  salesman_id\n",
      "0   70001.0     150.50     10.50  2012-10-05         3002       5002.0\n",
      "1   70001.0      65.26     20.65  2012-09-10         3001       5003.0\n",
      "2   70002.0      65.26     10.50  2012-09-10         3001       5001.0\n",
      "3   70004.0     110.50     11.50  2012-08-17         3003       5001.0\n",
      "4   70001.0     948.50     98.50  2012-09-10         3002       5002.0\n",
      "5   70005.0      65.26     10.50  2012-07-27         3001       5001.0\n",
      "6   70001.0    5760.00     57.00  2012-09-10         3001       5001.0\n",
      "7   70010.0    1983.43     19.43  2012-10-10         3004       5001.0\n",
      "8   70003.0      65.26     10.50  2012-10-10         3003       5003.0\n",
      "9   70012.0     250.45     25.45  2012-06-27         3002       5002.0\n",
      "10  70001.0      75.29     75.29  2012-08-17         3001       5003.0\n",
      "11  70013.0    3045.60     35.60  2012-04-25         3001       5001.0\n"
     ]
    }
   ],
   "source": [
    "#  Write a Pandas program to replace the missing values with the most frequent values present in each column of a given DataFrame.\n",
    "\n",
    "result = df.fillna(df.mode().iloc[0])\n",
    "print(\"\\n\\nAfter updating NaN values:\")\n",
    "print(result)"
   ]
  },
  {
   "cell_type": "markdown",
   "metadata": {},
   "source": [
    "# Style"
   ]
  },
  {
   "cell_type": "code",
   "execution_count": 84,
   "metadata": {},
   "outputs": [
    {
     "name": "stdout",
     "output_type": "stream",
     "text": [
      "\n",
      "Bar charts in dataframe:\n"
     ]
    },
    {
     "data": {
      "text/html": [
       "<style type=\"text/css\">\n",
       "#T_99a36_row0_col1 {\n",
       "  width: 10em;\n",
       "  background: linear-gradient(90deg, transparent 49.1%, #d65f5f 49.1%, #d65f5f 89.2%, transparent 89.2%);\n",
       "}\n",
       "#T_99a36_row0_col2, #T_99a36_row4_col1 {\n",
       "  width: 10em;\n",
       "}\n",
       "#T_99a36_row1_col1 {\n",
       "  width: 10em;\n",
       "  background: linear-gradient(90deg, transparent 16.8%, #d65f5f 16.8%, #d65f5f 49.1%, transparent 49.1%);\n",
       "}\n",
       "#T_99a36_row1_col2 {\n",
       "  width: 10em;\n",
       "  background: linear-gradient(90deg, #d65f5f 54.4%, transparent 54.4%);\n",
       "}\n",
       "#T_99a36_row2_col1 {\n",
       "  width: 10em;\n",
       "  background: linear-gradient(90deg, #d65f5f 49.1%, transparent 49.1%);\n",
       "}\n",
       "#T_99a36_row2_col2 {\n",
       "  width: 10em;\n",
       "  background: linear-gradient(90deg, transparent 54.4%, #d65f5f 54.4%, #d65f5f 62.7%, transparent 62.7%);\n",
       "}\n",
       "#T_99a36_row3_col1 {\n",
       "  width: 10em;\n",
       "  background: linear-gradient(90deg, transparent 49.1%, #d65f5f 49.1%, #d65f5f 78.1%, transparent 78.1%);\n",
       "}\n",
       "#T_99a36_row3_col2 {\n",
       "  width: 10em;\n",
       "  background: linear-gradient(90deg, transparent 54.4%, #d65f5f 54.4%, #d65f5f 58.3%, transparent 58.3%);\n",
       "}\n",
       "#T_99a36_row4_col2 {\n",
       "  width: 10em;\n",
       "  background: linear-gradient(90deg, transparent 54.4%, #d65f5f 54.4%, #d65f5f 94.3%, transparent 94.3%);\n",
       "}\n",
       "#T_99a36_row5_col1 {\n",
       "  width: 10em;\n",
       "  background: linear-gradient(90deg, transparent 8.7%, #d65f5f 8.7%, #d65f5f 49.1%, transparent 49.1%);\n",
       "}\n",
       "#T_99a36_row5_col2 {\n",
       "  width: 10em;\n",
       "  background: linear-gradient(90deg, transparent 54.4%, #d65f5f 54.4%, #d65f5f 75.6%, transparent 75.6%);\n",
       "}\n",
       "#T_99a36_row6_col1 {\n",
       "  width: 10em;\n",
       "  background: linear-gradient(90deg, transparent 49.1%, #d65f5f 49.1%, #d65f5f 52.8%, transparent 52.8%);\n",
       "}\n",
       "#T_99a36_row6_col2 {\n",
       "  width: 10em;\n",
       "  background: linear-gradient(90deg, transparent 54.4%, #d65f5f 54.4%, #d65f5f 100.0%, transparent 100.0%);\n",
       "}\n",
       "#T_99a36_row7_col1 {\n",
       "  width: 10em;\n",
       "  background: linear-gradient(90deg, transparent 49.1%, #d65f5f 49.1%, #d65f5f 59.8%, transparent 59.8%);\n",
       "}\n",
       "#T_99a36_row7_col2 {\n",
       "  width: 10em;\n",
       "  background: linear-gradient(90deg, transparent 54.4%, #d65f5f 54.4%, #d65f5f 93.6%, transparent 93.6%);\n",
       "}\n",
       "#T_99a36_row8_col1 {\n",
       "  width: 10em;\n",
       "  background: linear-gradient(90deg, transparent 49.1%, #d65f5f 49.1%, #d65f5f 100.0%, transparent 100.0%);\n",
       "}\n",
       "#T_99a36_row8_col2 {\n",
       "  width: 10em;\n",
       "  background: linear-gradient(90deg, transparent 4.3%, #d65f5f 4.3%, #d65f5f 54.4%, transparent 54.4%);\n",
       "}\n",
       "#T_99a36_row9_col1 {\n",
       "  width: 10em;\n",
       "  background: linear-gradient(90deg, transparent 45.2%, #d65f5f 45.2%, #d65f5f 49.1%, transparent 49.1%);\n",
       "}\n",
       "#T_99a36_row9_col2 {\n",
       "  width: 10em;\n",
       "  background: linear-gradient(90deg, transparent 54.4%, #d65f5f 54.4%, #d65f5f 78.2%, transparent 78.2%);\n",
       "}\n",
       "</style>\n",
       "<table id=\"T_99a36\">\n",
       "  <thead>\n",
       "    <tr>\n",
       "      <th class=\"blank level0\" >&nbsp;</th>\n",
       "      <th id=\"T_99a36_level0_col0\" class=\"col_heading level0 col0\" >A</th>\n",
       "      <th id=\"T_99a36_level0_col1\" class=\"col_heading level0 col1\" >B</th>\n",
       "      <th id=\"T_99a36_level0_col2\" class=\"col_heading level0 col2\" >C</th>\n",
       "      <th id=\"T_99a36_level0_col3\" class=\"col_heading level0 col3\" >D</th>\n",
       "      <th id=\"T_99a36_level0_col4\" class=\"col_heading level0 col4\" >E</th>\n",
       "    </tr>\n",
       "  </thead>\n",
       "  <tbody>\n",
       "    <tr>\n",
       "      <th id=\"T_99a36_level0_row0\" class=\"row_heading level0 row0\" >0</th>\n",
       "      <td id=\"T_99a36_row0_col0\" class=\"data row0 col0\" >1.000000</td>\n",
       "      <td id=\"T_99a36_row0_col1\" class=\"data row0 col1\" >1.329212</td>\n",
       "      <td id=\"T_99a36_row0_col2\" class=\"data row0 col2\" >nan</td>\n",
       "      <td id=\"T_99a36_row0_col3\" class=\"data row0 col3\" >-0.316280</td>\n",
       "      <td id=\"T_99a36_row0_col4\" class=\"data row0 col4\" >-0.990810</td>\n",
       "    </tr>\n",
       "    <tr>\n",
       "      <th id=\"T_99a36_level0_row1\" class=\"row_heading level0 row1\" >1</th>\n",
       "      <td id=\"T_99a36_row1_col0\" class=\"data row1 col0\" >2.000000</td>\n",
       "      <td id=\"T_99a36_row1_col1\" class=\"data row1 col1\" >-1.070816</td>\n",
       "      <td id=\"T_99a36_row1_col2\" class=\"data row1 col2\" >-1.438713</td>\n",
       "      <td id=\"T_99a36_row1_col3\" class=\"data row1 col3\" >0.564417</td>\n",
       "      <td id=\"T_99a36_row1_col4\" class=\"data row1 col4\" >0.295722</td>\n",
       "    </tr>\n",
       "    <tr>\n",
       "      <th id=\"T_99a36_level0_row2\" class=\"row_heading level0 row2\" >2</th>\n",
       "      <td id=\"T_99a36_row2_col0\" class=\"data row2 col0\" >3.000000</td>\n",
       "      <td id=\"T_99a36_row2_col1\" class=\"data row2 col1\" >-1.626404</td>\n",
       "      <td id=\"T_99a36_row2_col2\" class=\"data row2 col2\" >0.219565</td>\n",
       "      <td id=\"T_99a36_row2_col3\" class=\"data row2 col3\" >0.678805</td>\n",
       "      <td id=\"T_99a36_row2_col4\" class=\"data row2 col4\" >1.889273</td>\n",
       "    </tr>\n",
       "    <tr>\n",
       "      <th id=\"T_99a36_level0_row3\" class=\"row_heading level0 row3\" >3</th>\n",
       "      <td id=\"T_99a36_row3_col0\" class=\"data row3 col0\" >4.000000</td>\n",
       "      <td id=\"T_99a36_row3_col1\" class=\"data row3 col1\" >0.961538</td>\n",
       "      <td id=\"T_99a36_row3_col2\" class=\"data row3 col2\" >0.104011</td>\n",
       "      <td id=\"T_99a36_row3_col3\" class=\"data row3 col3\" >nan</td>\n",
       "      <td id=\"T_99a36_row3_col4\" class=\"data row3 col4\" >0.850229</td>\n",
       "    </tr>\n",
       "    <tr>\n",
       "      <th id=\"T_99a36_level0_row4\" class=\"row_heading level0 row4\" >4</th>\n",
       "      <td id=\"T_99a36_row4_col0\" class=\"data row4 col0\" >5.000000</td>\n",
       "      <td id=\"T_99a36_row4_col1\" class=\"data row4 col1\" >nan</td>\n",
       "      <td id=\"T_99a36_row4_col2\" class=\"data row4 col2\" >1.057737</td>\n",
       "      <td id=\"T_99a36_row4_col3\" class=\"data row4 col3\" >0.165562</td>\n",
       "      <td id=\"T_99a36_row4_col4\" class=\"data row4 col4\" >0.515018</td>\n",
       "    </tr>\n",
       "    <tr>\n",
       "      <th id=\"T_99a36_level0_row5\" class=\"row_heading level0 row5\" >5</th>\n",
       "      <td id=\"T_99a36_row5_col0\" class=\"data row5 col0\" >6.000000</td>\n",
       "      <td id=\"T_99a36_row5_col1\" class=\"data row5 col1\" >-1.336936</td>\n",
       "      <td id=\"T_99a36_row5_col2\" class=\"data row5 col2\" >0.562861</td>\n",
       "      <td id=\"T_99a36_row5_col3\" class=\"data row5 col3\" >1.392855</td>\n",
       "      <td id=\"T_99a36_row5_col4\" class=\"data row5 col4\" >-0.063328</td>\n",
       "    </tr>\n",
       "    <tr>\n",
       "      <th id=\"T_99a36_level0_row6\" class=\"row_heading level0 row6\" >6</th>\n",
       "      <td id=\"T_99a36_row6_col0\" class=\"data row6 col0\" >7.000000</td>\n",
       "      <td id=\"T_99a36_row6_col1\" class=\"data row6 col1\" >0.121668</td>\n",
       "      <td id=\"T_99a36_row6_col2\" class=\"data row6 col2\" >1.207603</td>\n",
       "      <td id=\"T_99a36_row6_col3\" class=\"data row6 col3\" >-0.002040</td>\n",
       "      <td id=\"T_99a36_row6_col4\" class=\"data row6 col4\" >1.627796</td>\n",
       "    </tr>\n",
       "    <tr>\n",
       "      <th id=\"T_99a36_level0_row7\" class=\"row_heading level0 row7\" >7</th>\n",
       "      <td id=\"T_99a36_row7_col0\" class=\"data row7 col0\" >8.000000</td>\n",
       "      <td id=\"T_99a36_row7_col1\" class=\"data row7 col1\" >0.354493</td>\n",
       "      <td id=\"T_99a36_row7_col2\" class=\"data row7 col2\" >1.037528</td>\n",
       "      <td id=\"T_99a36_row7_col3\" class=\"data row7 col3\" >-0.385684</td>\n",
       "      <td id=\"T_99a36_row7_col4\" class=\"data row7 col4\" >0.519818</td>\n",
       "    </tr>\n",
       "    <tr>\n",
       "      <th id=\"T_99a36_level0_row8\" class=\"row_heading level0 row8\" >8</th>\n",
       "      <td id=\"T_99a36_row8_col0\" class=\"data row8 col0\" >9.000000</td>\n",
       "      <td id=\"T_99a36_row8_col1\" class=\"data row8 col1\" >1.686583</td>\n",
       "      <td id=\"T_99a36_row8_col2\" class=\"data row8 col2\" >-1.325963</td>\n",
       "      <td id=\"T_99a36_row8_col3\" class=\"data row8 col3\" >1.428984</td>\n",
       "      <td id=\"T_99a36_row8_col4\" class=\"data row8 col4\" >-2.089354</td>\n",
       "    </tr>\n",
       "    <tr>\n",
       "      <th id=\"T_99a36_level0_row9\" class=\"row_heading level0 row9\" >9</th>\n",
       "      <td id=\"T_99a36_row9_col0\" class=\"data row9 col0\" >10.000000</td>\n",
       "      <td id=\"T_99a36_row9_col1\" class=\"data row9 col1\" >-0.129820</td>\n",
       "      <td id=\"T_99a36_row9_col2\" class=\"data row9 col2\" >0.631523</td>\n",
       "      <td id=\"T_99a36_row9_col3\" class=\"data row9 col3\" >-0.586538</td>\n",
       "      <td id=\"T_99a36_row9_col4\" class=\"data row9 col4\" >nan</td>\n",
       "    </tr>\n",
       "  </tbody>\n",
       "</table>\n"
      ],
      "text/plain": [
       "<pandas.io.formats.style.Styler at 0x210e4e68bc0>"
      ]
     },
     "execution_count": 84,
     "metadata": {},
     "output_type": "execute_result"
    }
   ],
   "source": [
    "# Create a dataframe of ten rows, four columns with random values. \n",
    "# Write a Pandas program to display bar charts in dataframe on specified columns.\n",
    "\n",
    "np.random.seed(24)\n",
    "\n",
    "df = pd.DataFrame({'A': np.linspace(1, 10, 10)})\n",
    "df = pd.concat([df, pd.DataFrame(np.random.randn(10, 4), columns=list('BCDE'))],axis=1)\n",
    "\n",
    "df.iloc[0, 2] = np.nan\n",
    "df.iloc[3, 3] = np.nan\n",
    "df.iloc[4, 1] = np.nan\n",
    "df.iloc[9, 4] = np.nan\n",
    "\n",
    "print(\"\\nBar charts in dataframe:\")\n",
    "df.style.bar(subset=['B', 'C'], color='#d65f5f')\n"
   ]
  },
  {
   "cell_type": "code",
   "execution_count": 90,
   "metadata": {},
   "outputs": [
    {
     "data": {
      "text/html": [
       "<style type=\"text/css\">\n",
       "#T_ac5c4_row0_col0, #T_ac5c4_row1_col2, #T_ac5c4_row2_col1, #T_ac5c4_row8_col4, #T_ac5c4_row9_col3 {\n",
       "  background-color: #fff7fb;\n",
       "  color: #000000;\n",
       "}\n",
       "#T_ac5c4_row0_col1 {\n",
       "  background-color: #045585;\n",
       "  color: #f1f1f1;\n",
       "}\n",
       "#T_ac5c4_row0_col2, #T_ac5c4_row3_col3, #T_ac5c4_row4_col1, #T_ac5c4_row9_col4 {\n",
       "  background-color: #000000;\n",
       "  color: #f1f1f1;\n",
       "}\n",
       "#T_ac5c4_row0_col3 {\n",
       "  background-color: #eae6f1;\n",
       "  color: #000000;\n",
       "}\n",
       "#T_ac5c4_row0_col4 {\n",
       "  background-color: #c8cde4;\n",
       "  color: #000000;\n",
       "}\n",
       "#T_ac5c4_row1_col0 {\n",
       "  background-color: #eee9f3;\n",
       "  color: #000000;\n",
       "}\n",
       "#T_ac5c4_row1_col1 {\n",
       "  background-color: #e3e0ee;\n",
       "  color: #000000;\n",
       "}\n",
       "#T_ac5c4_row1_col3 {\n",
       "  background-color: #509ac6;\n",
       "  color: #f1f1f1;\n",
       "}\n",
       "#T_ac5c4_row1_col4, #T_ac5c4_row7_col1 {\n",
       "  background-color: #4295c3;\n",
       "  color: #f1f1f1;\n",
       "}\n",
       "#T_ac5c4_row2_col0 {\n",
       "  background-color: #d7d6e9;\n",
       "  color: #000000;\n",
       "}\n",
       "#T_ac5c4_row2_col2, #T_ac5c4_row2_col3 {\n",
       "  background-color: #358fc0;\n",
       "  color: #f1f1f1;\n",
       "}\n",
       "#T_ac5c4_row2_col4, #T_ac5c4_row6_col2, #T_ac5c4_row8_col1, #T_ac5c4_row8_col3, #T_ac5c4_row9_col0 {\n",
       "  background-color: #023858;\n",
       "  color: #f1f1f1;\n",
       "}\n",
       "#T_ac5c4_row3_col0 {\n",
       "  background-color: #b4c4df;\n",
       "  color: #000000;\n",
       "}\n",
       "#T_ac5c4_row3_col1, #T_ac5c4_row7_col0 {\n",
       "  background-color: #056ba7;\n",
       "  color: #f1f1f1;\n",
       "}\n",
       "#T_ac5c4_row3_col2 {\n",
       "  background-color: #4a98c5;\n",
       "  color: #f1f1f1;\n",
       "}\n",
       "#T_ac5c4_row3_col4 {\n",
       "  background-color: #0872b1;\n",
       "  color: #f1f1f1;\n",
       "}\n",
       "#T_ac5c4_row4_col0 {\n",
       "  background-color: #8bb2d4;\n",
       "  color: #000000;\n",
       "}\n",
       "#T_ac5c4_row4_col2 {\n",
       "  background-color: #03476f;\n",
       "  color: #f1f1f1;\n",
       "}\n",
       "#T_ac5c4_row4_col3 {\n",
       "  background-color: #a7bddb;\n",
       "  color: #000000;\n",
       "}\n",
       "#T_ac5c4_row4_col4, #T_ac5c4_row7_col4 {\n",
       "  background-color: #2a88bc;\n",
       "  color: #f1f1f1;\n",
       "}\n",
       "#T_ac5c4_row5_col0 {\n",
       "  background-color: #589ec8;\n",
       "  color: #f1f1f1;\n",
       "}\n",
       "#T_ac5c4_row5_col1 {\n",
       "  background-color: #f2ecf5;\n",
       "  color: #000000;\n",
       "}\n",
       "#T_ac5c4_row5_col2 {\n",
       "  background-color: #056fae;\n",
       "  color: #f1f1f1;\n",
       "}\n",
       "#T_ac5c4_row5_col3 {\n",
       "  background-color: #023c5f;\n",
       "  color: #f1f1f1;\n",
       "}\n",
       "#T_ac5c4_row5_col4 {\n",
       "  background-color: #6fa7ce;\n",
       "  color: #f1f1f1;\n",
       "}\n",
       "#T_ac5c4_row6_col0 {\n",
       "  background-color: #2685bb;\n",
       "  color: #f1f1f1;\n",
       "}\n",
       "#T_ac5c4_row6_col1 {\n",
       "  background-color: #65a3cb;\n",
       "  color: #f1f1f1;\n",
       "}\n",
       "#T_ac5c4_row6_col3 {\n",
       "  background-color: #c2cbe2;\n",
       "  color: #000000;\n",
       "}\n",
       "#T_ac5c4_row6_col4, #T_ac5c4_row7_col2 {\n",
       "  background-color: #034973;\n",
       "  color: #f1f1f1;\n",
       "}\n",
       "#T_ac5c4_row7_col3 {\n",
       "  background-color: #f0eaf4;\n",
       "  color: #000000;\n",
       "}\n",
       "#T_ac5c4_row8_col0 {\n",
       "  background-color: #045687;\n",
       "  color: #f1f1f1;\n",
       "}\n",
       "#T_ac5c4_row8_col2 {\n",
       "  background-color: #f9f2f8;\n",
       "  color: #000000;\n",
       "}\n",
       "#T_ac5c4_row9_col1 {\n",
       "  background-color: #88b1d4;\n",
       "  color: #000000;\n",
       "}\n",
       "#T_ac5c4_row9_col2 {\n",
       "  background-color: #056aa6;\n",
       "  color: #f1f1f1;\n",
       "}\n",
       "</style>\n",
       "<table id=\"T_ac5c4\">\n",
       "  <thead>\n",
       "    <tr>\n",
       "      <th class=\"blank level0\" >&nbsp;</th>\n",
       "      <th id=\"T_ac5c4_level0_col0\" class=\"col_heading level0 col0\" >A</th>\n",
       "      <th id=\"T_ac5c4_level0_col1\" class=\"col_heading level0 col1\" >B</th>\n",
       "      <th id=\"T_ac5c4_level0_col2\" class=\"col_heading level0 col2\" >C</th>\n",
       "      <th id=\"T_ac5c4_level0_col3\" class=\"col_heading level0 col3\" >D</th>\n",
       "      <th id=\"T_ac5c4_level0_col4\" class=\"col_heading level0 col4\" >E</th>\n",
       "    </tr>\n",
       "  </thead>\n",
       "  <tbody>\n",
       "    <tr>\n",
       "      <th id=\"T_ac5c4_level0_row0\" class=\"row_heading level0 row0\" >0</th>\n",
       "      <td id=\"T_ac5c4_row0_col0\" class=\"data row0 col0\" >1.000000</td>\n",
       "      <td id=\"T_ac5c4_row0_col1\" class=\"data row0 col1\" >1.329212</td>\n",
       "      <td id=\"T_ac5c4_row0_col2\" class=\"data row0 col2\" >nan</td>\n",
       "      <td id=\"T_ac5c4_row0_col3\" class=\"data row0 col3\" >-0.316280</td>\n",
       "      <td id=\"T_ac5c4_row0_col4\" class=\"data row0 col4\" >-0.990810</td>\n",
       "    </tr>\n",
       "    <tr>\n",
       "      <th id=\"T_ac5c4_level0_row1\" class=\"row_heading level0 row1\" >1</th>\n",
       "      <td id=\"T_ac5c4_row1_col0\" class=\"data row1 col0\" >2.000000</td>\n",
       "      <td id=\"T_ac5c4_row1_col1\" class=\"data row1 col1\" >-1.070816</td>\n",
       "      <td id=\"T_ac5c4_row1_col2\" class=\"data row1 col2\" >-1.438713</td>\n",
       "      <td id=\"T_ac5c4_row1_col3\" class=\"data row1 col3\" >0.564417</td>\n",
       "      <td id=\"T_ac5c4_row1_col4\" class=\"data row1 col4\" >0.295722</td>\n",
       "    </tr>\n",
       "    <tr>\n",
       "      <th id=\"T_ac5c4_level0_row2\" class=\"row_heading level0 row2\" >2</th>\n",
       "      <td id=\"T_ac5c4_row2_col0\" class=\"data row2 col0\" >3.000000</td>\n",
       "      <td id=\"T_ac5c4_row2_col1\" class=\"data row2 col1\" >-1.626404</td>\n",
       "      <td id=\"T_ac5c4_row2_col2\" class=\"data row2 col2\" >0.219565</td>\n",
       "      <td id=\"T_ac5c4_row2_col3\" class=\"data row2 col3\" >0.678805</td>\n",
       "      <td id=\"T_ac5c4_row2_col4\" class=\"data row2 col4\" >1.889273</td>\n",
       "    </tr>\n",
       "    <tr>\n",
       "      <th id=\"T_ac5c4_level0_row3\" class=\"row_heading level0 row3\" >3</th>\n",
       "      <td id=\"T_ac5c4_row3_col0\" class=\"data row3 col0\" >4.000000</td>\n",
       "      <td id=\"T_ac5c4_row3_col1\" class=\"data row3 col1\" >0.961538</td>\n",
       "      <td id=\"T_ac5c4_row3_col2\" class=\"data row3 col2\" >0.104011</td>\n",
       "      <td id=\"T_ac5c4_row3_col3\" class=\"data row3 col3\" >nan</td>\n",
       "      <td id=\"T_ac5c4_row3_col4\" class=\"data row3 col4\" >0.850229</td>\n",
       "    </tr>\n",
       "    <tr>\n",
       "      <th id=\"T_ac5c4_level0_row4\" class=\"row_heading level0 row4\" >4</th>\n",
       "      <td id=\"T_ac5c4_row4_col0\" class=\"data row4 col0\" >5.000000</td>\n",
       "      <td id=\"T_ac5c4_row4_col1\" class=\"data row4 col1\" >nan</td>\n",
       "      <td id=\"T_ac5c4_row4_col2\" class=\"data row4 col2\" >1.057737</td>\n",
       "      <td id=\"T_ac5c4_row4_col3\" class=\"data row4 col3\" >0.165562</td>\n",
       "      <td id=\"T_ac5c4_row4_col4\" class=\"data row4 col4\" >0.515018</td>\n",
       "    </tr>\n",
       "    <tr>\n",
       "      <th id=\"T_ac5c4_level0_row5\" class=\"row_heading level0 row5\" >5</th>\n",
       "      <td id=\"T_ac5c4_row5_col0\" class=\"data row5 col0\" >6.000000</td>\n",
       "      <td id=\"T_ac5c4_row5_col1\" class=\"data row5 col1\" >-1.336936</td>\n",
       "      <td id=\"T_ac5c4_row5_col2\" class=\"data row5 col2\" >0.562861</td>\n",
       "      <td id=\"T_ac5c4_row5_col3\" class=\"data row5 col3\" >1.392855</td>\n",
       "      <td id=\"T_ac5c4_row5_col4\" class=\"data row5 col4\" >-0.063328</td>\n",
       "    </tr>\n",
       "    <tr>\n",
       "      <th id=\"T_ac5c4_level0_row6\" class=\"row_heading level0 row6\" >6</th>\n",
       "      <td id=\"T_ac5c4_row6_col0\" class=\"data row6 col0\" >7.000000</td>\n",
       "      <td id=\"T_ac5c4_row6_col1\" class=\"data row6 col1\" >0.121668</td>\n",
       "      <td id=\"T_ac5c4_row6_col2\" class=\"data row6 col2\" >1.207603</td>\n",
       "      <td id=\"T_ac5c4_row6_col3\" class=\"data row6 col3\" >-0.002040</td>\n",
       "      <td id=\"T_ac5c4_row6_col4\" class=\"data row6 col4\" >1.627796</td>\n",
       "    </tr>\n",
       "    <tr>\n",
       "      <th id=\"T_ac5c4_level0_row7\" class=\"row_heading level0 row7\" >7</th>\n",
       "      <td id=\"T_ac5c4_row7_col0\" class=\"data row7 col0\" >8.000000</td>\n",
       "      <td id=\"T_ac5c4_row7_col1\" class=\"data row7 col1\" >0.354493</td>\n",
       "      <td id=\"T_ac5c4_row7_col2\" class=\"data row7 col2\" >1.037528</td>\n",
       "      <td id=\"T_ac5c4_row7_col3\" class=\"data row7 col3\" >-0.385684</td>\n",
       "      <td id=\"T_ac5c4_row7_col4\" class=\"data row7 col4\" >0.519818</td>\n",
       "    </tr>\n",
       "    <tr>\n",
       "      <th id=\"T_ac5c4_level0_row8\" class=\"row_heading level0 row8\" >8</th>\n",
       "      <td id=\"T_ac5c4_row8_col0\" class=\"data row8 col0\" >9.000000</td>\n",
       "      <td id=\"T_ac5c4_row8_col1\" class=\"data row8 col1\" >1.686583</td>\n",
       "      <td id=\"T_ac5c4_row8_col2\" class=\"data row8 col2\" >-1.325963</td>\n",
       "      <td id=\"T_ac5c4_row8_col3\" class=\"data row8 col3\" >1.428984</td>\n",
       "      <td id=\"T_ac5c4_row8_col4\" class=\"data row8 col4\" >-2.089354</td>\n",
       "    </tr>\n",
       "    <tr>\n",
       "      <th id=\"T_ac5c4_level0_row9\" class=\"row_heading level0 row9\" >9</th>\n",
       "      <td id=\"T_ac5c4_row9_col0\" class=\"data row9 col0\" >10.000000</td>\n",
       "      <td id=\"T_ac5c4_row9_col1\" class=\"data row9 col1\" >-0.129820</td>\n",
       "      <td id=\"T_ac5c4_row9_col2\" class=\"data row9 col2\" >0.631523</td>\n",
       "      <td id=\"T_ac5c4_row9_col3\" class=\"data row9 col3\" >-0.586538</td>\n",
       "      <td id=\"T_ac5c4_row9_col4\" class=\"data row9 col4\" >nan</td>\n",
       "    </tr>\n",
       "  </tbody>\n",
       "</table>\n"
      ],
      "text/plain": [
       "<pandas.io.formats.style.Styler at 0x210e4c6e810>"
      ]
     },
     "execution_count": 90,
     "metadata": {},
     "output_type": "execute_result"
    }
   ],
   "source": [
    "# Create a dataframe of ten rows, four columns with random values. \n",
    "# Write a Pandas program to make a gradient color on all the values of the said dataframe.\n",
    "\n",
    "df.style.background_gradient()"
   ]
  },
  {
   "cell_type": "code",
   "execution_count": 91,
   "metadata": {},
   "outputs": [
    {
     "data": {
      "text/html": [
       "<style type=\"text/css\">\n",
       "#T_7dd40_row0_col3 {\n",
       "  background-color: #eae6f1;\n",
       "  color: #000000;\n",
       "}\n",
       "#T_7dd40_row1_col3 {\n",
       "  background-color: #509ac6;\n",
       "  color: #f1f1f1;\n",
       "}\n",
       "#T_7dd40_row2_col3 {\n",
       "  background-color: #358fc0;\n",
       "  color: #f1f1f1;\n",
       "}\n",
       "#T_7dd40_row3_col3 {\n",
       "  background-color: #000000;\n",
       "  color: #f1f1f1;\n",
       "}\n",
       "#T_7dd40_row4_col3 {\n",
       "  background-color: #a7bddb;\n",
       "  color: #000000;\n",
       "}\n",
       "#T_7dd40_row5_col3 {\n",
       "  background-color: #023c5f;\n",
       "  color: #f1f1f1;\n",
       "}\n",
       "#T_7dd40_row6_col3 {\n",
       "  background-color: #c2cbe2;\n",
       "  color: #000000;\n",
       "}\n",
       "#T_7dd40_row7_col3 {\n",
       "  background-color: #f0eaf4;\n",
       "  color: #000000;\n",
       "}\n",
       "#T_7dd40_row8_col3 {\n",
       "  background-color: #023858;\n",
       "  color: #f1f1f1;\n",
       "}\n",
       "#T_7dd40_row9_col3 {\n",
       "  background-color: #fff7fb;\n",
       "  color: #000000;\n",
       "}\n",
       "</style>\n",
       "<table id=\"T_7dd40\">\n",
       "  <thead>\n",
       "    <tr>\n",
       "      <th class=\"blank level0\" >&nbsp;</th>\n",
       "      <th id=\"T_7dd40_level0_col0\" class=\"col_heading level0 col0\" >A</th>\n",
       "      <th id=\"T_7dd40_level0_col1\" class=\"col_heading level0 col1\" >B</th>\n",
       "      <th id=\"T_7dd40_level0_col2\" class=\"col_heading level0 col2\" >C</th>\n",
       "      <th id=\"T_7dd40_level0_col3\" class=\"col_heading level0 col3\" >D</th>\n",
       "      <th id=\"T_7dd40_level0_col4\" class=\"col_heading level0 col4\" >E</th>\n",
       "    </tr>\n",
       "  </thead>\n",
       "  <tbody>\n",
       "    <tr>\n",
       "      <th id=\"T_7dd40_level0_row0\" class=\"row_heading level0 row0\" >0</th>\n",
       "      <td id=\"T_7dd40_row0_col0\" class=\"data row0 col0\" >1.000000</td>\n",
       "      <td id=\"T_7dd40_row0_col1\" class=\"data row0 col1\" >1.329212</td>\n",
       "      <td id=\"T_7dd40_row0_col2\" class=\"data row0 col2\" >nan</td>\n",
       "      <td id=\"T_7dd40_row0_col3\" class=\"data row0 col3\" >-0.316280</td>\n",
       "      <td id=\"T_7dd40_row0_col4\" class=\"data row0 col4\" >-0.990810</td>\n",
       "    </tr>\n",
       "    <tr>\n",
       "      <th id=\"T_7dd40_level0_row1\" class=\"row_heading level0 row1\" >1</th>\n",
       "      <td id=\"T_7dd40_row1_col0\" class=\"data row1 col0\" >2.000000</td>\n",
       "      <td id=\"T_7dd40_row1_col1\" class=\"data row1 col1\" >-1.070816</td>\n",
       "      <td id=\"T_7dd40_row1_col2\" class=\"data row1 col2\" >-1.438713</td>\n",
       "      <td id=\"T_7dd40_row1_col3\" class=\"data row1 col3\" >0.564417</td>\n",
       "      <td id=\"T_7dd40_row1_col4\" class=\"data row1 col4\" >0.295722</td>\n",
       "    </tr>\n",
       "    <tr>\n",
       "      <th id=\"T_7dd40_level0_row2\" class=\"row_heading level0 row2\" >2</th>\n",
       "      <td id=\"T_7dd40_row2_col0\" class=\"data row2 col0\" >3.000000</td>\n",
       "      <td id=\"T_7dd40_row2_col1\" class=\"data row2 col1\" >-1.626404</td>\n",
       "      <td id=\"T_7dd40_row2_col2\" class=\"data row2 col2\" >0.219565</td>\n",
       "      <td id=\"T_7dd40_row2_col3\" class=\"data row2 col3\" >0.678805</td>\n",
       "      <td id=\"T_7dd40_row2_col4\" class=\"data row2 col4\" >1.889273</td>\n",
       "    </tr>\n",
       "    <tr>\n",
       "      <th id=\"T_7dd40_level0_row3\" class=\"row_heading level0 row3\" >3</th>\n",
       "      <td id=\"T_7dd40_row3_col0\" class=\"data row3 col0\" >4.000000</td>\n",
       "      <td id=\"T_7dd40_row3_col1\" class=\"data row3 col1\" >0.961538</td>\n",
       "      <td id=\"T_7dd40_row3_col2\" class=\"data row3 col2\" >0.104011</td>\n",
       "      <td id=\"T_7dd40_row3_col3\" class=\"data row3 col3\" >nan</td>\n",
       "      <td id=\"T_7dd40_row3_col4\" class=\"data row3 col4\" >0.850229</td>\n",
       "    </tr>\n",
       "    <tr>\n",
       "      <th id=\"T_7dd40_level0_row4\" class=\"row_heading level0 row4\" >4</th>\n",
       "      <td id=\"T_7dd40_row4_col0\" class=\"data row4 col0\" >5.000000</td>\n",
       "      <td id=\"T_7dd40_row4_col1\" class=\"data row4 col1\" >nan</td>\n",
       "      <td id=\"T_7dd40_row4_col2\" class=\"data row4 col2\" >1.057737</td>\n",
       "      <td id=\"T_7dd40_row4_col3\" class=\"data row4 col3\" >0.165562</td>\n",
       "      <td id=\"T_7dd40_row4_col4\" class=\"data row4 col4\" >0.515018</td>\n",
       "    </tr>\n",
       "    <tr>\n",
       "      <th id=\"T_7dd40_level0_row5\" class=\"row_heading level0 row5\" >5</th>\n",
       "      <td id=\"T_7dd40_row5_col0\" class=\"data row5 col0\" >6.000000</td>\n",
       "      <td id=\"T_7dd40_row5_col1\" class=\"data row5 col1\" >-1.336936</td>\n",
       "      <td id=\"T_7dd40_row5_col2\" class=\"data row5 col2\" >0.562861</td>\n",
       "      <td id=\"T_7dd40_row5_col3\" class=\"data row5 col3\" >1.392855</td>\n",
       "      <td id=\"T_7dd40_row5_col4\" class=\"data row5 col4\" >-0.063328</td>\n",
       "    </tr>\n",
       "    <tr>\n",
       "      <th id=\"T_7dd40_level0_row6\" class=\"row_heading level0 row6\" >6</th>\n",
       "      <td id=\"T_7dd40_row6_col0\" class=\"data row6 col0\" >7.000000</td>\n",
       "      <td id=\"T_7dd40_row6_col1\" class=\"data row6 col1\" >0.121668</td>\n",
       "      <td id=\"T_7dd40_row6_col2\" class=\"data row6 col2\" >1.207603</td>\n",
       "      <td id=\"T_7dd40_row6_col3\" class=\"data row6 col3\" >-0.002040</td>\n",
       "      <td id=\"T_7dd40_row6_col4\" class=\"data row6 col4\" >1.627796</td>\n",
       "    </tr>\n",
       "    <tr>\n",
       "      <th id=\"T_7dd40_level0_row7\" class=\"row_heading level0 row7\" >7</th>\n",
       "      <td id=\"T_7dd40_row7_col0\" class=\"data row7 col0\" >8.000000</td>\n",
       "      <td id=\"T_7dd40_row7_col1\" class=\"data row7 col1\" >0.354493</td>\n",
       "      <td id=\"T_7dd40_row7_col2\" class=\"data row7 col2\" >1.037528</td>\n",
       "      <td id=\"T_7dd40_row7_col3\" class=\"data row7 col3\" >-0.385684</td>\n",
       "      <td id=\"T_7dd40_row7_col4\" class=\"data row7 col4\" >0.519818</td>\n",
       "    </tr>\n",
       "    <tr>\n",
       "      <th id=\"T_7dd40_level0_row8\" class=\"row_heading level0 row8\" >8</th>\n",
       "      <td id=\"T_7dd40_row8_col0\" class=\"data row8 col0\" >9.000000</td>\n",
       "      <td id=\"T_7dd40_row8_col1\" class=\"data row8 col1\" >1.686583</td>\n",
       "      <td id=\"T_7dd40_row8_col2\" class=\"data row8 col2\" >-1.325963</td>\n",
       "      <td id=\"T_7dd40_row8_col3\" class=\"data row8 col3\" >1.428984</td>\n",
       "      <td id=\"T_7dd40_row8_col4\" class=\"data row8 col4\" >-2.089354</td>\n",
       "    </tr>\n",
       "    <tr>\n",
       "      <th id=\"T_7dd40_level0_row9\" class=\"row_heading level0 row9\" >9</th>\n",
       "      <td id=\"T_7dd40_row9_col0\" class=\"data row9 col0\" >10.000000</td>\n",
       "      <td id=\"T_7dd40_row9_col1\" class=\"data row9 col1\" >-0.129820</td>\n",
       "      <td id=\"T_7dd40_row9_col2\" class=\"data row9 col2\" >0.631523</td>\n",
       "      <td id=\"T_7dd40_row9_col3\" class=\"data row9 col3\" >-0.586538</td>\n",
       "      <td id=\"T_7dd40_row9_col4\" class=\"data row9 col4\" >nan</td>\n",
       "    </tr>\n",
       "  </tbody>\n",
       "</table>\n"
      ],
      "text/plain": [
       "<pandas.io.formats.style.Styler at 0x210e4e37f50>"
      ]
     },
     "execution_count": 91,
     "metadata": {},
     "output_type": "execute_result"
    }
   ],
   "source": [
    "# background gradient to a specific column\n",
    "\n",
    "df.style.background_gradient(subset=['D'])"
   ]
  },
  {
   "cell_type": "markdown",
   "metadata": {},
   "source": [
    "# Excel Data Analysis"
   ]
  },
  {
   "cell_type": "code",
   "execution_count": 92,
   "metadata": {},
   "outputs": [],
   "source": [
    "# Write a Pandas program to import three datasheets from a given excel data (employee.xlsx ) \n",
    "# into a single dataframe and export the result into new Excel file.\n",
    "\n",
    "df1 = pd.read_excel('employee.xlsx',sheet_name=0)\n",
    "df2 = pd.read_excel('employee.xlsx',sheet_name=1)\n",
    "df3 = pd.read_excel('employee.xlsx',sheet_name=2)\n",
    "\n",
    "df = pd.concat([df1,df2,df3])\n",
    "\n",
    "df.to_excel('employee_output.xlsx',index=False)"
   ]
  },
  {
   "cell_type": "code",
   "execution_count": 95,
   "metadata": {},
   "outputs": [
    {
     "data": {
      "image/png": "[encoded data removed]",
      "text/plain": [
       "<Figure size 2000x800 with 1 Axes>"
      ]
     },
     "metadata": {},
     "output_type": "display_data"
    }
   ],
   "source": [
    "# Write a Pandas program to import excel data (coalpublic2013.xlsx ) into a dataframe \n",
    "# and draw a bar plot comparing year, MSHA ID, Production and Labor_hours of first ten records.\n",
    "\n",
    "df = pd.read_excel('coalpublic2013.xlsx')\n",
    "\n",
    "df.head(10).plot(kind='bar', figsize=(20,8))\n",
    "\n",
    "plt.show()\n"
   ]
  },
  {
   "cell_type": "markdown",
   "metadata": {},
   "source": [
    "# Pivot Table"
   ]
  },
  {
   "cell_type": "code",
   "execution_count": 96,
   "metadata": {},
   "outputs": [
    {
     "name": "stdout",
     "output_type": "stream",
     "text": [
      "                   max      min\n",
      "              Sale_amt Sale_amt\n",
      "Item                           \n",
      "Cell Phone     21600.0   3375.0\n",
      "Desk             625.0    250.0\n",
      "Home Theater   47000.0   2000.0\n",
      "Television    113810.0   8386.0\n",
      "Video Games     5616.0    936.0\n"
     ]
    },
    {
     "name": "stderr",
     "output_type": "stream",
     "text": [
      "C:\\Users\\AneriDesai\\AppData\\Local\\Temp\\ipykernel_26848\\3000160536.py:4: FutureWarning: The provided callable <function max at 0x00000210D5C49DA0> is currently using DataFrameGroupBy.max. In a future version of pandas, the provided callable will be used directly. To keep current behavior pass the string \"max\" instead.\n",
      "  table = pd.pivot_table(df, index='Item', values='Sale_amt', aggfunc=[np.max, np.min])\n",
      "C:\\Users\\AneriDesai\\AppData\\Local\\Temp\\ipykernel_26848\\3000160536.py:4: FutureWarning: The provided callable <function min at 0x00000210D5C49EE0> is currently using DataFrameGroupBy.min. In a future version of pandas, the provided callable will be used directly. To keep current behavior pass the string \"min\" instead.\n",
      "  table = pd.pivot_table(df, index='Item', values='Sale_amt', aggfunc=[np.max, np.min])\n"
     ]
    }
   ],
   "source": [
    "# Write a Pandas program to create a Pivot table and find the maximum and minimum sale value of the items.\n",
    "\n",
    "df = pd.read_excel('SaleData.xlsx')\n",
    "table = pd.pivot_table(df, index='Item', values='Sale_amt', aggfunc=[np.max, np.min])\n",
    "print(table)"
   ]
  },
  {
   "cell_type": "code",
   "execution_count": 98,
   "metadata": {},
   "outputs": [
    {
     "name": "stdout",
     "output_type": "stream",
     "text": [
      "                              Sale_amt\n",
      "Region  Manager SalesMan              \n",
      "Central Douglas John      41338.666667\n",
      "East    Douglas Karen     16068.000000\n",
      "West    Douglas Michael   33418.000000\n"
     ]
    }
   ],
   "source": [
    "# Write a Pandas program to create a Pivot table and find the total sale amount \n",
    "# region wise, manager wise, sales man wise where Manager = \"Douglas\".\n",
    "\n",
    "df = pd.read_excel('SaleData.xlsx')\n",
    "table = pd.pivot_table(df, index=['Region','Manager','SalesMan'], values='Sale_amt')\n",
    "print(table.query('Manager==[\"Douglas\"]'))"
   ]
  },
  {
   "cell_type": "code",
   "execution_count": 101,
   "metadata": {},
   "outputs": [
    {
     "name": "stdout",
     "output_type": "stream",
     "text": [
      "embark_town  Cherbourg                     Queenstown                   \\\n",
      "class            First    Second     Third      First Second     Third   \n",
      "sex    alone                                                             \n",
      "female False  1.000000  1.000000  0.611111        1.0    NaN  0.625000   \n",
      "       True   0.944444  1.000000  0.800000        NaN    1.0  0.760000   \n",
      "male   False  0.473684  0.166667  0.500000        0.0    NaN  0.100000   \n",
      "       True   0.347826  0.250000  0.151515        NaN    0.0  0.068966   \n",
      "\n",
      "embark_town  Southampton                      \n",
      "class              First    Second     Third  \n",
      "sex    alone                                  \n",
      "female False    0.941176  0.923077  0.327586  \n",
      "       True     1.000000  0.892857  0.466667  \n",
      "male   False    0.407407  0.300000  0.142857  \n",
      "       True     0.326923  0.089552  0.123762  \n"
     ]
    }
   ],
   "source": [
    "# Write a Pandas program to create a Pivot table and find the probability of survival\n",
    "# by class, gender, solo boarding and port of embarkation.\n",
    "\n",
    "df = pd.read_csv('titanic.csv')\n",
    "table = df.pivot_table('survived',['sex','alone'],['embark_town','class'])\n",
    "print(table)"
   ]
  },
  {
   "cell_type": "code",
   "execution_count": 103,
   "metadata": {},
   "outputs": [
    {
     "name": "stdout",
     "output_type": "stream",
     "text": [
      "              fare                       survived             \n",
      "class        First     Second      Third    First Second Third\n",
      "sex                                                           \n",
      "female  106.125798  21.970121  16.118810       91     70    72\n",
      "male     67.226127  19.741782  12.661633       45     17    47\n"
     ]
    },
    {
     "name": "stderr",
     "output_type": "stream",
     "text": [
      "C:\\Users\\AneriDesai\\AppData\\Local\\Temp\\ipykernel_26848\\599732897.py:4: FutureWarning: The provided callable <built-in function sum> is currently using SeriesGroupBy.sum. In a future version of pandas, the provided callable will be used directly. To keep current behavior pass the string \"sum\" instead.\n",
      "  table = df.pivot_table(index='sex',columns='class',aggfunc={'survived':sum,'fare':'mean'})\n"
     ]
    }
   ],
   "source": [
    "#  Write a Pandas program to create a Pivot table and find number of survivors and average rate grouped by gender and class.\n",
    "\n",
    "df = pd.read_csv('titanic.csv')\n",
    "table = df.pivot_table(index='sex',columns='class',aggfunc={'survived':sum,'fare':'mean'})\n",
    "print(table)"
   ]
  },
  {
   "cell_type": "markdown",
   "metadata": {},
   "source": [
    "# Datetime"
   ]
  },
  {
   "cell_type": "code",
   "execution_count": 4,
   "metadata": {},
   "outputs": [
    {
     "name": "stderr",
     "output_type": "stream",
     "text": [
      "C:\\Users\\AneriDesai\\AppData\\Local\\Temp\\ipykernel_11508\\633156035.py:2: DtypeWarning: Columns (5,9) have mixed types. Specify dtype option on import or set low_memory=False.\n",
      "  df = pd.read_csv(\"ufo_sighting_data1.csv\")\n"
     ]
    },
    {
     "name": "stdout",
     "output_type": "stream",
     "text": [
      "\n",
      "Comparison of the top 10 years in which the UFO was sighted vs each month:\n",
      "Date_time   1    2    3    4    5    6    7    8    9    10   11   12\n",
      "Date_time                                                            \n",
      "2003       287  230  169  204  220  271  410  499  467  424  437  344\n",
      "2004       266  265  372  355  353  376  401  498  379  417  294  281\n",
      "2005       228  255  327  294  271  370  419  321  480  444  420  254\n",
      "2007       398  243  331  290  278  384  432  430  416  398  341  328\n",
      "2008       436  345  304  404  313  443  530  468  356  485  419  317\n",
      "2009       454  367  313  294  339  357  543  464  569  286  293  262\n",
      "2010       258  171  236  269  306  341  793  480  414  422  316  277\n",
      "2011       298  255  309  294  283  374  715  599  503  590  403  484\n",
      "2012       528  357  489  462  472  695  880  827  695  620  719  613\n",
      "2013       356  264  372  387  487  581  902  842  717  720  719  690\n"
     ]
    }
   ],
   "source": [
    "import pandas as pd\n",
    "df = pd.read_csv(\"ufo_sighting_data1.csv\")\n",
    "df['Date_time'] = df['Date_time'].astype('datetime64[ns]')\n",
    "most_sightings_years = df['Date_time'].dt.year.value_counts().head(10)\n",
    "def is_top_years(year):\n",
    "   if year in most_sightings_years.index:\n",
    "       return year\n",
    "month_vs_year = df.pivot_table(columns=df['Date_time'].dt.month,index=df['Date_time'].dt.year.apply(is_top_years),aggfunc='count',values='city')\n",
    "month_vs_year.index = month_vs_year.index.astype(int)\n",
    "month_vs_year.columns = month_vs_year.columns.astype(int)\n",
    "print(\"\\nComparison of the top 10 years in which the UFO was sighted vs each month:\")\n",
    "print(month_vs_year.head(10))\n"
   ]
  },
  {
   "cell_type": "markdown",
   "metadata": {},
   "source": [
    "# Plotting"
   ]
  },
  {
   "cell_type": "code",
   "execution_count": 10,
   "metadata": {},
   "outputs": [
    {
     "name": "stderr",
     "output_type": "stream",
     "text": [
      "C:\\Users\\AneriDesai\\AppData\\Local\\Temp\\ipykernel_1648\\149727309.py:19: UserWarning: \n",
      "\n",
      "`distplot` is a deprecated function and will be removed in seaborn v0.14.0.\n",
      "\n",
      "Please adapt your code to use either `displot` (a figure-level function with\n",
      "similar flexibility) or `histplot` (an axes-level function for histograms).\n",
      "\n",
      "For a guide to updating your code to use the new functions, please see\n",
      "https://gist.github.com/mwaskom/de44147ed2974457ad6372750bbe5751\n",
      "\n",
      "  sns.distplot(daily_changes['Adj Close'].dropna(),bins=100,color='purple')\n"
     ]
    },
    {
     "data": {
      "image/png": "[encoded data removed]",
      "text/plain": [
       "<Figure size 640x480 with 1 Axes>"
      ]
     },
     "metadata": {},
     "output_type": "display_data"
    }
   ],
   "source": [
    "# Write a Pandas program to create a histogram to visualize daily return distribution of Alphabet \n",
    "# Inc. stock price between two specific dates.\n",
    "import matplotlib.pyplot as plt\n",
    "import seaborn as sns\n",
    "\n",
    "df = pd.read_csv(\"alphabet_stock_data.csv\")\n",
    "\n",
    "start_date = pd.to_datetime('2020-4-1')\n",
    "end_date = pd.to_datetime('2020-9-30')    \n",
    "\n",
    "df['Date'] = pd.to_datetime(df['Date']) \n",
    "new_df = (df['Date']>= start_date) & (df['Date']<= end_date)\n",
    "\n",
    "df1 = df.loc[new_df]\n",
    "df2 = df1[['Date', 'Adj Close']]\n",
    "df3 = df2.set_index('Date')\n",
    "\n",
    "daily_changes = df3.pct_change(periods=1)\n",
    "sns.distplot(daily_changes['Adj Close'].dropna(),bins=100,color='purple')\n",
    "\n",
    "plt.suptitle('Daily % return of Alphabet Inc. stock price,\\n01-04-2020 to 30-09-2020', fontsize=12, color='black')\n",
    "plt.grid(True)\n",
    "plt.show()\n"
   ]
  },
  {
   "cell_type": "code",
   "execution_count": 8,
   "metadata": {},
   "outputs": [
    {
     "data": {
      "text/plain": [
       "<Figure size 2000x2000 with 0 Axes>"
      ]
     },
     "metadata": {},
     "output_type": "display_data"
    },
    {
     "data": {
      "image/png": "[encoded data removed]",
      "text/plain": [
       "<Figure size 640x480 with 1 Axes>"
      ]
     },
     "metadata": {},
     "output_type": "display_data"
    }
   ],
   "source": [
    "# Write a Pandas program to plot the volatility over a period of time of Alphabet Inc. stock price between two specific dates.\n",
    "\n",
    "import pandas as pd\n",
    "import matplotlib.pyplot as plt\n",
    "\n",
    "df = pd.read_csv(\"alphabet_stock_data.csv\")\n",
    "\n",
    "start_date = pd.to_datetime('2020-4-1')\n",
    "end_date = pd.to_datetime('2020-9-30')   \n",
    "\n",
    "df['Date'] = pd.to_datetime(df['Date']) \n",
    "new_df = (df['Date']>= start_date) & (df['Date']<= end_date)\n",
    "\n",
    "df1 = df.loc[new_df]\n",
    "df2 = df1[['Date', 'Close']]\n",
    "df3 = df2.set_index('Date')\n",
    "\n",
    "data_filled = df3.asfreq('D', method='ffill')\n",
    "data_returns = data_filled.pct_change()\n",
    "data_std = data_returns.rolling(window=30, min_periods=30).std()\n",
    "\n",
    "plt.figure(figsize=(20,20))\n",
    "data_std.plot()\n",
    "\n",
    "plt.suptitle('Volatility over a period of time  of Alphabet Inc. stock price,\\n01-04-2020 to 30-09-2020')\n",
    "plt.grid(True)\n",
    "plt.show() \n"
   ]
  },
  {
   "cell_type": "markdown",
   "metadata": {},
   "source": [
    "# Performance Optimization"
   ]
  },
  {
   "cell_type": "code",
   "execution_count": 14,
   "metadata": {},
   "outputs": [
    {
     "name": "stdout",
     "output_type": "stream",
     "text": [
      "Time taken using standard operations:0.0279 seconds\n",
      "Time taken using eval method:0.0519 seconds\n"
     ]
    }
   ],
   "source": [
    "# Write a Pandas program that uses the \"eval\" method to perform multiple arithmetic operations \n",
    "# on DataFrame columns and compare performance with standard operations.\n",
    "\n",
    "import pandas as pd \n",
    "import numpy as np \n",
    "import time  \n",
    "\n",
    "np.random.seed(0) \n",
    "data = {\n",
    "    'A': np.random.randint(1, 100, size=1000000),\n",
    "    'B': np.random.randint(1, 100, size=1000000),\n",
    "    'C': np.random.randint(1, 100, size=1000000),\n",
    "    'D': np.random.randint(1, 100, size=1000000)\n",
    "}\n",
    "df = pd.DataFrame(data)\n",
    "\n",
    "start_time = time.time()  \n",
    "df['Result_standard'] = df['A'] + df['B'] - df['C'] * df['D'] / df['A']\n",
    "time_standard = time.time() - start_time  \n",
    "\n",
    "df['Result_eval'] = df.eval('A + B - C * D / A')\n",
    "time_eval = time.time() - start_time  \n",
    "\n",
    "print(f\"Time taken using standard operations:{time_standard:.4f} seconds\")\n",
    "print(f\"Time taken using eval method:{time_eval:.4f} seconds\")\n"
   ]
  },
  {
   "cell_type": "code",
   "execution_count": 10,
   "metadata": {},
   "outputs": [
    {
     "name": "stdout",
     "output_type": "stream",
     "text": [
      "Time taken using pd.concat: 0.02 seconds\n",
      "Time taken using for loop: 0.28 seconds\n"
     ]
    }
   ],
   "source": [
    "# Write a Pandas program to measure the time taken to concatenate multiple\n",
    "# DataFrames using the \"concat\" method vs. using a \"for\" loop.\n",
    "import numpy as np\n",
    "import time\n",
    "\n",
    "def create_dataframes(num_dfs, num_rows, num_cols):\n",
    "    return [pd.DataFrame(np.random.randn(num_rows, num_cols)) for _ in range(num_dfs)]\n",
    "\n",
    "num_dfs = 100\n",
    "num_rows = 1000\n",
    "num_cols = 10\n",
    "\n",
    "dfs = create_dataframes(num_dfs, num_rows, num_cols)\n",
    "\n",
    "start_time = time.time()\n",
    "result_concat = pd.concat(dfs, axis=0)\n",
    "end_time = time.time()\n",
    "concat_time = end_time - start_time\n",
    "\n",
    "start_time = time.time()\n",
    "result_for_loop = dfs[0]\n",
    "for df in dfs[1:]:\n",
    "    result_for_loop = pd.concat([result_for_loop, df], axis=0)\n",
    "end_time = time.time()\n",
    "for_loop_time = end_time - start_time\n",
    "\n",
    "print(f\"Time taken using pd.concat: {concat_time:.2f} seconds\")\n",
    "print(f\"Time taken using for loop: {for_loop_time:.2f} seconds\")\n"
   ]
  },
  {
   "cell_type": "markdown",
   "metadata": {},
   "source": [
    "# SQL Query"
   ]
  },
  {
   "cell_type": "code",
   "execution_count": 15,
   "metadata": {},
   "outputs": [
    {
     "name": "stdout",
     "output_type": "stream",
     "text": [
      "First name      Last name       Job ID          Hire Date\n",
      "John            Russell         SA_MAN          2004-10-01\n",
      "Karen           Partners        SA_MAN          2005-01-05\n",
      "Alberto         Errazuriz       SA_MAN          2005-03-10\n",
      "Gerald          Cambrault       SA_MAN          2007-10-15\n",
      "Eleni           Zlotkey         SA_MAN          2008-01-29\n",
      "Peter           Tucker          SA_REP          2005-01-30\n",
      "David           Bernstein       SA_REP          2005-03-24\n",
      "Peter           Hall            SA_REP          2005-08-20\n",
      "Christopher     Olsen           SA_REP          2006-03-30\n",
      "Nanette         Cambrault       SA_REP          2006-12-09\n",
      "Oliver          Tuvault         SA_REP          2007-11-23\n",
      "Janette         King            SA_REP          2004-01-30\n",
      "Patrick         Sully           SA_REP          2004-03-04\n",
      "Allan           McEwen          SA_REP          2004-08-01\n",
      "Lindsey         Smith           SA_REP          2005-03-10\n",
      "Louise          Doran           SA_REP          2005-12-15\n",
      "Sarath          Sewall          SA_REP          2006-11-03\n",
      "Clara           Vishney         SA_REP          2005-11-11\n",
      "Danielle        Greene          SA_REP          2007-03-19\n",
      "Mattea          Marvins         SA_REP          2008-01-24\n",
      "David           Lee             SA_REP          2008-02-23\n",
      "Sundar          Ande            SA_REP          2008-03-24\n",
      "Amit            Banda           SA_REP          2008-04-21\n",
      "Lisa            Ozer            SA_REP          2005-03-11\n",
      "Harrison        Bloom           SA_REP          2006-03-23\n",
      "Tayler          Fox             SA_REP          2006-01-24\n",
      "William         Smith           SA_REP          2007-02-23\n",
      "Elizabeth       Bates           SA_REP          2007-03-24\n",
      "Sundita         Kumar           SA_REP          2008-04-21\n",
      "Ellen           Abel            SA_REP          2004-05-11\n",
      "Alyssa          Hutton          SA_REP          2005-03-19\n",
      "Jonathon        Taylor          SA_REP          2006-03-24\n",
      "Jack            Livingston      SA_REP          2006-04-23\n",
      "Kimberely       Grant           SA_REP          2007-05-24\n",
      "Charles         Johnson         SA_REP          2008-01-04\n"
     ]
    }
   ],
   "source": [
    "# Write a Pandas program to display the first and last name and date of joining of the employees \n",
    "# who is either Sales Representative or Sales Man.\n",
    "\n",
    "import pandas as pd\n",
    "\n",
    "employees = pd.read_csv(r\"EMPLOYEES.csv\")\n",
    "\n",
    "print(\"First name      Last name       Job ID          Hire Date\")\n",
    "\n",
    "result = employees[employees['job_id'].isin(['SA_REP', 'SA_MAN'])]\n",
    "\n",
    "for index, row in result.iterrows():\n",
    "    print(row['first_name'].ljust(15),row['last_name'].ljust(15),str(row['job_id']).ljust(15),str(row['hire_date']).ljust(10))\n"
   ]
  },
  {
   "cell_type": "code",
   "execution_count": 26,
   "metadata": {},
   "outputs": [
    {
     "name": "stdout",
     "output_type": "stream",
     "text": [
      "job_id          Job Title                         min_salary  max_salary\n",
      "ST_MAN          Stock Manager                       5500      8500\n",
      "ST_CLERK        Stock Clerk                         2000      5000\n",
      "SH_CLERK        Shipping Clerk                      2500      5500\n",
      "SA_REP          Sales Representative                6000      12000\n",
      "SA_MAN          Sales Manager                       10000     20000\n",
      "PU_MAN          Purchasing Manager                  8000      15000\n",
      "PU_CLERK        Purchasing Clerk                    2500      5500\n",
      "PR_REP          Public Relations Representative     4500      10500\n",
      "AC_ACCOUNT      Public Accountant                   4200      9000\n",
      "IT_PROG         Programmer                          4000      10000\n",
      "AD_PRES         President                           20000     40000\n",
      "MK_REP          Marketing Representative            4000      9000\n",
      "MK_MAN          Marketing Manager                   9000      15000\n",
      "HR_REP          Human Resources Representative      4000      9000\n",
      "FI_MGR          Finance Manager                     8200      16000\n",
      "AD_VP           Administration Vice President       15000     30000\n",
      "AD_ASST         Administration Assistant            3000      6000\n",
      "AC_MGR          Accounting Manager                  8200      16000\n",
      "FI_ACCOUNT      Accountant                          4200      9000\n"
     ]
    }
   ],
   "source": [
    "# Write a Pandas program to display the details of jobs in descending sequence on job title.\n",
    "\n",
    "jobs = pd.read_csv('JOBS.csv')\n",
    "\n",
    "print(\"job_id          Job Title                         min_salary  max_salary\")\n",
    "\n",
    "result = jobs.sort_values('job_title',ascending=False)\n",
    "\n",
    "for index,row in result.iterrows():\n",
    "    print(row['job_id'].ljust(15),row['job_title'].ljust(35),str(row['min_salary']).ljust(9),row['max_salary'])"
   ]
  },
  {
   "cell_type": "markdown",
   "metadata": {},
   "source": [
    "# Resampling and Frequency Conversion"
   ]
  },
  {
   "cell_type": "code",
   "execution_count": 28,
   "metadata": {},
   "outputs": [
    {
     "name": "stdout",
     "output_type": "stream",
     "text": [
      "2025-01-01         NaN\n",
      "2025-01-02   -0.088460\n",
      "2025-01-03    0.025576\n",
      "2025-01-04    0.613810\n",
      "2025-01-05   -0.182045\n",
      "2025-01-06    0.215027\n",
      "2025-01-07   -1.494659\n",
      "2025-01-08   -0.612305\n",
      "2025-01-09    2.411947\n",
      "2025-01-10   -0.894150\n",
      "Freq: D, dtype: float64\n"
     ]
    }
   ],
   "source": [
    "# Write a Pandas program to calculate percentage change in Resampled data.\n",
    "\n",
    "import pandas as pd\n",
    "import numpy as np\n",
    "\n",
    "\n",
    "date_rng = pd.date_range(start='2025-01-01', end='2025-01-10', freq='D')\n",
    "ts = pd.Series(np.random.randn(len(date_rng)), index=date_rng)\n",
    "\n",
    "\n",
    "ts_daily = ts.resample('D').mean()\n",
    "\n",
    "\n",
    "ts_pct_change = ts_daily.pct_change()\n",
    "\n",
    "\n",
    "print(ts_pct_change)"
   ]
  },
  {
   "cell_type": "code",
   "execution_count": 29,
   "metadata": {},
   "outputs": [
    {
     "name": "stdout",
     "output_type": "stream",
     "text": [
      "2025-01-01    0.205742\n",
      "2025-01-03   -0.046060\n",
      "2025-01-05   -0.007604\n",
      "2025-01-07    0.141831\n",
      "2025-01-09    0.032779\n",
      "Freq: 2D, dtype: float64\n"
     ]
    },
    {
     "name": "stderr",
     "output_type": "stream",
     "text": [
      "C:\\Users\\AneriDesai\\AppData\\Local\\Temp\\ipykernel_11508\\2516453308.py:3: FutureWarning: 'H' is deprecated and will be removed in a future version, please use 'h' instead.\n",
      "  date_rng = pd.date_range(start='2025-01-01', end='2025-01-10', freq='H')\n"
     ]
    }
   ],
   "source": [
    "# Write a Pandas program to create custom Resampling periods.\n",
    "\n",
    "date_rng = pd.date_range(start='2025-01-01', end='2025-01-10', freq='H')\n",
    "ts = pd.Series(np.random.randn(len(date_rng)), index=date_rng)\n",
    "\n",
    "def custom_resample(ts, freq):\n",
    "    return ts.groupby(pd.Grouper(freq=freq)).mean()\n",
    "\n",
    "ts_custom = custom_resample(ts, '2D')\n",
    "\n",
    "print(ts_custom)"
   ]
  },
  {
   "cell_type": "markdown",
   "metadata": {},
   "source": [
    "#  Advanced Grouping and Aggregation"
   ]
  },
  {
   "cell_type": "code",
   "execution_count": 30,
   "metadata": {},
   "outputs": [
    {
     "name": "stdout",
     "output_type": "stream",
     "text": [
      "\n",
      "Group by 'Category' and apply multiple named aggregations:\n",
      "          Total_Value1  Average_Value2\n",
      "Category                              \n",
      "A                   15            75.0\n",
      "B                   35           175.0\n",
      "C                   55           275.0\n"
     ]
    }
   ],
   "source": [
    "# GroupBy and Applying Multiple Aggregations with Named Functions:\n",
    "# Write a Pandas program to apply multiple aggregations with named functions in GroupBy for detailed data analysis.\n",
    "\n",
    "data = {'Category': ['A', 'A', 'B', 'B', 'C', 'C'],\n",
    "        'Value1': [5, 10, 15, 20, 25, 30],\n",
    "        'Value2': [50, 100, 150, 200, 250, 300]}\n",
    "\n",
    "df = pd.DataFrame(data)\n",
    "\n",
    "print(\"\\nGroup by 'Category' and apply multiple named aggregations:\")\n",
    "grouped = df.groupby('Category').agg(\n",
    "    Total_Value1=('Value1', 'sum'),\n",
    "    Average_Value2=('Value2', 'mean')\n",
    ")\n",
    "\n",
    "print(grouped)\n"
   ]
  },
  {
   "cell_type": "code",
   "execution_count": 31,
   "metadata": {},
   "outputs": [
    {
     "name": "stdout",
     "output_type": "stream",
     "text": [
      "Fill missing values with 0 and then group by 'Category' and sum:\n",
      "          Value\n",
      "Category       \n",
      "A          10.0\n",
      "B          70.0\n",
      "C          60.0\n"
     ]
    }
   ],
   "source": [
    "# GroupBy and Handling Missing data:\n",
    "# Write a Pandas program to handle missing data in GroupBy operations to ensure accurate and reliable data analysis.\n",
    "\n",
    "data = {'Category': ['A', 'A', 'B', 'B', 'C', 'C'],\n",
    "        'Value': [10, None, 30, 40, None, 60]}\n",
    "\n",
    "df = pd.DataFrame(data)\n",
    "\n",
    "print(\"Fill missing values with 0 and then group by 'Category' and sum:\")\n",
    "grouped = df.fillna(0).groupby('Category').sum()\n",
    "\n",
    "print(grouped)\n"
   ]
  },
  {
   "cell_type": "markdown",
   "metadata": {},
   "source": [
    "#  IMDb Movies Queries "
   ]
  },
  {
   "cell_type": "code",
   "execution_count": 39,
   "metadata": {},
   "outputs": [
    {
     "name": "stdout",
     "output_type": "stream",
     "text": [
      "                 title  vote_count\n",
      "0            Toy Story        5415\n",
      "1              Jumanji        2413\n",
      "30      Twelve Monkeys        2470\n",
      "45               Se7en        5915\n",
      "48  The Usual Suspects        3334\n"
     ]
    }
   ],
   "source": [
    "# Write a Pandas program to display the movies (title, number of votes) that received specified number of votes.\n",
    "\n",
    "df = pd.read_csv('movies_metadata.csv', encoding='ISO-8859-1',on_bad_lines='skip')\n",
    "\n",
    "new_df = df[['title','vote_count']]\n",
    "\n",
    "n = 2000\n",
    "\n",
    "result = new_df[new_df['vote_count']>=n]\n",
    "print(result)"
   ]
  },
  {
   "cell_type": "code",
   "execution_count": 40,
   "metadata": {},
   "outputs": [
    {
     "name": "stdout",
     "output_type": "stream",
     "text": [
      "                             title  runtime\n",
      "0                        Toy Story     81.0\n",
      "1                          Jumanji    104.0\n",
      "2                 Grumpier Old Men    101.0\n",
      "3                Waiting to Exhale    127.0\n",
      "4      Father of the Bride Part II    106.0\n",
      "5                             Heat    170.0\n",
      "6                          Sabrina    127.0\n",
      "7                     Tom and Huck     97.0\n",
      "8                     Sudden Death    106.0\n",
      "9                        GoldenEye    130.0\n",
      "10          The American President    106.0\n",
      "11     Dracula: Dead and Loving It     88.0\n",
      "12                           Balto     78.0\n",
      "13                           Nixon    192.0\n",
      "14                Cutthroat Island    119.0\n",
      "15                          Casino    178.0\n",
      "16           Sense and Sensibility    136.0\n",
      "17                      Four Rooms     98.0\n",
      "18  Ace Ventura: When Nature Calls     90.0\n",
      "19                     Money Train    103.0\n",
      "20                      Get Shorty    105.0\n",
      "21                         Copycat    124.0\n",
      "22                       Assassins    132.0\n",
      "23                          Powder    111.0\n",
      "24               Leaving Las Vegas    112.0\n",
      "25                         Othello    123.0\n",
      "26                    Now and Then    100.0\n",
      "27                      Persuasion    104.0\n",
      "28       The City of Lost Children    108.0\n",
      "29                 Dangerous Minds     99.0\n",
      "30                  Twelve Monkeys    129.0\n",
      "31                Wings of Courage     50.0\n",
      "32                            Babe     89.0\n",
      "33                      Carrington    121.0\n",
      "34                Dead Man Walking    122.0\n",
      "35          Across the Sea of Time     51.0\n",
      "36                    It Takes Two    101.0\n",
      "37                        Clueless     97.0\n",
      "38        Cry, the Beloved Country    106.0\n",
      "39                     Richard III    104.0\n",
      "40                 Dead Presidents    119.0\n",
      "41                     Restoration    117.0\n",
      "42                   Mortal Kombat    101.0\n",
      "43                      To Die For    106.0\n",
      "44   How To Make An American Quilt    116.0\n",
      "45                           Se7en    127.0\n",
      "46                      Pocahontas     81.0\n",
      "47           When Night Is Falling     96.0\n",
      "48              The Usual Suspects    106.0\n"
     ]
    }
   ],
   "source": [
    "# Write a Pandas program to display the movies (title, runtime) longer than 30 minutes and shorter than 360 minutes.\n",
    "\n",
    "df = pd.read_csv('movies_metadata.csv', encoding='ISO-8859-1',on_bad_lines='skip')\n",
    "\n",
    "new_df = df[['title','runtime']]\n",
    "\n",
    "result = new_df[(new_df['runtime']>30) & (new_df['runtime']<360)]\n",
    "print(result)"
   ]
  },
  {
   "cell_type": "markdown",
   "metadata": {},
   "source": [
    "# Mastering NumPy"
   ]
  },
  {
   "cell_type": "code",
   "execution_count": 47,
   "metadata": {},
   "outputs": [
    {
     "name": "stdout",
     "output_type": "stream",
     "text": [
      "     X  Y  Expanding_Sum\n",
      "0  foo  0            0.0\n",
      "1  bar  1            1.0\n",
      "2  foo  2            2.0\n",
      "3  bar  3            4.0\n",
      "4  foo  4            6.0\n",
      "5  bar  5            9.0\n",
      "6  foo  6           12.0\n",
      "7  bar  7           16.0\n",
      "8  foo  8           20.0\n",
      "9  bar  9           25.0\n"
     ]
    }
   ],
   "source": [
    "# Create a DataFrame and calculate the expanding sum for each group.\n",
    "\n",
    "data = {'X': ['foo', 'bar', 'foo', 'bar', 'foo', 'bar', 'foo', 'bar', 'foo', 'bar'], 'Y': range(10)}\n",
    "\n",
    "df = pd.DataFrame(data)\n",
    "\n",
    "df['Expanding_Sum'] = df.groupby('X')['Y'].expanding().sum().reset_index(level=0, drop=True)\n",
    "\n",
    "print(df) "
   ]
  },
  {
   "cell_type": "code",
   "execution_count": 3,
   "metadata": {},
   "outputs": [
    {
     "name": "stdout",
     "output_type": "stream",
     "text": [
      "          X         Y         Z  Rolling_Median\n",
      "0  0.347570  0.126296  0.862374             NaN\n",
      "1  0.612168  0.475245  0.275453             NaN\n",
      "2  0.129528  0.416947  0.970381             NaN\n",
      "3  0.161247  0.027830  0.627777             NaN\n",
      "4  0.982081  0.699701  0.266549             NaN\n",
      "5  0.330605  0.434383  0.795728             NaN\n",
      "6  0.102770  0.407611  0.779373             NaN\n",
      "7  0.830412  0.085995  0.483895             NaN\n",
      "8  0.620557  0.022039  0.029733             NaN\n",
      "9  0.110049  0.509028  0.516824             NaN\n"
     ]
    }
   ],
   "source": [
    "# Create a DataFrame with random values and calculate the rolling median for each group.\n",
    "import numpy as np\n",
    "import pandas as pd \n",
    "\n",
    "data = np.random.rand(10, 3)\n",
    "\n",
    "df = pd.DataFrame(data, columns=['X', 'Y', 'Z'])\n",
    "\n",
    "df['Rolling_Median'] = df.groupby('X')['Y'].rolling(window=3).median().reset_index(level=0, drop=True)\n",
    "\n",
    "print(df) \n"
   ]
  },
  {
   "cell_type": "markdown",
   "metadata": {},
   "source": [
    "# Pandas Practice Set-1 "
   ]
  },
  {
   "cell_type": "code",
   "execution_count": 53,
   "metadata": {},
   "outputs": [
    {
     "name": "stdout",
     "output_type": "stream",
     "text": [
      "No. of duplicate rows:\n",
      "146\n"
     ]
    }
   ],
   "source": [
    "# Write a Pandas program to count the duplicate rows of diamonds DataFrame.\n",
    "\n",
    "df = pd.read_csv('https://raw.githubusercontent.com/mwaskom/seaborn-data/master/diamonds.csv')\n",
    "\n",
    "print(\"No. of duplicate rows:\")\n",
    "print(df.duplicated().sum())\n"
   ]
  },
  {
   "cell_type": "code",
   "execution_count": 55,
   "metadata": {},
   "outputs": [
    {
     "name": "stdout",
     "output_type": "stream",
     "text": [
      "53932\n"
     ]
    }
   ],
   "source": [
    "#  Write a Pandas program to read the diamonds DataFrame and detect duplicate color.\n",
    "\n",
    "print(df.clarity.duplicated().sum())"
   ]
  },
  {
   "cell_type": "code",
   "execution_count": null,
   "metadata": {},
   "outputs": [],
   "source": []
  }
 ],
 "metadata": {
  "kernelspec": {
   "display_name": "base",
   "language": "python",
   "name": "python3"
  },
  "language_info": {
   "codemirror_mode": {
    "name": "ipython",
    "version": 3
   },
   "file_extension": ".py",
   "mimetype": "text/x-python",
   "name": "python",
   "nbconvert_exporter": "python",
   "pygments_lexer": "ipython3",
   "version": "3.12.7"
  }
 },
 "nbformat": 4,
 "nbformat_minor": 2
}

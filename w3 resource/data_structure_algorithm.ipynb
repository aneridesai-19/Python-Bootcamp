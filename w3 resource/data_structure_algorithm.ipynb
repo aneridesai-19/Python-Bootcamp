{
 "cells": [
  {
   "cell_type": "markdown",
   "metadata": {},
   "source": [
    "# Searh and sorting"
   ]
  },
  {
   "cell_type": "code",
   "execution_count": 1,
   "metadata": {},
   "outputs": [
    {
     "name": "stdout",
     "output_type": "stream",
     "text": [
      "[1, 3, 4, 7, 8, 9]\n"
     ]
    }
   ],
   "source": [
    "# Write a Python program to sort a list of elements using the bubble sort algorithm.\n",
    "\n",
    "lst = [1,7,4,9,3,8]\n",
    "\n",
    "def bubble_sort(lst):\n",
    "    for i in range(len(lst)-1):\n",
    "        for j in range(len(lst)-1):\n",
    "            if lst[j]>lst[j+1]:\n",
    "                lst[j],lst[j+1]=lst[j+1],lst[j]\n",
    "\n",
    "    return lst\n",
    "\n",
    "print(bubble_sort(lst))"
   ]
  },
  {
   "cell_type": "code",
   "execution_count": 4,
   "metadata": {},
   "outputs": [
    {
     "name": "stdout",
     "output_type": "stream",
     "text": [
      "Element found at index:6\n"
     ]
    }
   ],
   "source": [
    "# Write a Python program for binary search.\n",
    "\n",
    "lst = [1,2,3,4,5,6,7,8,9,10]\n",
    "element = 7\n",
    "\n",
    "low = 0\n",
    "high = len(lst)-1\n",
    "\n",
    "while low<=high:\n",
    "    mid = (high+low)//2\n",
    "    if lst[mid]==element:\n",
    "        print(F\"Element found at index:{mid}\")\n",
    "        break\n",
    "    elif lst[mid]>element:\n",
    "        high = mid-1\n",
    "    else:\n",
    "        low = mid+1"
   ]
  },
  {
   "cell_type": "markdown",
   "metadata": {},
   "source": [
    "# Linked List"
   ]
  },
  {
   "cell_type": "code",
   "execution_count": 2,
   "metadata": {},
   "outputs": [
    {
     "name": "stdout",
     "output_type": "stream",
     "text": [
      "Original Linked List:\n",
      "1 -> 2 -> 3 -> 4 -> 5\n",
      "\n",
      "Reversed Linked List:\n",
      "5 -> 4 -> 3 -> 2 -> 1\n"
     ]
    }
   ],
   "source": [
    "# Reverse a Singly Linked List\n",
    "\n",
    "class ListNode:\n",
    "    def __init__(self, value=0, next=None):\n",
    "        self.value = value\n",
    "        self.next = next\n",
    "\n",
    "def reverse_linked_list(head):\n",
    "    prev = None\n",
    "    curr = head\n",
    "\n",
    "    while curr:\n",
    "        next_node = curr.next  \n",
    "        curr.next = prev       \n",
    "        prev = curr           \n",
    "        curr = next_node       \n",
    "    return prev  \n",
    "\n",
    "def print_linked_list(head):\n",
    "    current = head\n",
    "    while current:\n",
    "        print(current.value, end=\" -> \" if current.next else \"\\n\")\n",
    "        current = current.next\n",
    "\n",
    "head = ListNode(1)\n",
    "head.next = ListNode(2)\n",
    "head.next.next = ListNode(3)\n",
    "head.next.next.next = ListNode(4)\n",
    "head.next.next.next.next = ListNode(5)\n",
    "\n",
    "print(\"Original Linked List:\")\n",
    "print_linked_list(head)\n",
    "\n",
    "reversed_head = reverse_linked_list(head)\n",
    "\n",
    "print(\"\\nReversed Linked List:\")\n",
    "print_linked_list(reversed_head)\n"
   ]
  },
  {
   "cell_type": "code",
   "execution_count": 5,
   "metadata": {},
   "outputs": [
    {
     "name": "stdout",
     "output_type": "stream",
     "text": [
      "Linked List after insertion:\n",
      "10 -> 20 -> 30 -> 40\n",
      "\n",
      "Traversing the linked list:\n",
      "10 -> 20 -> 30 -> 40\n",
      "\n",
      "Linked List after updating value 20 to 25:\n",
      "10 -> 25 -> 30 -> 40\n",
      "\n",
      "Linked List after deleting value 30:\n",
      "10 -> 25 -> 40\n",
      "Value 100 not found in the list.\n"
     ]
    }
   ],
   "source": [
    "# CRUD Operation\n",
    "\n",
    "class LinkedList:\n",
    "    def __init__(self):\n",
    "        self.head = None\n",
    "\n",
    "    def insert(self, value):\n",
    "        new_node = ListNode(value)\n",
    "        if not self.head:\n",
    "            self.head = new_node\n",
    "        else:\n",
    "            current = self.head\n",
    "            while current.next:\n",
    "                current = current.next\n",
    "            current.next = new_node\n",
    "\n",
    "    def read(self):\n",
    "        current = self.head\n",
    "        if not current:\n",
    "            print(\"The linked list is empty.\")\n",
    "            return\n",
    "        while current:\n",
    "            print(current.value, end=\" -> \" if current.next else \"\\n\")\n",
    "            current = current.next\n",
    "\n",
    "    def update(self, old_value, new_value):\n",
    "        current = self.head\n",
    "        while current:\n",
    "            if current.value == old_value:\n",
    "                current.value = new_value\n",
    "                return\n",
    "            current = current.next\n",
    "        print(f\"Value {old_value} not found in the list.\")\n",
    "\n",
    "    def delete(self, value):\n",
    "        current = self.head\n",
    "        if current and current.value == value:\n",
    "            self.head = current.next\n",
    "            current = None\n",
    "            return\n",
    "        \n",
    "        prev = None\n",
    "        while current and current.value != value:\n",
    "            prev = current\n",
    "            current = current.next\n",
    "        \n",
    "        if not current:\n",
    "            print(f\"Value {value} not found in the list.\")\n",
    "            return\n",
    "        \n",
    "        prev.next = current.next\n",
    "        current = None\n",
    "\n",
    "ll = LinkedList()\n",
    "\n",
    "ll.insert(10)\n",
    "ll.insert(20)\n",
    "ll.insert(30)\n",
    "ll.insert(40)\n",
    "\n",
    "print(\"Linked List after insertion:\")\n",
    "ll.read()\n",
    "\n",
    "print(\"\\nTraversing the linked list:\")\n",
    "ll.read()\n",
    "\n",
    "ll.update(20, 25)\n",
    "print(\"\\nLinked List after updating value 20 to 25:\")\n",
    "ll.read()\n",
    "\n",
    "ll.delete(30)\n",
    "print(\"\\nLinked List after deleting value 30:\")\n",
    "ll.read()\n",
    "\n",
    "ll.delete(100)  \n"
   ]
  },
  {
   "cell_type": "markdown",
   "metadata": {},
   "source": [
    "# Binary Search Tree"
   ]
  },
  {
   "cell_type": "code",
   "execution_count": 8,
   "metadata": {},
   "outputs": [
    {
     "name": "stdout",
     "output_type": "stream",
     "text": [
      "5\n"
     ]
    }
   ],
   "source": [
    "# Write a Python program to find the kth smallest element in a given binary search tree.\n",
    "\n",
    "class BST(object):\n",
    "    def __init__(self,x):\n",
    "        self.val = x\n",
    "        self.left = None\n",
    "        self.right = None\n",
    "\n",
    "def kth_smallest(root,k):\n",
    "    stack = []\n",
    "    while root or stack:\n",
    "        while root:\n",
    "            stack.append(root)\n",
    "            root = root.left\n",
    "        root = stack.pop()\n",
    "        k -= 1\n",
    "        if k==0:\n",
    "            break\n",
    "        root = root.right\n",
    "    return root.val\n",
    "\n",
    "root = BST(8)\n",
    "root.left = BST(4)\n",
    "root.left.left = BST(3)\n",
    "root.left.right= BST(5)\n",
    "root.right = BST(10)\n",
    "root.right.left = BST(9)\n",
    "root.right.right = BST(11)\n",
    "\n",
    "print(kth_smallest(root,3))"
   ]
  }
 ],
 "metadata": {
  "kernelspec": {
   "display_name": "base",
   "language": "python",
   "name": "python3"
  },
  "language_info": {
   "codemirror_mode": {
    "name": "ipython",
    "version": 3
   },
   "file_extension": ".py",
   "mimetype": "text/x-python",
   "name": "python",
   "nbconvert_exporter": "python",
   "pygments_lexer": "ipython3",
   "version": "3.12.7"
  }
 },
 "nbformat": 4,
 "nbformat_minor": 2
}

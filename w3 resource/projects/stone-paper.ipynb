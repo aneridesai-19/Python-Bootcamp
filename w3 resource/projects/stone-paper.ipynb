{
 "cells": [
  {
   "cell_type": "markdown",
   "metadata": {},
   "source": [
    "### Rock, Paper, Scissors Game: Implement the classic game with a user interface."
   ]
  },
  {
   "cell_type": "code",
   "execution_count": 4,
   "metadata": {},
   "outputs": [
    {
     "name": "stdout",
     "output_type": "stream",
     "text": [
      "Welcome to rock-paper-scissor Game.\n",
      "\n",
      "1.Rock\n",
      "2.Paper\n",
      "3.Scissor\n",
      "\n",
      "You choose rock and computer choose scissor\n",
      "You won round 1.\n",
      "You choose scissor and computer choose paper\n",
      "You won round 2.\n",
      "You choose rock and computer choose scissor\n",
      "You won round 3.\n"
     ]
    },
    {
     "data": {
      "text/plain": [
       "'You won the GAME !!! Congratulations !!!'"
      ]
     },
     "execution_count": 4,
     "metadata": {},
     "output_type": "execute_result"
    }
   ],
   "source": [
    "import random\n",
    "\n",
    "def game(n):\n",
    "    choices = {1:'rock',2:'paper',3:'scissor'}\n",
    "    player_score = 0\n",
    "    comp_score = 0\n",
    "    check = n//2 +1\n",
    "    i=1\n",
    "    while i<=n:\n",
    "        player_choice = int(input(\"Choose your input between 1 to 3:\"))\n",
    "        if player_choice in choices:\n",
    "            comp_choice = random.randint(1,3)\n",
    "            print(f\"You choose {choices[player_choice]} and computer choose {choices[comp_choice]}\")\n",
    "            if player_choice==comp_choice:\n",
    "                print(f\"Round {i} is tie.\")\n",
    "                player_choice \n",
    "            elif (player_choice==1 and comp_choice==3) or (player_choice==2 and comp_choice==1) or (player_choice==3 and comp_choice==2):\n",
    "                print(f\"You won round {i}.\")\n",
    "                player_score+=1\n",
    "            else:\n",
    "                print(f\"Computer won round {i}.\")\n",
    "                comp_score+=1\n",
    "            i+=1\n",
    "            if player_score==comp_score:\n",
    "                continue\n",
    "            elif player_score==check:\n",
    "                return \"You won the GAME !!! Congratulations !!!\"\n",
    "            elif comp_score==check:\n",
    "                return \"Computer won the GAME!!\"\n",
    "            else:\n",
    "                continue\n",
    "        else:\n",
    "            print(\"Enter valid input.\")\n",
    "        \n",
    "    return \"GAME tie.\"\n",
    "\n",
    "print(\"Welcome to rock-paper-scissor Game.\\n\")\n",
    "n = int(input(\"Enter how many rounds you want to play:\"))\n",
    "print(\"1.Rock\\n2.Paper\\n3.Scissor\\n\")\n",
    "game(n)\n"
   ]
  },
  {
   "cell_type": "code",
   "execution_count": null,
   "metadata": {},
   "outputs": [],
   "source": []
  }
 ],
 "metadata": {
  "kernelspec": {
   "display_name": "base",
   "language": "python",
   "name": "python3"
  },
  "language_info": {
   "codemirror_mode": {
    "name": "ipython",
    "version": 3
   },
   "file_extension": ".py",
   "mimetype": "text/x-python",
   "name": "python",
   "nbconvert_exporter": "python",
   "pygments_lexer": "ipython3",
   "version": "3.12.7"
  }
 },
 "nbformat": 4,
 "nbformat_minor": 2
}

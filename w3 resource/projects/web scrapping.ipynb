{
 "cells": [
  {
   "cell_type": "markdown",
   "metadata": {},
   "source": [
    "### Create a  Python project to get the title, genre, rating and the url of the specific movie from IMDb movie  database."
   ]
  },
  {
   "cell_type": "code",
   "execution_count": 1,
   "metadata": {},
   "outputs": [
    {
     "name": "stdout",
     "output_type": "stream",
     "text": [
      "Movie Details:\n",
      "Title: The Shawshank Redemption\n",
      "Genres: \n",
      "Rating: No rating available\n",
      "URL: https://www.imdb.com/title/tt0111161/\n"
     ]
    }
   ],
   "source": [
    "import requests\n",
    "from bs4 import BeautifulSoup\n",
    "\n",
    "def get_movie_details(imdb_url):\n",
    "    # Define headers to simulate a real browser request\n",
    "    headers = {\n",
    "        'User-Agent': 'Mozilla/5.0 (Windows NT 10.0; Win64; x64) AppleWebKit/537.36 (KHTML, like Gecko) Chrome/58.0.3029.110 Safari/537.36'\n",
    "    }\n",
    "    \n",
    "    # Send HTTP GET request to the IMDb movie page with headers\n",
    "    response = requests.get(imdb_url, headers=headers)\n",
    "    \n",
    "    if response.status_code != 200:\n",
    "        print(f\"Failed to retrieve data. HTTP Status Code: {response.status_code}\")\n",
    "        return None\n",
    "    \n",
    "    # Parse the content of the page with BeautifulSoup\n",
    "    soup = BeautifulSoup(response.content, 'html.parser')\n",
    "\n",
    "    # Get the movie title\n",
    "    title = soup.find('h1').text.strip()\n",
    "    \n",
    "    # Get the movie genre(s)\n",
    "    genre_list = soup.find_all('span', class_='sc-16ede8a1-2 jzwXJZ')\n",
    "    genres = [genre.text for genre in genre_list]\n",
    "\n",
    "    # Get the movie rating\n",
    "    rating = soup.find('span', itemprop='ratingValue')\n",
    "    rating_value = rating.text if rating else 'No rating available'\n",
    "    \n",
    "    # Return the details\n",
    "    return {\n",
    "        'title': title,\n",
    "        'genres': genres,\n",
    "        'rating': rating_value,\n",
    "        'url': imdb_url\n",
    "    }\n",
    "\n",
    "# Example IMDb movie URL\n",
    "imdb_movie_url = 'https://www.imdb.com/title/tt0111161/'  # Example movie (The Shawshank Redemption)\n",
    "\n",
    "# Get movie details\n",
    "movie_details = get_movie_details(imdb_movie_url)\n",
    "\n",
    "if movie_details:\n",
    "    print(\"Movie Details:\")\n",
    "    print(f\"Title: {movie_details['title']}\")\n",
    "    print(f\"Genres: {', '.join(movie_details['genres'])}\")\n",
    "    print(f\"Rating: {movie_details['rating']}\")\n",
    "    print(f\"URL: {movie_details['url']}\")\n"
   ]
  },
  {
   "cell_type": "markdown",
   "metadata": {},
   "source": [
    "### Get first few information of topic searched on wikipedia."
   ]
  },
  {
   "cell_type": "code",
   "execution_count": 18,
   "metadata": {},
   "outputs": [
    {
     "name": "stdout",
     "output_type": "stream",
     "text": [
      "Search Topic:\n",
      "zodiac sign\n",
      "\n",
      "InWestern astrology,astrological signsare the twelve 30-degree sectors that make upEarth's 360-degree orbit around the Sun\n",
      " The signs enumerate from the first day of spring, known as theFirst Point of Aries, which is thevernal equinox\n",
      " The astrological signs areAries,Taurus,Gemini,Cancer,Leo,Virgo,Libra,Scorpio,Sagittarius,Capricorn,Aquarius, andPisces\n",
      " The Westernzodiacoriginated inBabylonian astrology, and was later influenced by theHellenisticculture\n",
      " Each sign was named after a constellationthe sunannually moved through while crossing the sky\n",
      " This observation is emphasized in the simplified and popularsun sign astrology\n",
      " Over the centuries, Western astrology's zodiacal divisions have shifted out of alignment with theconstellationsthey were named after byaxial precession[1]of the Earth whileHindu astrologymeasurements correct for this shifting\n",
      "[2]Astrology (i\n",
      "e\n",
      " a system of omina based on celestial appearances) was developed inChineseandTibetancultures as well but these astrologies are not based upon the zodiac but deal with the whole sky\n",
      "\n"
     ]
    }
   ],
   "source": [
    "import requests\n",
    "from bs4 import BeautifulSoup\n",
    "\n",
    "def extract_first_two_paragraphs(full_url):\n",
    "    response = requests.get(full_url)\n",
    "\n",
    "    if response.status_code == 200:\n",
    "        soup = BeautifulSoup(response.content, 'html.parser')\n",
    "\n",
    "        # Find all <p> (paragraph) tags\n",
    "        paragraphs = soup.find_all('p')\n",
    "\n",
    "        # If there are at least two paragraphs, return the first two\n",
    "        if len(paragraphs) >= 2:\n",
    "            # Extract and return the text of the first two paragraphs\n",
    "            return paragraphs[0].get_text(strip=True), paragraphs[1].get_text(strip=True)\n",
    "        else:\n",
    "            return \"Not enough paragraphs found on the page.\"\n",
    "    \n",
    "    else:\n",
    "        return f\"Failed to retrieve the page. HTTP Status Code: {response.status_code}\"\n",
    "\n",
    "# User input to search for a specific topic on Wikipedia\n",
    "url = \"https://en.wikipedia.org/wiki/\"\n",
    "topic = input(\"Enter the topic you want to search: \")\n",
    "print(f\"Search Topic:\\n{topic}\")\n",
    "# Construct the full URL\n",
    "full_url = f\"{url}{topic}\"\n",
    "\n",
    "# Extract and display the first two paragraphs\n",
    "paragraph1, paragraph2 = extract_first_two_paragraphs(full_url)\n",
    "\n",
    "par1=paragraph1.split(\".\")\n",
    "for i in par1:\n",
    "    print(i)\n",
    "par2=paragraph2.split(\".\")\n",
    "for i in par2:\n",
    "    print(i)"
   ]
  },
  {
   "cell_type": "code",
   "execution_count": null,
   "metadata": {},
   "outputs": [],
   "source": []
  }
 ],
 "metadata": {
  "kernelspec": {
   "display_name": "base",
   "language": "python",
   "name": "python3"
  },
  "language_info": {
   "codemirror_mode": {
    "name": "ipython",
    "version": 3
   },
   "file_extension": ".py",
   "mimetype": "text/x-python",
   "name": "python",
   "nbconvert_exporter": "python",
   "pygments_lexer": "ipython3",
   "version": "3.12.7"
  }
 },
 "nbformat": 4,
 "nbformat_minor": 2
}

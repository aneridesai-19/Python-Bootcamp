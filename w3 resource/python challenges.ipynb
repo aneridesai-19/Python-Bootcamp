{
 "cells": [
  {
   "cell_type": "code",
   "execution_count": 6,
   "metadata": {},
   "outputs": [
    {
     "name": "stdout",
     "output_type": "stream",
     "text": [
      "-120\n",
      "9046\n"
     ]
    }
   ],
   "source": [
    "# Write a Python program to calculate sum of all positive, negative integers present in a given string.\n",
    "# Original string:\n",
    "# -100#^sdfkj8902w3ir021@swf-20\n",
    "# Sum of all positive, negative integers present in the said string:\n",
    "# Positive values: 9046\n",
    "# Negative values: -120\n",
    "\n",
    "import re\n",
    "\n",
    "text = \"-100#^sdfkj8902w3ir021@swf-20\"\n",
    "pattern1 = r\"-\\d+\"\n",
    "pattern2 = r\"\\d+\"\n",
    "\n",
    "negative_list = re.findall(pattern1,text)\n",
    "positive_list = re.findall(pattern2,text)\n",
    "\n",
    "sum_neg = 0\n",
    "for i in negative_list:\n",
    "    sum_neg  += int(i)\n",
    "\n",
    "sum_pos = 0\n",
    "for i in positive_list:\n",
    "    sum_pos += int(i)\n",
    "\n",
    "print(sum_neg)\n",
    "print(sum_pos)\n"
   ]
  },
  {
   "cell_type": "code",
   "execution_count": 11,
   "metadata": {},
   "outputs": [
    {
     "name": "stdout",
     "output_type": "stream",
     "text": [
      "AAAABBBCCDAA\n"
     ]
    }
   ],
   "source": [
    "# Write a Python program that takes a string of numbers and letters and return string which consists of letters.\n",
    "# Sample Output:\n",
    "# AAAABBBCCDAA\n",
    "# AAAABBBCCDAAA\n",
    "# PHP\n",
    "# AAAABBBCCCDAABDAAAAC\n",
    "\n",
    "def decode(str1):\n",
    "    nos =[1,2,3,4,5,6,7,8,9]\n",
    "    result = \"\"\n",
    "\n",
    "    i=0\n",
    "    while i < len(str1):\n",
    "        if int(str1[i]) in nos:\n",
    "            result += int(str1[i]) * str1[i+1]\n",
    "        i +=2\n",
    "    return result\n",
    "        \n",
    "print(decode(\"4A3B2C1D2A\"))"
   ]
  },
  {
   "cell_type": "code",
   "execution_count": null,
   "metadata": {},
   "outputs": [],
   "source": []
  }
 ],
 "metadata": {
  "kernelspec": {
   "display_name": "base",
   "language": "python",
   "name": "python3"
  },
  "language_info": {
   "codemirror_mode": {
    "name": "ipython",
    "version": 3
   },
   "file_extension": ".py",
   "mimetype": "text/x-python",
   "name": "python",
   "nbconvert_exporter": "python",
   "pygments_lexer": "ipython3",
   "version": "3.12.7"
  }
 },
 "nbformat": 4,
 "nbformat_minor": 2
}

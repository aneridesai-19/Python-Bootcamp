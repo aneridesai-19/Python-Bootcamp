{
 "cells": [
  {
   "cell_type": "markdown",
   "metadata": {},
   "source": [
    "# Advanced Python"
   ]
  },
  {
   "cell_type": "code",
   "execution_count": 3,
   "metadata": {},
   "outputs": [
    {
     "name": "stdout",
     "output_type": "stream",
     "text": [
      "\n",
      "Software Metrics Tracking System\n",
      "1. Add Metric\n",
      "2. Generate Report\n",
      "3. Exit\n"
     ]
    },
    {
     "name": "stdout",
     "output_type": "stream",
     "text": [
      "90000.0 added to the Laptop\n",
      "\n",
      "Software Metrics Tracking System\n",
      "1. Add Metric\n",
      "2. Generate Report\n",
      "3. Exit\n",
      "70000.0 added to the Laptop\n",
      "\n",
      "Software Metrics Tracking System\n",
      "1. Add Metric\n",
      "2. Generate Report\n",
      "3. Exit\n",
      "\n",
      "Metric name: Laptop \n",
      "Metric Average: 80000.0 \n",
      "Minimum value: 70000.0 \n",
      "Maximum value: 90000.0\n",
      "\n",
      "Software Metrics Tracking System\n",
      "1. Add Metric\n",
      "2. Generate Report\n",
      "3. Exit\n",
      "Exiting the system.\n"
     ]
    }
   ],
   "source": [
    "# Write a Python program to implement a system for tracking and analyzing software metrics.\n",
    "\n",
    "import statistics\n",
    "\n",
    "class SoftwareMetrics:\n",
    "    def __init__(self):\n",
    "        self.metrics = {}\n",
    "    def add_metric(self,metric_name,metric_value):\n",
    "        if metric_name not in self.metrics:\n",
    "            self.metrics[metric_name]=[]\n",
    "        self.metrics[metric_name].append(metric_value)\n",
    "    \n",
    "    def avg(self,metric_name):\n",
    "        if metric_name in self.metrics:\n",
    "            return statistics.mean(self.metrics[metric_name])\n",
    "        else:\n",
    "            return None\n",
    "    \n",
    "    def min_max(self,metric_name):\n",
    "        if metric_name in self.metrics:\n",
    "            return min(self.metrics[metric_name]), max(self.metrics[metric_name])\n",
    "        else:\n",
    "            return None, None\n",
    "    \n",
    "    def report(self):\n",
    "        report = []\n",
    "        for metric_name in self.metrics:\n",
    "            avg = self.avg(metric_name)\n",
    "            min_val, max_val = self.min_max(metric_name)\n",
    "            report.append({\n",
    "                'Metric name': metric_name,\n",
    "                'Average': avg,\n",
    "                'Min': min_val,\n",
    "                'Max': max_val\n",
    "            })\n",
    "        return report\n",
    "\n",
    "def main():\n",
    "    metrics = SoftwareMetrics()\n",
    "\n",
    "    while True:\n",
    "        print(\"\\nSoftware Metrics Tracking System\")\n",
    "        print(\"1. Add Metric\")\n",
    "        print(\"2. Generate Report\")\n",
    "        print(\"3. Exit\")\n",
    "\n",
    "        choice = input(\"Enter your choice: \")\n",
    "\n",
    "        if choice=='1':\n",
    "            metric_name = input(\"Enter metric name: \")\n",
    "            try:\n",
    "                metric_value = float(input(\"Enter a metric value: \"))\n",
    "                metrics.add_metric(metric_name,metric_value)\n",
    "                print(f\"{metric_value} added to the {metric_name}\")\n",
    "            except:\n",
    "                print(\"Invalid value.\")\n",
    "\n",
    "        elif choice=='2':\n",
    "            rep = metrics.report()\n",
    "            for metric in rep:\n",
    "                print(f\"\\nMetric name: {metric['Metric name']} \\nMetric Average: {metric['Average']} \\nMinimum value: {metric['Min']} \\nMaximum value: {metric['Max']}\")\n",
    "        \n",
    "        elif choice=='3':\n",
    "            print(\"Exiting the system.\")\n",
    "            break\n",
    "\n",
    "        else:\n",
    "            print(\"Invalid Input.\")\n",
    "\n",
    "if __name__== \"__main__\":\n",
    "    main()"
   ]
  }
 ],
 "metadata": {
  "kernelspec": {
   "display_name": "base",
   "language": "python",
   "name": "python3"
  },
  "language_info": {
   "codemirror_mode": {
    "name": "ipython",
    "version": 3
   },
   "file_extension": ".py",
   "mimetype": "text/x-python",
   "name": "python",
   "nbconvert_exporter": "python",
   "pygments_lexer": "ipython3",
   "version": "3.12.7"
  }
 },
 "nbformat": 4,
 "nbformat_minor": 2
}

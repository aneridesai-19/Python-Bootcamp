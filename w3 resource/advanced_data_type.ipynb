{
 "cells": [
  {
   "cell_type": "markdown",
   "metadata": {},
   "source": [
    "# Boolean "
   ]
  },
  {
   "cell_type": "code",
   "execution_count": 6,
   "metadata": {},
   "outputs": [
    {
     "name": "stdout",
     "output_type": "stream",
     "text": [
      "Authentication successful. Welcome ANERI\n"
     ]
    }
   ],
   "source": [
    "# Write a Python program that checks a simple authentication system. \n",
    "# The program verifies the provided username and password against predefined usernames and passwords by using boolean checks.\n",
    "\n",
    "def check(username,password):\n",
    "    pre_users = {\"aneri\":\"ad@1234\", \"vatsal\":\"vc@1234\", \"vraj\":\"vd@1234\"}\n",
    "    if username in pre_users and pre_users[username]==password:\n",
    "        return True\n",
    "    else:\n",
    "        return False\n",
    "\n",
    "def main():\n",
    "    while True:\n",
    "        try:\n",
    "            username = input(\"Enter your username: \")\n",
    "            password = input(\"Enter your password: \")\n",
    "\n",
    "            if check(username,password):\n",
    "                print(\"Authentication successful. Welcome\",username.upper())\n",
    "                break\n",
    "\n",
    "            else:\n",
    "                print(\"Username or password is incorrect.Please try again.\")\n",
    "        \n",
    "        except Exception:\n",
    "            print(\"Error occured.\\n\",Exception)\n",
    "\n",
    "if __name__ == \"__main__\":\n",
    "    main()"
   ]
  },
  {
   "cell_type": "code",
   "execution_count": 13,
   "metadata": {},
   "outputs": [
    {
     "name": "stdout",
     "output_type": "stream",
     "text": [
      "Point (5.0, 0.0) is within range of circle with centre (0.0, 0.0),radius 7.0.\n"
     ]
    }
   ],
   "source": [
    "# Write a Python program that creates a function that determines \n",
    "# if a given point (x, y) is within a specified circle area using boolean conditions.\n",
    "import math\n",
    "def in_circle(x,y,centre_x,centre_y,r):\n",
    "    distance = math.sqrt((x-centre_x)**2 + (y-centre_y)**2)\n",
    "    if distance <= r:\n",
    "        return True\n",
    "    else:\n",
    "        return False\n",
    "\n",
    "def main():\n",
    "    try:\n",
    "        x = float(input(\"Enter x-coordinate: \"))\n",
    "        y = float(input(\"Enter y-coordinate : \"))\n",
    "        centre_x = float(input(\"Enter x-coordinate of centre: \"))\n",
    "        centre_y = float(input(\"Enter y-coordinate of centre: \"))\n",
    "        r = float(input(\"Enter radius : \"))\n",
    "\n",
    "        if in_circle(x,y,centre_x,centre_y,r):\n",
    "            print(f\"Point {x,y} is within range of circle with centre {centre_x,centre_y},radius {r}.\")\n",
    "\n",
    "        else:\n",
    "            print(\"Point is out of range\")\n",
    "        \n",
    "    except ValueError:\n",
    "        print(\"Invalid input.\")\n",
    "\n",
    "if __name__ == \"__main__\":\n",
    "    main()"
   ]
  },
  {
   "cell_type": "markdown",
   "metadata": {},
   "source": [
    "# None"
   ]
  },
  {
   "cell_type": "code",
   "execution_count": 15,
   "metadata": {},
   "outputs": [
    {
     "name": "stdout",
     "output_type": "stream",
     "text": [
      "Original string: Python Basic Questions.\n",
      "New string:  Python Basic Questions.\n"
     ]
    }
   ],
   "source": [
    "# Write a Python function that replaces all occurrences of a substring \n",
    "# in a string with another substring. Returns None if the original string is empty.\n",
    "\n",
    "def replace_str(original,old,new):\n",
    "    if original:\n",
    "        return original.replace(old,new)\n",
    "    else:\n",
    "        return None\n",
    "    \n",
    "original = \"Python Basic Questions.\"\n",
    "old = \"Basic\"\n",
    "new = \"Advanced\"\n",
    "\n",
    "result = replace_str(original,old,new)\n",
    "\n",
    "if result == None:\n",
    "    print(\"Original string is empty.\")\n",
    "\n",
    "else:\n",
    "    print(\"Original string:\",original)\n",
    "    print(\"New string: \",result)"
   ]
  },
  {
   "cell_type": "markdown",
   "metadata": {},
   "source": [
    "# Bytes and byte array"
   ]
  },
  {
   "cell_type": "code",
   "execution_count": 16,
   "metadata": {},
   "outputs": [
    {
     "name": "stdout",
     "output_type": "stream",
     "text": [
      "original byte array:  bytearray(b'\\x01\\x02\\x03\\x04\\x05')\n",
      "Byte array into bytes:  b'\\x01\\x02\\x03\\x04\\x05'\n"
     ]
    }
   ],
   "source": [
    "# Write a Python function that converts a bytearray to a bytes object.\n",
    "\n",
    "def bytearray_to_bytes(barr):\n",
    "    bytes_obj = bytes(barr)\n",
    "    return bytes_obj\n",
    "\n",
    "barr = bytearray([1,2,3,4,5])\n",
    "result = bytearray_to_bytes(barr)\n",
    "\n",
    "print(\"original byte array: \",barr)\n",
    "print(\"Byte array into bytes: \",result)"
   ]
  },
  {
   "cell_type": "code",
   "execution_count": 19,
   "metadata": {},
   "outputs": [],
   "source": [
    "# Python code to create binary file containing 'foobar' byte sequence\n",
    "data = b\"foobar\"  # The byte sequence you're looking for\n",
    "with open(\"binary.bin\", \"wb\") as bin_file:\n",
    "    bin_file.write(data)"
   ]
  },
  {
   "cell_type": "code",
   "execution_count": 21,
   "metadata": {},
   "outputs": [
    {
     "name": "stdout",
     "output_type": "stream",
     "text": [
      "Match found in file binary.bin\n",
      "Match found\n"
     ]
    }
   ],
   "source": [
    "# Write a Python function that searches for a bytes sequence within a file opened in byte mode.\n",
    "\n",
    "import io\n",
    "def search_bytes(file_path, match_bytes):\n",
    "  with io.open(file_path, mode='rb') as file:\n",
    "    for line in file:\n",
    "      if match_bytes in line:\n",
    "        print(f\"Match found in file {file_path}\")\n",
    "        return True\n",
    "    else:\n",
    "      return False\n",
    "\n",
    "match = b'foobar'  \n",
    "result = search_bytes('binary.bin', match)\n",
    "if result:\n",
    "  print(\"Match found\") \n",
    "else:\n",
    "  print(\"No match\")\n"
   ]
  },
  {
   "cell_type": "markdown",
   "metadata": {},
   "source": [
    "# Memory Views"
   ]
  },
  {
   "cell_type": "code",
   "execution_count": 22,
   "metadata": {},
   "outputs": [
    {
     "name": "stdout",
     "output_type": "stream",
     "text": [
      "Original list: [10, 20, 30, 40, 50]\n",
      "Hex Values of list elements:\n",
      "0xa\n",
      "0x14\n",
      "0x1e\n",
      "0x28\n",
      "0x32\n"
     ]
    }
   ],
   "source": [
    "# Write a Python program that creates a memory view from a list of integers and print the hex values of each element.\n",
    "\n",
    "def test(memory_view):\n",
    "    for element in memory_view:\n",
    "        print(hex(element))\n",
    "\n",
    "nums = [10,20,30,40,50]\n",
    "print(\"Original list:\",nums)\n",
    "\n",
    "memory_view = memoryview(bytearray(nums))\n",
    "\n",
    "print(\"Hex Values of list elements:\")\n",
    "test(memory_view)"
   ]
  },
  {
   "cell_type": "code",
   "execution_count": 24,
   "metadata": {},
   "outputs": [
    {
     "name": "stdout",
     "output_type": "stream",
     "text": [
      "Original: bytearray(b'\\x01\\x02\\x03\\x04\\x05\\x06\\x07\\x08\\t\\n')\n",
      "Sliced Memory View:\n",
      "bytearray(b'\\x04\\x05\\x06\\x07\\x08')\n",
      "[4, 5, 6, 7, 8]\n"
     ]
    }
   ],
   "source": [
    "# Write a Python program that takes a slice of a memory view using indexing syntax and prints the slice.\n",
    "\n",
    "original = bytearray([1, 2, 3, 4, 5, 6, 7, 8, 9, 10])\n",
    "\n",
    "memory_view = memoryview(original)\n",
    "\n",
    "s_index = 3\n",
    "e_index = 8\n",
    "sliced_memory_view = memory_view[s_index:e_index]\n",
    "\n",
    "print(\"Original:\", original)\n",
    "print(\"Sliced Memory View:\")\n",
    "print(bytearray(sliced_memory_view))\n",
    "print(list(sliced_memory_view))"
   ]
  },
  {
   "cell_type": "markdown",
   "metadata": {},
   "source": [
    "# Frozen set view"
   ]
  },
  {
   "cell_type": "code",
   "execution_count": 29,
   "metadata": {},
   "outputs": [
    {
     "name": "stdout",
     "output_type": "stream",
     "text": [
      "Frozenset of Squares of Odd Numbers: frozenset({1, 121, 225, 9, 169, 81, 49, 25})\n"
     ]
    }
   ],
   "source": [
    "# Write a Python program that generates a frozenset containing the squares of all odd numbers from 1 to 15 using set comprehension.\n",
    "\n",
    "odd_numbers = {x**2 for x in range(1, 16) if x % 2 != 0}\n",
    "frozenset_of_squares = frozenset(odd_numbers)\n",
    "print(\"Frozenset of Squares of Odd Numbers:\", frozenset_of_squares)"
   ]
  },
  {
   "cell_type": "code",
   "execution_count": 30,
   "metadata": {},
   "outputs": [
    {
     "name": "stdout",
     "output_type": "stream",
     "text": [
      "Key: frozenset({('country', 'Spain'), ('name', 'Bernardetta Frigg'), ('age', 20)})\n",
      "Value: {'name': 'Bernardetta Frigg', 'age': 20, 'country': 'Spain'}\n",
      "\n",
      "Key: frozenset({('age', 22), ('country', 'France'), ('name', 'Fadhili Lilah')})\n",
      "Value: {'name': 'Fadhili Lilah', 'age': 22, 'country': 'France'}\n",
      "\n",
      "Key: frozenset({('age', 21), ('name', 'Abbe Ivan'), ('country', 'USA')})\n",
      "Value: {'name': 'Abbe Ivan', 'age': 21, 'country': 'USA'}\n",
      "\n"
     ]
    }
   ],
   "source": [
    "# Write a Python program that uses a frozenset as a key in a dictionary to \n",
    "# create a hashable composite key for more complex data structures.\n",
    "\n",
    "emp1 = {\"name\": \"Bernardetta Frigg\", \"age\": 20, \"country\": \"Spain\"}\n",
    "emp2 = {\"name\": \"Fadhili Lilah\", \"age\": 22, \"country\": \"France\"}\n",
    "emp3 = {\"name\": \"Abbe Ivan\", \"age\": 21, \"country\": \"USA\"}\n",
    "\n",
    "employees_data = {\n",
    "    frozenset(emp1.items()): emp1,\n",
    "    frozenset(emp2.items()): emp2,\n",
    "    frozenset(emp3.items()): emp3\n",
    "}\n",
    "    \n",
    "for key, value in employees_data.items():\n",
    "    print(\"Key:\", key)\n",
    "    print(\"Value:\", value)\n",
    "    print()\n"
   ]
  },
  {
   "cell_type": "markdown",
   "metadata": {},
   "source": [
    "# Named Tuple"
   ]
  },
  {
   "cell_type": "code",
   "execution_count": 33,
   "metadata": {},
   "outputs": [
    {
     "name": "stdout",
     "output_type": "stream",
     "text": [
      "Car Make: Honda\n",
      "Car Model: City\n",
      "Car Year: 2020\n",
      "Car Engine Type: 1.5L\n",
      "Car Engine Cylinders: 4\n"
     ]
    }
   ],
   "source": [
    "# Write a Python program that defines a NamedTuple named \"Car\" with fields 'make', 'model', 'year', \n",
    "# and 'engine' (a NamedTuple representing engine details). \n",
    "# Create an instance of the \"Car\" NamedTuple and print its attributes.\n",
    "\n",
    "from collections import namedtuple\n",
    "\n",
    "Engine = namedtuple('Engine', ['type', 'cylinders'])\n",
    "\n",
    "Car = namedtuple('Car', ['make', 'model', 'year', 'engine'])\n",
    "\n",
    "engine_instance = Engine(type='1.5L', cylinders=4)\n",
    "\n",
    "car_instance = Car(make='Honda', model='City', year=2020, engine=engine_instance)\n",
    "\n",
    "print(\"Car Make:\", car_instance.make)\n",
    "print(\"Car Model:\", car_instance.model)\n",
    "print(\"Car Year:\", car_instance.year)\n",
    "print(\"Car Engine Type:\", car_instance.engine.type)\n",
    "print(\"Car Engine Cylinders:\", car_instance.engine.cylinders)\n"
   ]
  },
  {
   "cell_type": "markdown",
   "metadata": {},
   "source": [
    "# Ordered Dict"
   ]
  },
  {
   "cell_type": "code",
   "execution_count": 34,
   "metadata": {},
   "outputs": [
    {
     "name": "stdout",
     "output_type": "stream",
     "text": [
      "Red: 3\n",
      "Green: 5\n",
      "Pink: 4\n",
      "White: 5\n",
      "Orange: 6\n"
     ]
    }
   ],
   "source": [
    "# Write a Python function that takes a list of words and returns \n",
    "# an OrderedDict where keys are the words and values are the lengths of the words.\n",
    "\n",
    "from collections import OrderedDict\n",
    "\n",
    "def ordered_dict_len(words):\n",
    "    ordered_dict = OrderedDict()\n",
    "    \n",
    "    for word in words:\n",
    "        ordered_dict[word] = len(word)\n",
    "    \n",
    "    return ordered_dict\n",
    "\n",
    "words = [\"Red\", \"Green\", \"Pink\", \"White\", \"Orange\"]\n",
    "result = ordered_dict_len(words)\n",
    "    \n",
    "for word, length in result.items():\n",
    "    print(f\"{word}: {length}\")"
   ]
  },
  {
   "cell_type": "markdown",
   "metadata": {},
   "source": [
    "# Counter"
   ]
  },
  {
   "cell_type": "code",
   "execution_count": 38,
   "metadata": {},
   "outputs": [
    {
     "name": "stdout",
     "output_type": "stream",
     "text": [
      "Counter({'Black': 4, 'Pink': 3, 'White': 2, 'Red': 1})\n",
      "\n",
      "After updation:\n",
      "Counter({'Black': 6, 'Pink': 3, 'Red': 1, 'White': 1})\n"
     ]
    }
   ],
   "source": [
    "# Write a Python program that creates a 'Counter' for a list of items \n",
    "# and uses dictionary-style access to update the count of specific items.\n",
    "\n",
    "from collections import Counter\n",
    "\n",
    "lst = [\"Black\",\"Pink\",\"Red\",\"White\",\"Black\",\"White\",\"Pink\",\"Black\",\"Pink\",\"Black\"]\n",
    "c = Counter(lst)\n",
    "\n",
    "print(c)\n",
    "\n",
    "c['Black']+=2\n",
    "c['White']-=1\n",
    "\n",
    "print(\"\\nAfter updation:\")\n",
    "print(c)"
   ]
  },
  {
   "cell_type": "code",
   "execution_count": 43,
   "metadata": {},
   "outputs": [
    {
     "name": "stdout",
     "output_type": "stream",
     "text": [
      "List 1: ['Red', 'White', 'Black', 'Pink']\n",
      "List 2: ['White', 'Pink', 'Black']\n",
      "Jaccard Similarity Coefficient: 0.75\n"
     ]
    }
   ],
   "source": [
    "# Write a python program to find the Jaccard similarity coefficient between two lists using 'Counter' objects.\n",
    "\n",
    "from collections import Counter\n",
    "\n",
    "def jaccard_similarity(list1, list2):\n",
    "    counter1 = Counter(list1)\n",
    "    counter2 = Counter(list2)\n",
    "    \n",
    "    intersection_count = sum((counter1 & counter2).values())\n",
    "    union_count = sum((counter1 | counter2).values())\n",
    "    \n",
    "    jaccard_coefficient = intersection_count / union_count\n",
    "    return jaccard_coefficient\n",
    "\n",
    "list1 = ['Red', 'White', 'Black', 'Pink']\n",
    "list2 = ['White', 'Pink', 'Black']\n",
    "    \n",
    "jaccard_coefficient = jaccard_similarity(list1, list2)\n",
    "print(\"List 1:\", list1)\n",
    "print(\"List 2:\", list2)\n",
    "print(\"Jaccard Similarity Coefficient:\", jaccard_coefficient)"
   ]
  },
  {
   "cell_type": "markdown",
   "metadata": {},
   "source": [
    "# Ellipsis"
   ]
  },
  {
   "cell_type": "code",
   "execution_count": 44,
   "metadata": {},
   "outputs": [
    {
     "name": "stdout",
     "output_type": "stream",
     "text": [
      "Attribute 1: Black\n",
      "Attribute 2: White\n",
      "Attribute 3: Ellipsis\n",
      "Modified Attribute 3: Pink\n"
     ]
    }
   ],
   "source": [
    "# Write a Python program that creates a custom class with an 'init' method. \n",
    "# Use 'ellipsis' to indicate that some attributes may be added dynamically.\n",
    "\n",
    "class MyClass:\n",
    "    def __init__(self, attribute1, attribute2, attribute3=...):\n",
    "        self.attribute1 = attribute1\n",
    "        self.attribute2 = attribute2\n",
    "        self.attribute3 = attribute3\n",
    "\n",
    "    def set_attri(self, value):\n",
    "        self.attribute3 = value\n",
    "\n",
    "obj = MyClass(\"Black\", \"White\")\n",
    "\n",
    "print(\"Attribute 1:\", obj.attribute1)\n",
    "print(\"Attribute 2:\", obj.attribute2)\n",
    "print(\"Attribute 3:\", obj.attribute3)\n",
    "\n",
    "obj.set_attri(\"Pink\")\n",
    "\n",
    "print(\"Modified Attribute 3:\", obj.attribute3)\n"
   ]
  },
  {
   "cell_type": "code",
   "execution_count": null,
   "metadata": {},
   "outputs": [],
   "source": []
  }
 ],
 "metadata": {
  "kernelspec": {
   "display_name": "base",
   "language": "python",
   "name": "python3"
  },
  "language_info": {
   "codemirror_mode": {
    "name": "ipython",
    "version": 3
   },
   "file_extension": ".py",
   "mimetype": "text/x-python",
   "name": "python",
   "nbconvert_exporter": "python",
   "pygments_lexer": "ipython3",
   "version": "3.12.7"
  }
 },
 "nbformat": 4,
 "nbformat_minor": 2
}

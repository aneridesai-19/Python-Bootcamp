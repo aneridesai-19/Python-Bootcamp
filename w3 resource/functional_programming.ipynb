{
 "cells": [
  {
   "cell_type": "markdown",
   "metadata": {},
   "source": [
    "# Functions"
   ]
  },
  {
   "cell_type": "code",
   "execution_count": 2,
   "metadata": {},
   "outputs": [
    {
     "name": "stdout",
     "output_type": "stream",
     "text": [
      "4.0\n",
      "10.0\n"
     ]
    }
   ],
   "source": [
    "# Write a Python program that invokes a function after a specified period of time.\n",
    "# Sample Output:\n",
    "# Square root after specific miliseconds:\n",
    "# 4.0\n",
    "# 10.0\n",
    "\n",
    "from time import sleep\n",
    "import math\n",
    "\n",
    "def delay(fun,ms,*args):\n",
    "    sleep(ms/1000)\n",
    "    return fun(*args)\n",
    "\n",
    "print(delay(lambda x:math.sqrt(x),1000,16))\n",
    "\n",
    "print(delay(lambda x:math.sqrt(x),2000,100))"
   ]
  },
  {
   "cell_type": "code",
   "execution_count": 7,
   "metadata": {},
   "outputs": [
    {
     "name": "stdout",
     "output_type": "stream",
     "text": [
      "(2, 7)\n"
     ]
    }
   ],
   "source": [
    "# Write a Python program to access a function inside a function.\n",
    "\n",
    "def test(a):\n",
    "    def add(b):\n",
    "        nonlocal a\n",
    "        a -= 2\n",
    "        b+=2\n",
    "        return a,b\n",
    "    return add\n",
    "\n",
    "func = test(4)\n",
    "print(func(5)) \n"
   ]
  },
  {
   "cell_type": "markdown",
   "metadata": {},
   "source": [
    "# Lambda"
   ]
  },
  {
   "cell_type": "code",
   "execution_count": 10,
   "metadata": {},
   "outputs": [
    {
     "name": "stdout",
     "output_type": "stream",
     "text": [
      "Original list: [12, 0, None, 23, None, -55, 234, 89, None, 0, 6, -12]\n",
      "List after removing none value: [12, 0, 23, -55, 234, 89, 0, 6, -12]\n"
     ]
    }
   ],
   "source": [
    "# Write a  Python program to remove None values from a given list using the lambda function.\n",
    "# Original list:\n",
    "# [12, 0, None, 23, None, -55, 234, 89, None, 0, 6, -12]\n",
    "# Remove None value from the said list:\n",
    "# [12, 0, 23, -55, 234, 89, 0, 6, -12]\n",
    "\n",
    "num = [12, 0, None, 23, None, -55, 234, 89, None, 0, 6, -12]\n",
    "print(\"Original list:\",num)\n",
    "def remove_none(num):\n",
    "    result = filter(lambda x:x is not None,num)\n",
    "    return list(result)\n",
    "print(\"List after removing none value:\",remove_none(num))"
   ]
  },
  {
   "cell_type": "code",
   "execution_count": 12,
   "metadata": {},
   "outputs": [
    {
     "name": "stdout",
     "output_type": "stream",
     "text": [
      "Maximum and minimum value: (74, 62)\n"
     ]
    }
   ],
   "source": [
    "# Write a Python program to find the maximum and minimum values in a given list of tuples using the lambda function.\n",
    "# Original list with tuples:\n",
    "# [('V', 62), ('VI', 68), ('VII', 72), ('VIII', 70), ('IX', 74), ('X', 65)]\n",
    "# Maximum and minimum values of the said list of tuples:\n",
    "# (74, 62)\n",
    "\n",
    "def min_max(lst):\n",
    "    maxi = max(lst, key=lambda i:i[1])[1]\n",
    "    mini = min(lst,key=lambda i:i[1])[1]\n",
    "    return (maxi,mini)\n",
    "\n",
    "lst = [('V', 62), ('VI', 68), ('VII', 72), ('VIII', 70), ('IX', 74), ('X', 65)]\n",
    "print(\"Maximum and minimum value:\",min_max(lst))"
   ]
  },
  {
   "cell_type": "markdown",
   "metadata": {},
   "source": [
    "# Map"
   ]
  },
  {
   "cell_type": "code",
   "execution_count": 15,
   "metadata": {},
   "outputs": [
    {
     "name": "stdout",
     "output_type": "stream",
     "text": [
      "['Aneri Desai', 'Vatsal Chauhan', 'Vraj Desai']\n"
     ]
    }
   ],
   "source": [
    "# Write a Python program to convert a given list of tuples to a list of strings using the map function.\n",
    "\n",
    "names = [('Aneri', 'Desai'), ('Vatsal', 'Chauhan'), ('Vraj', 'Desai')]\n",
    "\n",
    "def tuple_to_string(names):\n",
    "    result = list(map(\" \".join,names))\n",
    "    return result\n",
    "\n",
    "print(tuple_to_string(names))"
   ]
  },
  {
   "cell_type": "code",
   "execution_count": 16,
   "metadata": {},
   "outputs": [
    {
     "name": "stdout",
     "output_type": "stream",
     "text": [
      "[['A', 'n', 'e', 'r', 'i'], ['V', 'a', 't', 's', 'a', 'l'], ['V', 'r', 'a', 'j']]\n"
     ]
    }
   ],
   "source": [
    "# Write a Python program to convert a given list of strings into a list of lists using the map function.\n",
    "\n",
    "names = [\"Aneri\",\"Vatsal\",\"Vraj\"]\n",
    "\n",
    "def strings_to_list(names):\n",
    "    result = list(map(list,names))\n",
    "    return result\n",
    "\n",
    "print(strings_to_list(names))"
   ]
  },
  {
   "cell_type": "markdown",
   "metadata": {},
   "source": [
    "# Itertools"
   ]
  },
  {
   "cell_type": "code",
   "execution_count": 36,
   "metadata": {},
   "outputs": [
    {
     "name": "stdout",
     "output_type": "stream",
     "text": [
      "Maximum diff pair: [(90, 10)]\n"
     ]
    }
   ],
   "source": [
    "# Write a Python program to find the maximum difference between pairs in a given list.\n",
    "\n",
    "from itertools import combinations\n",
    "from heapq import nlargest\n",
    "\n",
    "def max_diff(lst):\n",
    "    result = nlargest(1,combinations(lst,2),key= lambda diff: abs(diff[0]-diff[1]))\n",
    "    return result\n",
    "lst = [32,14,90,10,22,42,31]\n",
    "print(\"Maximum diff pair:\",max_diff(lst))"
   ]
  },
  {
   "cell_type": "code",
   "execution_count": 28,
   "metadata": {},
   "outputs": [
    {
     "name": "stdout",
     "output_type": "stream",
     "text": [
      "List of non zero block: [[3, 4, 6, 2], [6, 7, 6, 9, 10], [7, 4, 4], [5, 3, 2, 9, 7, 1]]\n"
     ]
    }
   ],
   "source": [
    "# Write a  Python program to extract a non-zero block from a given integer list.\n",
    "import itertools\n",
    "\n",
    "def non_zero_block(num):\n",
    "    result = [list(x[1]) for x in itertools.groupby(num,lambda x:x==0) if not x[0]]\n",
    "    return result\n",
    "num = [3,4,6,2,0,0,0,0,0,0,6,7,6,9,10,0,0,0,0,0,7,4,4,0,0,0,0,0,0,5,3,2,9,7,1]\n",
    "print(\"List of non zero block:\",non_zero_block(num))"
   ]
  },
  {
   "cell_type": "markdown",
   "metadata": {},
   "source": [
    "# Filter function"
   ]
  },
  {
   "cell_type": "code",
   "execution_count": 34,
   "metadata": {},
   "outputs": [
    {
     "name": "stdout",
     "output_type": "stream",
     "text": [
      "['2025-04-19', '2025-01-24']\n"
     ]
    }
   ],
   "source": [
    "# Write a Python program that implements a Python program that filters out dates (in the format \"YYYY-MM-DD\") \n",
    "# that are in the future using the filter function.\n",
    "\n",
    "from datetime import datetime\n",
    "\n",
    "date_lst = [\"2024-12-31\",\"2025-04-19\",\"2024-09-24\",\"2025-01-24\"]\n",
    "\n",
    "current_date = datetime.today().date()\n",
    "\n",
    "def filtered_date(date):\n",
    "    dates = datetime.strptime(date,\"%Y-%m-%d\").date()\n",
    "    return dates>current_date\n",
    "\n",
    "result_date = list(filter(filtered_date,date_lst))\n",
    "print(result_date)"
   ]
  },
  {
   "cell_type": "code",
   "execution_count": 38,
   "metadata": {},
   "outputs": [
    {
     "name": "stdout",
     "output_type": "stream",
     "text": [
      "[('New York', 5000000), ('London', 4000000), ('Paris', 3000000)]\n"
     ]
    }
   ],
   "source": [
    "# Write a Python program that creates a list of tuples, each containing a city name and its population. \n",
    "# Use the filter function to extract cities with a population greater than 2 million.\n",
    "\n",
    "citis = [(\"New York\",5000000),(\"London\",4000000),(\"Navsari\",400000),(\"Paris\",3000000),(\"Ahmedabad\",1000000)]\n",
    "\n",
    "def filtered_city(city):\n",
    "    return city[1]>2000000\n",
    "\n",
    "result_city = list(filter(filtered_city,citis))\n",
    "print(result_city)"
   ]
  },
  {
   "cell_type": "code",
   "execution_count": null,
   "metadata": {},
   "outputs": [],
   "source": []
  }
 ],
 "metadata": {
  "kernelspec": {
   "display_name": "base",
   "language": "python",
   "name": "python3"
  },
  "language_info": {
   "codemirror_mode": {
    "name": "ipython",
    "version": 3
   },
   "file_extension": ".py",
   "mimetype": "text/x-python",
   "name": "python",
   "nbconvert_exporter": "python",
   "pygments_lexer": "ipython3",
   "version": "3.12.7"
  }
 },
 "nbformat": 4,
 "nbformat_minor": 2
}

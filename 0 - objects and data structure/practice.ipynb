{
 "cells": [
  {
   "cell_type": "markdown",
   "metadata": {},
   "source": [
    "# List"
   ]
  },
  {
   "cell_type": "code",
   "execution_count": 1,
   "metadata": {},
   "outputs": [
    {
     "name": "stdout",
     "output_type": "stream",
     "text": [
      "[1, 2, 3, 4, 5, 6]\n"
     ]
    }
   ],
   "source": [
    "## Write a function that takes a nested list and flattens it into a single list. Print the original and flattened lists.\n",
    "\n",
    "def list(nested_list):\n",
    "    list1 = [item for sublist in nested_list for item in sublist]\n",
    "    return list1\n",
    "\n",
    "nested_list=[[1,2,3],[4,5],[6]]\n",
    "result = list(nested_list)\n",
    "print(result)"
   ]
  },
  {
   "cell_type": "code",
   "execution_count": 5,
   "metadata": {},
   "outputs": [
    {
     "name": "stdout",
     "output_type": "stream",
     "text": [
      "[1, 2, 4, 5, 7, 99, 8, 10]\n"
     ]
    }
   ],
   "source": [
    "## Create a list of the first 10 positive integers. Remove the elements at indices 2, 4, and 6, and insert the element '99' at index 5. Print the modified list.\n",
    "\n",
    "list1=[1,2,3,4,5,6,7,8,9,10]\n",
    "list1.pop(2)\n",
    "list1.pop(4)\n",
    "list1.pop(6)\n",
    "list1.insert(5,99)\n",
    "print(list1)\n"
   ]
  },
  {
   "cell_type": "markdown",
   "metadata": {},
   "source": [
    "# Dictionaries"
   ]
  },
  {
   "cell_type": "code",
   "execution_count": 6,
   "metadata": {},
   "outputs": [
    {
     "name": "stdout",
     "output_type": "stream",
     "text": [
      "{1: (1, 1), 2: (2, 4), 3: (3, 9), 4: (4, 16), 5: (5, 25)}\n"
     ]
    }
   ],
   "source": [
    "# Create a dictionary where the keys are the first 5 positive integers and the values are tuples containing the key and its square. Print the dictionary.\n",
    "\n",
    "dict = { i:(i,i**2) for i in range(1,6)}\n",
    "print(dict)"
   ]
  },
  {
   "cell_type": "code",
   "execution_count": 16,
   "metadata": {},
   "outputs": [
    {
     "name": "stdout",
     "output_type": "stream",
     "text": [
      "[1, 1, 2, 4, 3, 9, 4, 16, 5, 25]\n"
     ]
    }
   ],
   "source": [
    "# Create a dictionary with the first 5 positive integers as keys and their squares as values. Convert the dictionary to a list of tuples and print it.\n",
    "\n",
    "d = {i: i**2 for i in range(1, 6)}\n",
    "list_of_tuples = list(tuple(d.items()))\n",
    "print(list_of_tuples)"
   ]
  },
  {
   "cell_type": "markdown",
   "metadata": {},
   "source": [
    "# Sets"
   ]
  },
  {
   "cell_type": "code",
   "execution_count": 17,
   "metadata": {},
   "outputs": [
    {
     "name": "stdout",
     "output_type": "stream",
     "text": [
      "1\n",
      "2\n",
      "3\n",
      "4\n",
      "5\n"
     ]
    }
   ],
   "source": [
    "# Create a set and iterate over the elements, printing each element.\n",
    "\n",
    "s = set(range(1,6))\n",
    "for i in s:\n",
    "    print(i)"
   ]
  },
  {
   "cell_type": "code",
   "execution_count": 20,
   "metadata": {},
   "outputs": [
    {
     "name": "stdout",
     "output_type": "stream",
     "text": [
      "{2, 3, 4, 5}\n",
      "{3, 4, 5}\n",
      "{4, 5}\n",
      "{5}\n",
      "set()\n"
     ]
    }
   ],
   "source": [
    "# Create a set and remove elements from it until it is empty. Print the set after each removal.\n",
    "\n",
    "s = set(range(1,6))\n",
    "while s:\n",
    "    s.pop()\n",
    "    print(s)"
   ]
  },
  {
   "cell_type": "markdown",
   "metadata": {},
   "source": [
    "# Tuples"
   ]
  },
  {
   "cell_type": "code",
   "execution_count": 23,
   "metadata": {},
   "outputs": [
    {
     "name": "stdout",
     "output_type": "stream",
     "text": [
      "Occurrence of 1: 4\n",
      "First index of 1: 0\n",
      "Occurrence of 2: 4\n",
      "First index of 2: 4\n",
      "Occurrence of 3: 1\n",
      "First index of 3: 8\n",
      "Occurrence of 4: 3\n",
      "First index of 4: 9\n"
     ]
    }
   ],
   "source": [
    "# Create a tuple with duplicate elements and count the occurrences of an element. Find the index of the first occurrence of an element in the tuple.\n",
    "\n",
    "t = (1,1,1,1,2,2,2,2,3,4,4,4)\n",
    "s = set(t)\n",
    "for i in s:\n",
    "    print(f\"Occurrence of {i}:\",t.count(i))\n",
    "    print(f\"First index of {i}:\",t.index(i))"
   ]
  },
  {
   "cell_type": "code",
   "execution_count": 24,
   "metadata": {},
   "outputs": [
    {
     "name": "stdout",
     "output_type": "stream",
     "text": [
      "1 2 3 4 5\n"
     ]
    }
   ],
   "source": [
    "# Create a tuple with 5 elements and unpack it into 5 variables. Print the variables.\n",
    "\n",
    "t=(1,2,3,4,5)\n",
    "a,b,c,d,e = t\n",
    "print(a,b,c,d,e)"
   ]
  },
  {
   "cell_type": "code",
   "execution_count": null,
   "metadata": {},
   "outputs": [],
   "source": []
  }
 ],
 "metadata": {
  "kernelspec": {
   "display_name": "Python 3",
   "language": "python",
   "name": "python3"
  },
  "language_info": {
   "codemirror_mode": {
    "name": "ipython",
    "version": 3
   },
   "file_extension": ".py",
   "mimetype": "text/x-python",
   "name": "python",
   "nbconvert_exporter": "python",
   "pygments_lexer": "ipython3",
   "version": "3.10.0"
  }
 },
 "nbformat": 4,
 "nbformat_minor": 2
}

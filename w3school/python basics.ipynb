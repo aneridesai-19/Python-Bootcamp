{
 "cells": [
  {
   "cell_type": "markdown",
   "metadata": {},
   "source": [
    "# Python Basic - 1"
   ]
  },
  {
   "cell_type": "markdown",
   "metadata": {},
   "source": [
    "### Formatted Twinkle Poem\n",
    "\n",
    "Write a Python program to print the following string in a specific format (see the output).\n",
    "Sample String : \"Twinkle, twinkle, little star, How I wonder what you are! Up above the world so high, Like a diamond in the sky. Twinkle, twinkle, little star, How I wonder what you are\"\n",
    "Output :\n",
    "\n",
    "Twinkle, twinkle, little star,\n",
    "\tHow I wonder what you are! \n",
    "\t\tUp above the world so high,   \t\t\n",
    "\t\tLike a diamond in the sky. \n",
    "Twinkle, twinkle, little star, \n",
    "\tHow I wonder what you are"
   ]
  },
  {
   "cell_type": "code",
   "execution_count": 1,
   "metadata": {},
   "outputs": [
    {
     "name": "stdout",
     "output_type": "stream",
     "text": [
      "Twinkle, twinkle, little star,\n",
      "\tHow I wonder what you are!\n",
      "\t\tUp above the world so high,\n",
      "\t\tLike a diamond in the sky.\n",
      "Twinkle, twinkle, little star,\n",
      "\tHow I wonder what you are\n"
     ]
    }
   ],
   "source": [
    "print(\"Twinkle, twinkle, little star,\\n\\tHow I wonder what you are!\\n\\t\\tUp above the world so high,\\n\\t\\tLike a diamond in the sky.\\nTwinkle, twinkle, little star,\\n\\tHow I wonder what you are\")"
   ]
  },
  {
   "cell_type": "markdown",
   "metadata": {},
   "source": [
    "### Current DateTime Display\n",
    "\n",
    "Write a Python program to display the current date and time.\n",
    "Sample Output :\n",
    "Current date and time :\n",
    "2014-07-05 14:34:14"
   ]
  },
  {
   "cell_type": "code",
   "execution_count": 4,
   "metadata": {},
   "outputs": [
    {
     "name": "stdout",
     "output_type": "stream",
     "text": [
      "Current date and time:\n",
      "2025-01-03 09:08:08\n"
     ]
    }
   ],
   "source": [
    "import datetime\n",
    "\n",
    "print(\"Current date and time:\")\n",
    "print(datetime.datetime.now().strftime(\"%Y-%m-%d %H:%M:%S\"))"
   ]
  },
  {
   "cell_type": "markdown",
   "metadata": {},
   "source": [
    "### Circle Area Calculator\n",
    "\n",
    "Write a Python program that calculates the area of a circle based on the radius entered by the user.\n",
    "Sample Output :\n",
    "r = 1.1\n",
    "Area = 3.8013271108436504"
   ]
  },
  {
   "cell_type": "code",
   "execution_count": 9,
   "metadata": {},
   "outputs": [
    {
     "name": "stdout",
     "output_type": "stream",
     "text": [
      "r = 1.1\n",
      "Area = 3.8013271108436504\n"
     ]
    }
   ],
   "source": [
    "import math\n",
    "\n",
    "r= float(input(\"Enter radius: \"))\n",
    "area = math.pi * r**2\n",
    "print(\"r =\",r)\n",
    "print(\"Area =\",area)"
   ]
  },
  {
   "cell_type": "markdown",
   "metadata": {},
   "source": [
    "### Reverse Full Name\n",
    "\n",
    "Write a Python program that accepts the user's first and last name and prints them in reverse order with a space between them."
   ]
  },
  {
   "cell_type": "code",
   "execution_count": 10,
   "metadata": {},
   "outputs": [
    {
     "name": "stdout",
     "output_type": "stream",
     "text": [
      "Hello Desai Aneri\n"
     ]
    }
   ],
   "source": [
    "fname = input(\"Enter first name: \")\n",
    "lname = input(\"Enter last name: \")\n",
    "print(\"Hello\",lname,fname)"
   ]
  },
  {
   "cell_type": "markdown",
   "metadata": {},
   "source": [
    "### List and Tuple Generator\n",
    "\n",
    "Write a Python program that accepts a sequence of comma-separated numbers from the user and generates a list and a tuple of those numbers.\n",
    "Sample data : 3, 5, 7, 23\n",
    "Output :\n",
    "List : ['3', ' 5', ' 7', ' 23']\n",
    "Tuple : ('3', ' 5', ' 7', ' 23')"
   ]
  },
  {
   "cell_type": "code",
   "execution_count": 11,
   "metadata": {},
   "outputs": [
    {
     "name": "stdout",
     "output_type": "stream",
     "text": [
      "List : ['1', '2', '3', '4', '5']\n",
      "Tuple : ('1', '2', '3', '4', '5')\n"
     ]
    }
   ],
   "source": [
    "n = input(\"Enter comma seperated numbers: \")\n",
    "l = n.split(\",\")\n",
    "t = tuple(l)\n",
    "print(\"List :\",l)\n",
    "print(\"Tuple :\",t)"
   ]
  },
  {
   "cell_type": "markdown",
   "metadata": {},
   "source": [
    "### File Extension Extractor\n",
    "\n",
    "Write a Python program that accepts a filename from the user and prints the extension of the file.\n",
    "Sample filename : abc.java\n",
    "Output : java"
   ]
  },
  {
   "cell_type": "code",
   "execution_count": 12,
   "metadata": {},
   "outputs": [
    {
     "name": "stdout",
     "output_type": "stream",
     "text": [
      "png\n"
     ]
    }
   ],
   "source": [
    "fname = input(\"Enter file name : \")\n",
    "ext = fname.split(\".\")\n",
    "print(ext[-1])"
   ]
  },
  {
   "cell_type": "markdown",
   "metadata": {},
   "source": [
    "### First and Last Colors\n",
    "\n",
    "Write a Python program to display the first and last colors from the following list.\n",
    "color_list = [\"Red\",\"Green\",\"White\" ,\"Black\"]"
   ]
  },
  {
   "cell_type": "code",
   "execution_count": 13,
   "metadata": {},
   "outputs": [
    {
     "name": "stdout",
     "output_type": "stream",
     "text": [
      "First colour : Red \n",
      "Last colour : Black\n"
     ]
    }
   ],
   "source": [
    "color_list = [\"Red\",\"Green\",\"White\" ,\"Black\"]\n",
    "print(\"First colour :\",color_list[0],\"\\nLast colour :\",color_list[-1])"
   ]
  },
  {
   "cell_type": "markdown",
   "metadata": {},
   "source": [
    "### Exam Schedule Formatter\n",
    "\n",
    "Write a Python program to display the examination schedule. (extract the date from exam_st_date).\n",
    "exam_st_date = (11, 12, 2014)\n",
    "Sample Output : The examination will start from : 11 / 12 / 2014"
   ]
  },
  {
   "cell_type": "code",
   "execution_count": 14,
   "metadata": {},
   "outputs": [
    {
     "name": "stdout",
     "output_type": "stream",
     "text": [
      "The examination will start from : 11/12/2014\n"
     ]
    }
   ],
   "source": [
    "exam_st_date = (11, 12, 2014)\n",
    "d,m,y = exam_st_date\n",
    "print(f\"The examination will start from : {d}/{m}/{y}\")"
   ]
  },
  {
   "cell_type": "markdown",
   "metadata": {},
   "source": [
    "### Number Expansion Calculator\n",
    "\n",
    "Write a Python program that accepts an integer (n) and computes the value of n+nn+nnn.\n",
    "Sample value of n is 5\n",
    "Expected Result : 615"
   ]
  },
  {
   "cell_type": "code",
   "execution_count": 18,
   "metadata": {},
   "outputs": [
    {
     "name": "stdout",
     "output_type": "stream",
     "text": [
      "615\n"
     ]
    }
   ],
   "source": [
    "n = input(\"Enter value of n: \")\n",
    "a = int(n)\n",
    "b = int(n+n)\n",
    "c = int(n+n+n)\n",
    "print(a + b + c)"
   ]
  },
  {
   "cell_type": "markdown",
   "metadata": {},
   "source": [
    "### Monthly Calendar Display\n",
    "\n",
    "Write a Python program that prints the calendar for a given month and year.\n",
    "Note : Use 'calendar' module."
   ]
  },
  {
   "cell_type": "code",
   "execution_count": 19,
   "metadata": {},
   "outputs": [
    {
     "name": "stdout",
     "output_type": "stream",
     "text": [
      "    January 2025\n",
      "Mo Tu We Th Fr Sa Su\n",
      "       1  2  3  4  5\n",
      " 6  7  8  9 10 11 12\n",
      "13 14 15 16 17 18 19\n",
      "20 21 22 23 24 25 26\n",
      "27 28 29 30 31\n",
      "\n"
     ]
    }
   ],
   "source": [
    "import calendar\n",
    "\n",
    "y = int(input(\"Enter year: \"))\n",
    "m = int(input(\"Enter month: \"))\n",
    "print(calendar.month(y,m))"
   ]
  },
  {
   "cell_type": "markdown",
   "metadata": {},
   "source": [
    "### Multi-line Here Document\n",
    "\n",
    "Write a Python program to print the following 'here document'.\n",
    "Sample string :\n",
    "a string that you \"don't\" have to escape\n",
    "This\n",
    "is a ....... multi-line\n",
    "heredoc string --------> example"
   ]
  },
  {
   "cell_type": "code",
   "execution_count": 20,
   "metadata": {},
   "outputs": [
    {
     "name": "stdout",
     "output_type": "stream",
     "text": [
      "a string that you \"don't\" have to escape\n",
      "This\n",
      "is a ....... multi-line\n",
      "heredoc string --------> example\n"
     ]
    }
   ],
   "source": [
    "print(\"\"\"a string that you \"don't\" have to escape\n",
    "This\n",
    "is a ....... multi-line\n",
    "heredoc string --------> example\"\"\")"
   ]
  },
  {
   "cell_type": "markdown",
   "metadata": {},
   "source": [
    "### Days Between Dates\n",
    "\n",
    "Write a  Python program to calculate the number of days between two dates.\n",
    "Sample dates : (2014, 7, 2), (2014, 7, 11)\n",
    "Expected output : 9 days"
   ]
  },
  {
   "cell_type": "code",
   "execution_count": 23,
   "metadata": {},
   "outputs": [
    {
     "name": "stdout",
     "output_type": "stream",
     "text": [
      "9 days\n"
     ]
    }
   ],
   "source": [
    "from datetime import date\n",
    "\n",
    "date1 = date(2014, 7, 2)\n",
    "date2 = date(2014, 7, 11)\n",
    "diff = date2-date1\n",
    "print(diff.days,\"days\")"
   ]
  },
  {
   "cell_type": "markdown",
   "metadata": {},
   "source": [
    "### Sphere Volume Calculator\n",
    "\n",
    "Write a Python program to get the volume of a sphere with radius six."
   ]
  },
  {
   "cell_type": "code",
   "execution_count": 24,
   "metadata": {},
   "outputs": [
    {
     "name": "stdout",
     "output_type": "stream",
     "text": [
      "Volume of sphere : 904.3199999999999\n"
     ]
    }
   ],
   "source": [
    "r = float(input(\"Enter radius : \"))\n",
    "v = (4/3)*3.14*(r**3)\n",
    "print(\"Volume of sphere :\",v)"
   ]
  },
  {
   "cell_type": "markdown",
   "metadata": {},
   "source": [
    "### Difference from 17\n",
    "\n",
    "Write a Python program to calculate the difference between a given number and 17. If the number is greater than 17, return twice the absolute difference."
   ]
  },
  {
   "cell_type": "code",
   "execution_count": 27,
   "metadata": {},
   "outputs": [
    {
     "name": "stdout",
     "output_type": "stream",
     "text": [
      "14\n"
     ]
    }
   ],
   "source": [
    "n = int(input(\"Enter a num : \"))\n",
    "r = n-17\n",
    "\n",
    "if n>17:\n",
    "    print(r*2)\n",
    "else:\n",
    "    print(abs(r))"
   ]
  },
  {
   "cell_type": "markdown",
   "metadata": {},
   "source": [
    "### Number Range Tester\n",
    "\n",
    "Write a Python program to test whether a number is within 100 of 1000 or 2000."
   ]
  },
  {
   "cell_type": "code",
   "execution_count": 31,
   "metadata": {},
   "outputs": [
    {
     "name": "stdout",
     "output_type": "stream",
     "text": [
      "2250 is out of range\n"
     ]
    }
   ],
   "source": [
    "n = int(input(\"Enter a number : \"))\n",
    "if abs(n-1000)<=100 or abs(n-2000)<=100:\n",
    "    print(f\"{n} is in range\")\n",
    "else:\n",
    "    print(f\"{n} is out of range\")"
   ]
  },
  {
   "cell_type": "markdown",
   "metadata": {},
   "source": [
    "### Triple Sum Calculator\n",
    "\n",
    "Write a Python program to calculate the sum of three given numbers. If the values are equal, return three times their sum."
   ]
  },
  {
   "cell_type": "code",
   "execution_count": 32,
   "metadata": {},
   "outputs": [
    {
     "name": "stdout",
     "output_type": "stream",
     "text": [
      "6\n",
      "18\n"
     ]
    }
   ],
   "source": [
    "def add(a,b,c):\n",
    "    sum = a+b+c\n",
    "    if a==b==c:\n",
    "        print(sum*3)\n",
    "    else:\n",
    "        print(sum)\n",
    "add(1,2,3)\n",
    "add(2,2,2)"
   ]
  },
  {
   "cell_type": "markdown",
   "metadata": {},
   "source": [
    "## Prefix \"Is\" String Modifier\n",
    "\n",
    "Write a Python program to get a newly-generated string from a given string where \"Is\" has been added to the front. Return the string unchanged if the given string already begins with \"Is\"."
   ]
  },
  {
   "cell_type": "code",
   "execution_count": 3,
   "metadata": {},
   "outputs": [
    {
     "name": "stdout",
     "output_type": "stream",
     "text": [
      "IsThere\n",
      "IsWhere\n"
     ]
    }
   ],
   "source": [
    "def is_modifier(text):\n",
    "    if len(text)>=2 and text[:2]==\"Is\":\n",
    "        print(text)\n",
    "    else:\n",
    "        print(\"Is\"+text)\n",
    "is_modifier(\"There\")\n",
    "is_modifier(\"IsWhere\")"
   ]
  },
  {
   "cell_type": "markdown",
   "metadata": {},
   "source": [
    "### String Copy Generator\n",
    "\n",
    "Write a Python program that returns a string that is n (non-negative integer) copies of a given string."
   ]
  },
  {
   "cell_type": "code",
   "execution_count": 5,
   "metadata": {},
   "outputs": [
    {
     "name": "stdout",
     "output_type": "stream",
     "text": [
      "HeyHeyHey\n"
     ]
    }
   ],
   "source": [
    "def copy(text,n):\n",
    "    r =\"\"\n",
    "    for i in range(n):\n",
    "        r+=text\n",
    "    return r\n",
    "print(copy(\"Hey\",3))"
   ]
  },
  {
   "cell_type": "markdown",
   "metadata": {},
   "source": [
    "# Python Basic - 2"
   ]
  },
  {
   "cell_type": "markdown",
   "metadata": {},
   "source": [
    "### Sum of Digits Equality"
   ]
  },
  {
   "cell_type": "code",
   "execution_count": 1,
   "metadata": {},
   "outputs": [
    {
     "name": "stdout",
     "output_type": "stream",
     "text": [
      "True\n",
      "False\n",
      "True\n"
     ]
    }
   ],
   "source": [
    "# A Python list contains three positive integers. Write a Python program to check whether the sum of the digits in each number is equal or not. Return true otherwise false.\n",
    "# Sample Data:\n",
    "# ([13, 4, 22]) -> True\n",
    "# ([-13, 4, 22]) -> False\n",
    "# ([45, 63, 90]) -> True\n",
    "\n",
    "def equal_digit_sum(a,b,c):\n",
    "    if a>0 and b>0 and c>0:\n",
    "        if a%9==b%9==c%9:\n",
    "            return True\n",
    "        else:\n",
    "            return False\n",
    "    else:\n",
    "        return False\n",
    "    \n",
    "print(equal_digit_sum(13, 4, 22))\n",
    "print(equal_digit_sum(-13, 4, 22))\n",
    "print(equal_digit_sum(45, 63, 90))"
   ]
  },
  {
   "cell_type": "markdown",
   "metadata": {},
   "source": [
    "### Largest and Smallest Digits"
   ]
  },
  {
   "cell_type": "code",
   "execution_count": 2,
   "metadata": {},
   "outputs": [
    {
     "name": "stdout",
     "output_type": "stream",
     "text": [
      "Max digit: 9\n",
      "Min digit: 1\n"
     ]
    }
   ],
   "source": [
    "# Write a Python program to find the largest and smallest digits of a given number.\n",
    "# Original Number: 9387422\n",
    "# Largest Digit of the said number: 9\n",
    "# Smallest Digit of the said number: 2\n",
    "# Original Number: 500\n",
    "# Largest Digit of the said number: 5\n",
    "# Smallest Digit of the said number: 0\n",
    "# Original Number: 231548\n",
    "# Largest Digit of the said number: 8\n",
    "# Smallest Digit of the said number: 1\n",
    "\n",
    "min = 9\n",
    "max = 0\n",
    "n = int(input(\"Enter a number: \"))\n",
    "while n>0:\n",
    "    digit=n%10\n",
    "    n = n//10\n",
    "    if digit>max:\n",
    "        max = digit\n",
    "    if digit<min:\n",
    "        min = digit\n",
    "\n",
    "print(\"Max digit:\",max)\n",
    "print(\"Min digit:\",min)"
   ]
  },
  {
   "cell_type": "markdown",
   "metadata": {},
   "source": [
    "# Python Puzzles"
   ]
  },
  {
   "cell_type": "markdown",
   "metadata": {},
   "source": [
    "### Depth of Matched Parentheses Groups"
   ]
  },
  {
   "cell_type": "code",
   "execution_count": 8,
   "metadata": {},
   "outputs": [
    {
     "name": "stdout",
     "output_type": "stream",
     "text": [
      "[8, 1, 2, 3]\n"
     ]
    }
   ],
   "source": [
    "# Given a string consisting of groups of matched nested parentheses separated by parentheses, write a Python program to compute the depth of each group.\n",
    "# Input: (()) (()) () ((()()()))\n",
    "# Output:\n",
    "# [2, 2, 1, 3]\n",
    "# Input: () (()) () () () ()\n",
    "# Output:\n",
    "# [1, 2, 1, 1, 1, 1]\n",
    "# Input: (((((((()))))))) () (()) ((()()()))\n",
    "# Output:\n",
    "# [8, 1, 2, 3]\n",
    "\n",
    "str = \"(((((((()))))))) () (()) ((()()()))\"\n",
    "str1 = str.split(\" \")\n",
    "ans=[]\n",
    "for i in str1:\n",
    "    for count,element in enumerate(i):\n",
    "        if element==')':\n",
    "            ans.append(count)\n",
    "            break\n",
    "print(ans)"
   ]
  },
  {
   "cell_type": "markdown",
   "metadata": {},
   "source": [
    "### Generate Palindrome of Specific Length"
   ]
  },
  {
   "cell_type": "code",
   "execution_count": 23,
   "metadata": {},
   "outputs": [
    {
     "name": "stdout",
     "output_type": "stream",
     "text": [
      "madaadam\n"
     ]
    }
   ],
   "source": [
    "# Write a Python program to generate a palindrome of a given length from a string.\n",
    "# Input: madam , 7\n",
    "# Output:\n",
    "# madaadam\n",
    "# Input: madam , 6\n",
    "# Output:\n",
    "# maddam\n",
    "# Input: madam , 5\n",
    "# Output:\n",
    "# maaaam\n",
    "# Input: madam , 3\n",
    "# Output:\n",
    "# maam\n",
    "# Input: madam , 2\n",
    "# Output:\n",
    "# mm\n",
    "# Input: madam , 1\n",
    "# Output:\n",
    "# aa\n",
    "\n",
    "str = \"madam\"\n",
    "length = 7\n",
    "\n",
    "n=length//2\n",
    "\n",
    "str1 = str[:n]\n",
    "str2= str1[::-1]\n",
    "\n",
    "if length%2 != 0:  \n",
    "    buffer = length - (n*2) +1\n",
    "else:\n",
    "    buffer = length - (n*2)\n",
    "buff_str=''\n",
    "\n",
    "for i in range(buffer):\n",
    "    buff_str+='a'\n",
    "\n",
    "print(str1+buff_str+str2)"
   ]
  },
  {
   "cell_type": "markdown",
   "metadata": {},
   "source": [
    "# Mastering python"
   ]
  },
  {
   "cell_type": "markdown",
   "metadata": {},
   "source": [
    "### greatest common divisor (GCD)"
   ]
  },
  {
   "cell_type": "code",
   "execution_count": 29,
   "metadata": {},
   "outputs": [
    {
     "name": "stdout",
     "output_type": "stream",
     "text": [
      "6\n"
     ]
    }
   ],
   "source": [
    "def gcd(a, b):\n",
    "    while b:\n",
    "        a, b = b, a % b\n",
    "    return a\n",
    "print(gcd(48, 18))"
   ]
  },
  {
   "cell_type": "markdown",
   "metadata": {},
   "source": [
    "### least common multiple (LCM)"
   ]
  },
  {
   "cell_type": "code",
   "execution_count": 30,
   "metadata": {},
   "outputs": [
    {
     "name": "stdout",
     "output_type": "stream",
     "text": [
      "20\n"
     ]
    }
   ],
   "source": [
    "def lcm(a, b):\n",
    "    return a * b // gcd(a, b)\n",
    "print(lcm(4, 5))"
   ]
  },
  {
   "cell_type": "code",
   "execution_count": null,
   "metadata": {},
   "outputs": [],
   "source": []
  }
 ],
 "metadata": {
  "kernelspec": {
   "display_name": "base",
   "language": "python",
   "name": "python3"
  },
  "language_info": {
   "codemirror_mode": {
    "name": "ipython",
    "version": 3
   },
   "file_extension": ".py",
   "mimetype": "text/x-python",
   "name": "python",
   "nbconvert_exporter": "python",
   "pygments_lexer": "ipython3",
   "version": "3.12.7"
  }
 },
 "nbformat": 4,
 "nbformat_minor": 2
}

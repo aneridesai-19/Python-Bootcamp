{
 "cells": [
  {
   "cell_type": "markdown",
   "metadata": {},
   "source": [
    "# String"
   ]
  },
  {
   "cell_type": "markdown",
   "metadata": {},
   "source": [
    "### Count matches of three letters at same index."
   ]
  },
  {
   "cell_type": "code",
   "execution_count": 2,
   "metadata": {},
   "outputs": [
    {
     "name": "stdout",
     "output_type": "stream",
     "text": [
      "1\n",
      "7\n",
      "0\n"
     ]
    }
   ],
   "source": [
    "# Write a Python program that takes two strings. Count the number of times each string contains the same three letters at the same index.\n",
    "# Sample Data:\n",
    "# (\"Red RedGreen\") -> 1\n",
    "# (\"Red White Red White) -> 7\n",
    "# (\"Red White White Red\") -> 0\n",
    "def str_match(str1,str2):\n",
    "    count = 0\n",
    "    for i in range(len(str1)-2):\n",
    "        if str1[i:i+3] == str2[i:i+3]:\n",
    "            count+=1\n",
    "    return count\n",
    "\n",
    "print(str_match(\"Red\",\"RedGreen\"))\n",
    "print(str_match(\"Red White\",\"Red White\"))\n",
    "print(str_match(\"Red White\",\"White Red\"))"
   ]
  },
  {
   "cell_type": "code",
   "execution_count": 5,
   "metadata": {},
   "outputs": [
    {
     "name": "stdout",
     "output_type": "stream",
     "text": [
      "Python Exercises\n",
      "Python\n",
      "Python Exercises Practice Solution\n"
     ]
    }
   ],
   "source": [
    "# Write a Python program to insert space before every capital letter appears in a given word.\n",
    "# Sample Data:\n",
    "# (\"PythonExercises\") -> \"Python Exercises\"\n",
    "# (\"Python\") -> \"Python\"\n",
    "# (\"PythonExercisesPracticeSolution\") -> \"Python Exercises Practice Solution\"\n",
    "\n",
    "def insert_space(str):\n",
    "    ans =''\n",
    "    for i in range(len(str)):\n",
    "        if i==0:\n",
    "            ans+=str[i]\n",
    "            continue\n",
    "        else:\n",
    "            if str[i].isupper():\n",
    "                ans+=\" \"+str[i]\n",
    "            else:\n",
    "                ans+=str[i]\n",
    "    return ans\n",
    "\n",
    "print(insert_space(\"PythonExercises\"))\n",
    "print(insert_space(\"Python\"))\n",
    "print(insert_space(\"PythonExercisesPracticeSolution\"))"
   ]
  },
  {
   "cell_type": "markdown",
   "metadata": {},
   "source": [
    "# JSON"
   ]
  },
  {
   "cell_type": "code",
   "execution_count": 8,
   "metadata": {},
   "outputs": [],
   "source": [
    "# Write a Python program to create a new JSON file from an existing JSON file.\n",
    "import json\n",
    "dict = {\"Name\":\"Aneri\",\"Age\":20,\"ID\": 24,\"Degree\":\"BTech\"}\n",
    "with open(\"old_json.json\",\"w\") as old:\n",
    "    json.dump(dict,old)\n",
    "old.close()"
   ]
  },
  {
   "cell_type": "code",
   "execution_count": 11,
   "metadata": {},
   "outputs": [],
   "source": [
    "with open(\"old_json.json\",\"r\")as old:\n",
    "    data = old.read()\n",
    "with open(\"new_json.json\",\"w\") as new:\n",
    "    new.write(data)\n",
    "old.close()\n",
    "new.close()"
   ]
  },
  {
   "cell_type": "markdown",
   "metadata": {},
   "source": [
    "# List"
   ]
  },
  {
   "cell_type": "code",
   "execution_count": 13,
   "metadata": {},
   "outputs": [
    {
     "name": "stdout",
     "output_type": "stream",
     "text": [
      "[(), (1,), (2,), (3,), (4,), (1, 2), (1, 3), (1, 4), (2, 3), (2, 4), (3, 4), (1, 2, 3), (1, 2, 4), (1, 3, 4), (2, 3, 4), (1, 2, 3, 4)]\n",
      "[(), (1,), (2,), (1, 2)]\n"
     ]
    }
   ],
   "source": [
    "# Write a Python program to get the powerset of a given iterable.\n",
    "# Sample Output:\n",
    "# Original list elements:\n",
    "# [1, 2]\n",
    "# Powerset of the said list:\n",
    "# [(), (1,), (2,), (1, 2)]\n",
    "# Original list elements:\n",
    "# [1, 2, 3, 4]\n",
    "# Powerset of the said list:\n",
    "# [(), (1,), (2,), (3,), (4,), (1, 2), (1, 3), (1, 4), (2, 3), (2, 4), (3, 4), (1, 2, 3), (1, 2, 4), (1, 3, 4), (2, 3, 4), (1, 2, 3, 4)]\n",
    "\n",
    "from itertools import combinations\n",
    "\n",
    "def powerset(lst):\n",
    "    result = []\n",
    "    for i in range(len(lst)+1):\n",
    "        temp = [tuple(x) for x in combinations(lst,i)]\n",
    "        result.extend(temp)\n",
    "    return result\n",
    "\n",
    "print(powerset([1, 2, 3, 4]))\n",
    "print(powerset([1,2]))"
   ]
  },
  {
   "cell_type": "code",
   "execution_count": 19,
   "metadata": {},
   "outputs": [
    {
     "name": "stdout",
     "output_type": "stream",
     "text": [
      "{1, 2, 3, 4, 5, 6, 7, 8, 9, 10}\n"
     ]
    }
   ],
   "source": [
    "# Write a Python program to convert a pair of values into a sorted unique array.\n",
    "\n",
    "lst = [(10, 5), (3, 4), (1, 2), (5, 6), (7, 8), (1, 2), (3, 4), (3, 4), (7, 8), (9, 10)]\n",
    "ans = set({})\n",
    "for i in lst:\n",
    "    for j in i:\n",
    "        ans.add(j)\n",
    "print(ans)"
   ]
  },
  {
   "cell_type": "markdown",
   "metadata": {},
   "source": [
    "# List advanced"
   ]
  },
  {
   "cell_type": "code",
   "execution_count": 27,
   "metadata": {},
   "outputs": [
    {
     "name": "stdout",
     "output_type": "stream",
     "text": [
      "11\n"
     ]
    }
   ],
   "source": [
    "# Write a Python a function to find the maximum sum sub-sequence in a list. Return the maximum value.\n",
    "\n",
    "def sub_sum(lst):\n",
    "    sum = 0\n",
    "    maxi=-90000000\n",
    "    for i in lst:\n",
    "        sum+=i \n",
    "        maxi = max(sum,maxi) \n",
    "        if sum<0:\n",
    "            sum=0\n",
    "    return sum\n",
    "print(sub_sum([2,3,-8,7,-1,2,3]))"
   ]
  },
  {
   "cell_type": "code",
   "execution_count": 44,
   "metadata": {},
   "outputs": [
    {
     "name": "stdout",
     "output_type": "stream",
     "text": [
      "[-1, -2, -3, -4, -5]\n"
     ]
    }
   ],
   "source": [
    "# Write a Python a function to find the minimum sum sub-sequence in a list. Return the sub-sequence.\n",
    "\n",
    "def min_sum(lst):\n",
    "    result =[]\n",
    "    final=[]\n",
    "    sum = 0\n",
    "    mini=999999999\n",
    "    for i in lst:\n",
    "        sum+=i \n",
    "        result.append(i)\n",
    "        if sum<mini:\n",
    "            mini = sum\n",
    "            final= result.copy()\n",
    "        if sum>0:\n",
    "            sum=0\n",
    "            result.clear()\n",
    "    return final\n",
    "print(min_sum([-1,-2,-3,-4,-5]))"
   ]
  },
  {
   "cell_type": "markdown",
   "metadata": {},
   "source": [
    "# Dictionary"
   ]
  },
  {
   "cell_type": "code",
   "execution_count": 55,
   "metadata": {},
   "outputs": [
    {
     "name": "stdout",
     "output_type": "stream",
     "text": [
      "{'item1': 1150, 'item2': 300}\n"
     ]
    }
   ],
   "source": [
    "# Write a Python program to combine values in a list of dictionaries.\n",
    "# Sample data: [{'item': 'item1', 'amount': 400}, {'item': 'item2', 'amount': 300}, {'item': 'item1', 'amount': 750}]\n",
    "# Expected Output: Counter({'item1': 1150, 'item2': 300})\n",
    "\n",
    "dict = [{'item': 'item1', 'amount': 400}, {'item': 'item2', 'amount': 300}, {'item': 'item1', 'amount': 750}]\n",
    "result = {}\n",
    "for i in dict:\n",
    "    result[i['item']]=0\n",
    "for i in dict:\n",
    "    result[i['item']]+=i['amount']\n",
    "print(result)"
   ]
  },
  {
   "cell_type": "code",
   "execution_count": 61,
   "metadata": {},
   "outputs": [
    {
     "name": "stdout",
     "output_type": "stream",
     "text": [
      "Cierra Vega:(6.2, 70)\n",
      "Kierra Gentry:(6.0, 77)\n"
     ]
    }
   ],
   "source": [
    "# Write a Python program to filter the height and width of students, which are stored in a dictionary.\n",
    "# Original Dictionary:\n",
    "# {'Cierra Vega': (6.2, 70), 'Alden Cantrell': (5.9, 65), 'Kierra Gentry': (6.0, 68), 'Pierre Cox': (5.8, 66)}\n",
    "# Height > 6ft and Weight> 70kg:\n",
    "# {'Cierra Vega': (6.2, 70)}\n",
    "\n",
    "dict = {'Cierra Vega': (6.2, 70), 'Alden Cantrell': (5.9, 65), 'Kierra Gentry': (6.0, 77), 'Pierre Cox': (5.8, 66)}\n",
    "\n",
    "for k,v in dict.items():\n",
    "    if v[0]>=6.0 and v[1]>=70:\n",
    "        print(f\"{k}:{v}\")"
   ]
  },
  {
   "cell_type": "markdown",
   "metadata": {},
   "source": [
    "# Tuple"
   ]
  },
  {
   "cell_type": "code",
   "execution_count": 76,
   "metadata": {},
   "outputs": [
    {
     "name": "stdout",
     "output_type": "stream",
     "text": [
      "[10.5, 44.0, 58.0, 2.5]\n"
     ]
    }
   ],
   "source": [
    "# Write a Python program to calculate the average value of the numbers in a given tuple of tuples.\n",
    "# Original Tuple:\n",
    "# ((10, 10, 10, 12), (30, 45, 56, 45), (81, 80, 39, 32), (1, 2, 3, 4))\n",
    "# Average value of the numbers of the said tuple of tuples:\n",
    "# [30.5, 34.25, 27.0, 23.25]\n",
    "# Original Tuple:\n",
    "# ((1, 1, -5), (30, -15, 56), (81, -60, -39), (-10, 2, 3))\n",
    "# Average value of the numbers of the said tuple of tuples:\n",
    "# [25.5, -18.0, 3.75]\n",
    "\n",
    "tup = ((10, 10, 10, 12), (30, 45, 56, 45), (81, 80, 39, 32), (1, 2, 3, 4))\n",
    "ans=[]\n",
    "for i in tup:\n",
    "    total=0\n",
    "    for j in i:\n",
    "        total +=j\n",
    "    avg = total/len(i)\n",
    "    ans.append(avg)\n",
    "print(ans)"
   ]
  },
  {
   "cell_type": "code",
   "execution_count": 86,
   "metadata": {},
   "outputs": [
    {
     "name": "stdout",
     "output_type": "stream",
     "text": [
      "123\n"
     ]
    }
   ],
   "source": [
    "# Write a Python program to convert a given tuple of positive integers into an integer.\n",
    "# Original tuple:\n",
    "# (1, 2, 3)\n",
    "# Convert the said tuple of positive integers into an integer:\n",
    "# 123\n",
    "# Original tuple:\n",
    "# (10, 20, 40, 5, 70)\n",
    "# Convert the said tuple of positive integers into an integer:\n",
    "# 102040570\n",
    "\n",
    "tup1 = (1,2,3)\n",
    "ans = 0\n",
    "n = len(tup1)\n",
    "for i in tup1:\n",
    "    ans+= i*pow(10,n-i)\n",
    "print(ans)"
   ]
  },
  {
   "cell_type": "markdown",
   "metadata": {},
   "source": [
    "# Set"
   ]
  },
  {
   "cell_type": "code",
   "execution_count": 112,
   "metadata": {},
   "outputs": [
    {
     "name": "stdout",
     "output_type": "stream",
     "text": [
      "{(1, 3, 8), (1, 4, 7), (1, 2, 9), (1, 5, 6), (3, 4, 5), (2, 3, 7), (2, 4, 6)}\n"
     ]
    }
   ],
   "source": [
    "# Write a Python program to find all the unique combinations of 3 numbers from a given list of numbers, adding up to a target number.\n",
    "\n",
    "def three_num_comb(nums,target_val):\n",
    "    r=set()\n",
    "    for i in range(0,len(nums)):\n",
    "        for j in range(i+1,len(nums)):\n",
    "            k=target_val-nums[i]-nums[j]\n",
    "            if k in nums[:i]+nums[j+1:]:\n",
    "                temp = tuple(sorted((nums[i],nums[j],k)))\n",
    "                r.add(temp)\n",
    "    return r\n",
    "nums = [1, 2, 3, 4, 5, 6, 7, 8, 9]\n",
    "target_val = 12\n",
    "print(three_num_comb(nums,target_val))\n"
   ]
  },
  {
   "cell_type": "code",
   "execution_count": 117,
   "metadata": {},
   "outputs": [
    {
     "name": "stdout",
     "output_type": "stream",
     "text": [
      "[['restful', 'fluster'], ['forty five', 'over fifty'], ['evil', 'vile']]\n"
     ]
    }
   ],
   "source": [
    "# Write a Python program to find all the anagrams in a given list of strings and then group them together. Use the Python data type.\n",
    "\n",
    "l1=['restful', 'forty five', 'evil', 'over fifty', 'vile', 'fluster']\n",
    "\n",
    "def anagram(l1):\n",
    "    result = {}\n",
    "    for i in l1:\n",
    "        sorted_i = ''.join(sorted(i))\n",
    "        if sorted_i in result:\n",
    "            result[sorted_i].append(i)\n",
    "        else:\n",
    "            result[sorted_i]=[i]\n",
    "    return list(result.values())\n",
    "print(anagram(l1))"
   ]
  },
  {
   "cell_type": "markdown",
   "metadata": {},
   "source": [
    "# Collections"
   ]
  },
  {
   "cell_type": "code",
   "execution_count": 118,
   "metadata": {},
   "outputs": [
    {
     "name": "stdout",
     "output_type": "stream",
     "text": [
      "[('v', [1, 3]), ('vi', [2, 4]), ('vii', [1])]\n"
     ]
    }
   ],
   "source": [
    "#  Write a Python program to group a sequence of key-value pairs into a dictionary of lists.\n",
    "# Sample Output:\n",
    "# [('v', [1, 3]), ('vi', [2, 4]), ('vii', [1])]\n",
    "\n",
    "from collections import defaultdict\n",
    "\n",
    "class_roll = [('v', 1), ('vi', 2), ('v', 3), ('vi', 4), ('vii', 1)]\n",
    "\n",
    "d = defaultdict(list)\n",
    "\n",
    "for k, v in class_roll:\n",
    "    d[k].append(v)\n",
    "\n",
    "print(sorted(d.items())) \n"
   ]
  },
  {
   "cell_type": "code",
   "execution_count": 121,
   "metadata": {},
   "outputs": [
    {
     "name": "stdout",
     "output_type": "stream",
     "text": [
      "False\n"
     ]
    }
   ],
   "source": [
    "# Write a Python program to compare two unordered lists (not sets).\n",
    "\n",
    "from collections import Counter\n",
    "\n",
    "def compare_lists(x, y):\n",
    "    return Counter(x) == Counter(y)\n",
    "\n",
    "n1 = [20, 10, 30, 10, 20, 30]\n",
    "n2 = [30, 20, 10, 30, 20, 50]\n",
    "\n",
    "print(compare_lists(n1, n2)) \n"
   ]
  },
  {
   "cell_type": "markdown",
   "metadata": {},
   "source": [
    "# Array"
   ]
  },
  {
   "cell_type": "code",
   "execution_count": 134,
   "metadata": {},
   "outputs": [
    {
     "name": "stdout",
     "output_type": "stream",
     "text": [
      "15\n"
     ]
    }
   ],
   "source": [
    "# Write a  Python program to find the missing number in a given array of numbers between 10 and 20.\n",
    "# Sample Output:\n",
    "# Original array: 10 11 12 13 14 16 17 18 19 20\n",
    "# Missing number in the said array (10-20): 15\n",
    "# Original array: 10 11 12 13 14 15 16 17 18 19\n",
    "# Missing number in the said array (10-20): 20\n",
    "import array as arr\n",
    "a = arr.array('i',[10, 11, 12, 13, 14, 16, 17, 18, 19, 20])\n",
    "\n",
    "for i in range(10,21):\n",
    "    if i not in a:\n",
    "        print(i)"
   ]
  },
  {
   "cell_type": "code",
   "execution_count": 136,
   "metadata": {},
   "outputs": [
    {
     "name": "stdout",
     "output_type": "stream",
     "text": [
      "1 3 5 7 9 "
     ]
    }
   ],
   "source": [
    "#  Write a Python program that removes all duplicate elements from an array and returns a new array.\n",
    "# Sample Output:\n",
    "# Original array: 1 3 5 1 3 7 9\n",
    "# After removing duplicate elements from the said array: 1 3 5 7 9\n",
    "# Original array: 2 4 2 6 4 8\n",
    "# After removing duplicate elements from the said array: 2 4 6 8\n",
    "\n",
    "a2 =arr.array('i',[1,3,5,1,3,7,9])\n",
    "\n",
    "s = set(a2)\n",
    "\n",
    "for i in s:\n",
    "    print(i,end=\" \")"
   ]
  },
  {
   "cell_type": "markdown",
   "metadata": {},
   "source": [
    "# Enum"
   ]
  },
  {
   "cell_type": "code",
   "execution_count": 133,
   "metadata": {},
   "outputs": [
    {
     "name": "stdout",
     "output_type": "stream",
     "text": [
      "Afghanistan = 93\n",
      "Albania = 355\n",
      "Algeria = 213\n",
      "Andorra = 376\n",
      "Angola = 244\n"
     ]
    }
   ],
   "source": [
    "# Write a Python program to get unique enumeration values.\n",
    "# Expected Output:\n",
    "# Afghanistan = 93\n",
    "# Albania = 355\n",
    "# Algeria = 213\n",
    "# Andorra = 376\n",
    "# Angola = 244\n",
    "\n",
    "import enum\n",
    "\n",
    "class country(enum.Enum):\n",
    "    Afghanistan = 93\n",
    "    Albania = 355\n",
    "    Algeria = 213\n",
    "    Andorra = 376\n",
    "    Angola = 244\n",
    "\n",
    "for c in country:\n",
    "    print(f\"{c.name} = {c.value}\")\n"
   ]
  },
  {
   "cell_type": "code",
   "execution_count": 138,
   "metadata": {},
   "outputs": [
    {
     "name": "stdout",
     "output_type": "stream",
     "text": [
      "[93, 355, 213, 376, 244]\n"
     ]
    }
   ],
   "source": [
    "# Write a Python program to get all values from an enum class.\n",
    "# Expected output:\n",
    "# [93, 355, 213, 376, 244, 672]\n",
    "\n",
    "from enum import IntEnum\n",
    "class country(IntEnum):\n",
    "    Afghanistan = 93\n",
    "    Albania = 355\n",
    "    Algeria = 213\n",
    "    Andorra = 376\n",
    "    Angola = 244\n",
    "\n",
    "l = list(map(int,country))\n",
    "print(l)\n"
   ]
  },
  {
   "cell_type": "code",
   "execution_count": null,
   "metadata": {},
   "outputs": [],
   "source": []
  }
 ],
 "metadata": {
  "kernelspec": {
   "display_name": "base",
   "language": "python",
   "name": "python3"
  },
  "language_info": {
   "codemirror_mode": {
    "name": "ipython",
    "version": 3
   },
   "file_extension": ".py",
   "mimetype": "text/x-python",
   "name": "python",
   "nbconvert_exporter": "python",
   "pygments_lexer": "ipython3",
   "version": "3.12.7"
  }
 },
 "nbformat": 4,
 "nbformat_minor": 2
}

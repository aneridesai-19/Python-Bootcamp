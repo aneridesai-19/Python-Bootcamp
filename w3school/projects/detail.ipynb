{
 "cells": [
  {
   "cell_type": "markdown",
   "metadata": {},
   "source": [
    "Create a Python project to create random name (first name, full name etc.) profile etc."
   ]
  },
  {
   "cell_type": "code",
   "execution_count": 3,
   "metadata": {},
   "outputs": [
    {
     "name": "stdout",
     "output_type": "stream",
     "text": [
      "First Name:\n",
      "David\n",
      "\n",
      "Full name:\n",
      "Harris Robinson\n",
      "\n",
      "Full profile:\n",
      "Elizabeth Downy\n",
      "+91-762 930 6312\n",
      "417,Park,\n",
      "Epicburg,MI,India - 341361\n",
      "------------------------------\n"
     ]
    }
   ],
   "source": [
    "import random_profile as rp\n",
    "num = int(input(\"How many data do you want?\"))\n",
    "name = rp.Name(num)\n",
    "\n",
    "print(\"First Name:\")\n",
    "name.first_name()\n",
    "\n",
    "print(\"\\nFull name:\")\n",
    "name.full_name()\n",
    "\n",
    "print(\"\\nFull profile:\")\n",
    "name.profile()"
   ]
  },
  {
   "cell_type": "code",
   "execution_count": null,
   "metadata": {},
   "outputs": [],
   "source": []
  }
 ],
 "metadata": {
  "kernelspec": {
   "display_name": "base",
   "language": "python",
   "name": "python3"
  },
  "language_info": {
   "codemirror_mode": {
    "name": "ipython",
    "version": 3
   },
   "file_extension": ".py",
   "mimetype": "text/x-python",
   "name": "python",
   "nbconvert_exporter": "python",
   "pygments_lexer": "ipython3",
   "version": "3.12.7"
  }
 },
 "nbformat": 4,
 "nbformat_minor": 2
}

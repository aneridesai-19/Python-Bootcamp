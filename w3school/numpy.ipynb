{
 "cells": [
  {
   "cell_type": "markdown",
   "metadata": {},
   "source": [
    "# Basic operation and arrays"
   ]
  },
  {
   "cell_type": "code",
   "execution_count": 1,
   "metadata": {},
   "outputs": [
    {
     "name": "stdout",
     "output_type": "stream",
     "text": [
      "[[10 15  8]\n",
      " [ 3 10 25]]\n"
     ]
    }
   ],
   "source": [
    "# Write a NumPy program to multiply two given arrays of the same size element-by-element.\n",
    "\n",
    "import numpy as np \n",
    "\n",
    "nums1 = np.array([[2, 5, 2],\n",
    "              [1, 5, 5]])\n",
    "\n",
    "nums2 = np.array([[5, 3, 4],\n",
    "              [3, 2, 5]])\n",
    "\n",
    "print(np.multiply(nums1, nums2)) "
   ]
  },
  {
   "cell_type": "code",
   "execution_count": 2,
   "metadata": {},
   "outputs": [
    {
     "name": "stdout",
     "output_type": "stream",
     "text": [
      "Original array:\n",
      "[[ 1  2  3  4]\n",
      " [ 5  6  7  8]\n",
      " [ 9 10 11 12]]\n",
      "\n",
      "New array:\n",
      "[[12 11 10  9]\n",
      " [ 8  7  6  5]\n",
      " [ 4  3  2  1]]\n"
     ]
    }
   ],
   "source": [
    "# Write a NumPy program to swap rows and columns of a given array in reverse order.\n",
    "\n",
    "nums = np.array([[1,2,3,4],[5,6,7,8],[9,10,11,12]])\n",
    "\n",
    "print(\"Original array:\")\n",
    "print(nums)\n",
    "\n",
    "new_nums = nums[::-1,::-1]\n",
    "print(\"\\nNew array:\")\n",
    "print(new_nums)"
   ]
  },
  {
   "cell_type": "code",
   "execution_count": 3,
   "metadata": {},
   "outputs": [
    {
     "name": "stdout",
     "output_type": "stream",
     "text": [
      "Total weight, where student name starts with E\n",
      "63.0\n",
      "\n",
      "Total weight, where student name starts with D\n",
      "30.21\n",
      "\n",
      "Total weight, where student name starts with B\n",
      "61.0\n"
     ]
    }
   ],
   "source": [
    "# Write a NumPy program to extract all the rows to compute the student weight from a given array (student information) where a specific column starts with a given character.\n",
    "\n",
    "# Sample Output:\n",
    "\n",
    "# Original array:\n",
    "# [['01' 'V' 'Debby Pramod' '30.21']\n",
    "# ['02' 'V' 'Artemiy Ellie' '29.32']\n",
    "# ['03' 'V' 'Baptist Kamal' '31.0']\n",
    "# ['04' 'V' 'Lavanya Davide' '30.22']\n",
    "# ['05' 'V' 'Fulton Antwan' '30.21']\n",
    "# ['06' 'V' 'Euanthe Sandeep' '31.0']\n",
    "# ['07' 'V' 'Endzela Sanda' '32.0']\n",
    "# ['08' 'V' 'Victoire Waman' '29.21']\n",
    "# ['09' 'V' 'Briar Nur' '30.0']\n",
    "# ['10' 'V' 'Rose Lykos' '32.0']]\n",
    "\n",
    "# Total weight, where student name starting with E\n",
    "# 63.0\n",
    "\n",
    "# Total weight, where student name starting with D\n",
    "# 30.21\n",
    "\n",
    "import numpy as np\n",
    "\n",
    "student = np.array([\n",
    "    ['01', 'V', 'Debby Pramod', 30.21],\n",
    "    ['02', 'V', 'Artemiy Ellie', 29.32],\n",
    "    ['03', 'V', 'Baptist Kamal', 31.00],\n",
    "    ['04', 'V', 'Lavanya Davide', 30.22],\n",
    "    ['05', 'V', 'Fulton Antwan', 30.21],\n",
    "    ['06', 'V', 'Euanthe Sandeep', 31.00],\n",
    "    ['07', 'V', 'Endzela Sanda', 32.00],\n",
    "    ['08', 'V', 'Victoire Waman', 29.21],\n",
    "    ['09', 'V', 'Briar Nur', 30.00],\n",
    "    ['10', 'V', 'Rose Lykos', 32.00]\n",
    "])\n",
    "\n",
    "char = 'E'\n",
    "result = student[np.char.startswith(student[:, 2], char)]\n",
    "print(\"Total weight, where student name starts with\", char)\n",
    "print(np.round(result[:, 3].astype(float).sum(), 2))\n",
    "\n",
    "char = 'D'\n",
    "result = student[np.char.startswith(student[:, 2], char)]\n",
    "print(\"\\nTotal weight, where student name starts with\", char)\n",
    "print(np.round(result[:, 3].astype(float).sum(), 2)) \n",
    "\n",
    "char = 'B'\n",
    "result = student[np.char.startswith(student[:, 2], char)]\n",
    "print(\"\\nTotal weight, where student name starts with\", char)\n",
    "print(np.round(result[:, 3].astype(float).sum(), 2)) "
   ]
  },
  {
   "cell_type": "code",
   "execution_count": 4,
   "metadata": {},
   "outputs": [
    {
     "name": "stdout",
     "output_type": "stream",
     "text": [
      "Student info, where student name starts with A\n",
      "[['02' 'V' 'Artemiy Ellie' '29.32']]\n",
      "\n",
      "Student info, where student name starts with B\n",
      "[['03' 'V' 'Baptist Kamal' '31.0']\n",
      " ['09' 'V' 'Briar Nur' '30.0']]\n",
      "\n",
      "Student info, where student id starts with 1\n",
      "[['10' 'V' 'Rose Lykos' '32.0']]\n"
     ]
    }
   ],
   "source": [
    "# Write a NumPy program to extract all the rows from a given array where a specific column starts with a given character.\n",
    "\n",
    "char = 'A'\n",
    "result = student[np.char.startswith(student[:, 2], char)]\n",
    "print(\"Student info, where student name starts with\", char)\n",
    "print(result) \n",
    "\n",
    "char = 'B'\n",
    "result = student[np.char.startswith(student[:, 2], char)]\n",
    "print(\"\\nStudent info, where student name starts with\", char)\n",
    "print(result) \n",
    "\n",
    "char = '1'\n",
    "result = student[np.char.startswith(student[:, 0], char)]\n",
    "print(\"\\nStudent info, where student id starts with\", char)\n",
    "print(result) "
   ]
  },
  {
   "cell_type": "markdown",
   "metadata": {},
   "source": [
    "# Mathematics, Linear Algebra, and Statistics"
   ]
  },
  {
   "cell_type": "code",
   "execution_count": 5,
   "metadata": {},
   "outputs": [
    {
     "name": "stdout",
     "output_type": "stream",
     "text": [
      "[ 1  1  1  0 -1 -1  0  1]\n"
     ]
    }
   ],
   "source": [
    "# Write a NumPy program to compute an element-wise indication of the sign for all elements in a given array.\n",
    "# Sample output:\n",
    "# Original array;\n",
    "# [ 1 3 5 0 -1 -7 0 5]\n",
    "# Element-wise indication of the sign for all elements of the said array:\n",
    "# [ 1 1 1 0 -1 -1 0 1]\n",
    "\n",
    "arr1 = np.array([1,3,5,0,-1,-7,0,5])\n",
    "\n",
    "sign_ans = np.sign(arr1)\n",
    "\n",
    "print(sign_ans)"
   ]
  },
  {
   "cell_type": "code",
   "execution_count": 6,
   "metadata": {},
   "outputs": [
    {
     "name": "stdout",
     "output_type": "stream",
     "text": [
      "[[ 1  4]\n",
      " [ 3 16]]\n"
     ]
    }
   ],
   "source": [
    "# Write a NumPy program to compute xy, element-wise where x, y are two given arrays.\n",
    "# Sample output:\n",
    "# Array1:\n",
    "# [[1 2]\n",
    "# [3 4]]\n",
    "# Array1:\n",
    "# [[1 2]\n",
    "# [1 2]]\n",
    "# Result- x^y:\n",
    "# [[ 1 4]\n",
    "# [ 3 16]]\n",
    "\n",
    "arr2 = np.array([[1,2],[3,4]])\n",
    "\n",
    "arr3 = np.array([[1,2],[1,2]])\n",
    "\n",
    "pow_arr = np.power(arr2,arr3)\n",
    "\n",
    "print(pow_arr)"
   ]
  },
  {
   "cell_type": "code",
   "execution_count": 7,
   "metadata": {},
   "outputs": [
    {
     "name": "stdout",
     "output_type": "stream",
     "text": [
      "Factor of a given array by Singular Value Decomposition:\n",
      "U=\n",
      " [[ 0.  1.  0.  0.]\n",
      " [ 1.  0.  0.  0.]\n",
      " [ 0.  0.  0. -1.]\n",
      " [ 0.  0.  1.  0.]] \n",
      "\n",
      "s=\n",
      " [3.       2.236068 2.       0.      ] \n",
      "\n",
      "V=\n",
      " [[-0.         0.         1.         0.         0.       ]\n",
      " [ 0.4472136  0.         0.         0.         0.8944272]\n",
      " [-0.         1.         0.         0.         0.       ]\n",
      " [ 0.         0.         0.         1.         0.       ]]\n",
      "\n",
      "QR factorization of a given array:\n",
      "q=\n",
      " [[ 1.  0.  0.  0.]\n",
      " [-0.  0. -1.  0.]\n",
      " [-0. -0.  0.  1.]\n",
      " [-0. -1.  0.  0.]] \n",
      "\n",
      "r=\n",
      " [[ 1.  0.  0.  0.  2.]\n",
      " [ 0. -2.  0.  0.  0.]\n",
      " [ 0.  0. -3.  0.  0.]\n",
      " [ 0.  0.  0.  0.  0.]]\n"
     ]
    }
   ],
   "source": [
    "# Write a NumPy program to compute the factor of a given array by Singular Value Decomposition and to get the qr factorization of a given array.\n",
    "\n",
    "a = np.array([[1, 0, 0, 0, 2], [0, 0, 3, 0, 0], [0, 0, 0, 0, 0], [0, 2, 0, 0, 0]], dtype=np.float32)\n",
    "\n",
    "U, s, V = np.linalg.svd(a, full_matrices=False)\n",
    "\n",
    "q, r = np.linalg.qr(a)\n",
    "\n",
    "print(\"Factor of a given array by Singular Value Decomposition:\")\n",
    "print(\"U=\\n\", U, \"\\n\\ns=\\n\", s, \"\\n\\nV=\\n\", V) \n",
    "\n",
    "print(\"\\nQR factorization of a given array:\")\n",
    "print(\"q=\\n\",q,\"\\n\\nr=\\n\",r)"
   ]
  },
  {
   "cell_type": "code",
   "execution_count": 8,
   "metadata": {},
   "outputs": [
    {
     "name": "stdout",
     "output_type": "stream",
     "text": [
      "Result: (array([2, 3, 1], dtype=int64), array([0, 1, 2, 3]))\n"
     ]
    },
    {
     "data": {
      "image/png": "[encoded data removed]",
      "text/plain": [
       "<Figure size 640x480 with 1 Axes>"
      ]
     },
     "metadata": {},
     "output_type": "display_data"
    }
   ],
   "source": [
    "# Write a NumPy program to compute the histogram of nums against the bins.\n",
    "# Sample Output:\n",
    "# nums: [0.5 0.7 1. 1.2 1.3 2.1]\n",
    "# bins: [0 1 2 3]\n",
    "# Result: (array([2, 3, 1], dtype=int64), array([0, 1, 2, 3]))\n",
    "\n",
    "import matplotlib.pyplot as plt\n",
    "\n",
    "nums = np.array([0.5, 0.7, 1.0, 1.2, 1.3, 2.1])\n",
    "\n",
    "bins = np.array([0, 1, 2, 3])\n",
    "\n",
    "print(\"Result:\", np.histogram(nums, bins))\n",
    "\n",
    "plt.hist(nums, bins=bins)\n",
    "\n",
    "plt.show() "
   ]
  },
  {
   "cell_type": "code",
   "execution_count": 9,
   "metadata": {},
   "outputs": [
    {
     "name": "stdout",
     "output_type": "stream",
     "text": [
      "[1 2 2 0 1 4 1 1]\n"
     ]
    }
   ],
   "source": [
    "# Write a Python program to count number of occurrences of each value in a given array of non-negative integers.\n",
    "# Note: bincount() function count number of occurrences of each value in an array of non-negative integers in the range of the array between the minimum and maximum values including the values that did not occur.\n",
    "# Sample Output:\n",
    "# Original array:\n",
    "# [0, 1, 6, 1, 4, 1, 2, 2, 7]\n",
    "# Number of occurrences of each value in array:\n",
    "# [1 3 2 0 1 0 1 1]\n",
    "\n",
    "array1 = [0, 5, 6,5, 1, 4, 1, 2,5, 2, 7,5] \n",
    "\n",
    "print(np.bincount(array1)) \n"
   ]
  },
  {
   "cell_type": "markdown",
   "metadata": {},
   "source": [
    "# Random Numbers"
   ]
  },
  {
   "cell_type": "code",
   "execution_count": 10,
   "metadata": {},
   "outputs": [
    {
     "name": "stdout",
     "output_type": "stream",
     "text": [
      "Value to compare:\n",
      "10.761456072425668\n",
      "11\n"
     ]
    }
   ],
   "source": [
    "# Write a NumPy program to find the closest value (to a given scalar) in an array.\n",
    "# Original array:\n",
    "# [ 0 1 2 3 4 5 6 7 8 9 10 11 12 13 14 15 16 17 18 19 20 21 22 23 24\n",
    "# 25 26 27 28 29 30 31 32 33 34 35 36 37 38 39 40 41 42 43 44 45 46 47 48 49\n",
    "# 50 51 52 53 54 55 56 57 58 59 60 61 62 63 64 65 66 67 68 69 70 71 72 73 74\n",
    "# 75 76 77 78 79 80 81 82 83 84 85 86 87 88 89 90 91 92 93 94 95 96 97 98 99]\n",
    "# Value to compare:\n",
    "# 34.99062268928913\n",
    "# 35\n",
    "\n",
    "x = np.arange(100)\n",
    "\n",
    "a = np.random.uniform(0, 100)\n",
    "\n",
    "print(\"Value to compare:\")\n",
    "print(a)\n",
    "\n",
    "index = (np.abs(x - a)).argmin()\n",
    "\n",
    "print(x[index])"
   ]
  },
  {
   "cell_type": "markdown",
   "metadata": {},
   "source": [
    "# Sorting, Searching, and Indexing"
   ]
  },
  {
   "cell_type": "code",
   "execution_count": 11,
   "metadata": {},
   "outputs": [
    {
     "name": "stdout",
     "output_type": "stream",
     "text": [
      "[[8 7 2 0]\n",
      " [9 8 4 5]\n",
      " [6 9 4 7]\n",
      " [8 3 6 2]]\n",
      "\n",
      "Sort the said array by the nth column: \n",
      "[[8 3 6 2]\n",
      " [8 7 2 0]\n",
      " [9 8 4 5]\n",
      " [6 9 4 7]]\n"
     ]
    }
   ],
   "source": [
    "# Write a NumPy program to sort an given array by the nth column.\n",
    "# Original array:\n",
    "# [[1 5 0]\n",
    "# [3 2 5]\n",
    "# [8 7 6]]\n",
    "# Sort the said array by the nth column:\n",
    "# [[3 2 5]\n",
    "# [1 5 0]\n",
    "# [8 7 6]]\n",
    "\n",
    "nums = np.random.randint(0, 10, (4, 4))\n",
    "\n",
    "print(nums)\n",
    "\n",
    "print(\"\\nSort the said array by the nth column: \")\n",
    "\n",
    "print(nums[nums[:, 1].argsort()]) "
   ]
  },
  {
   "cell_type": "code",
   "execution_count": 12,
   "metadata": {},
   "outputs": [
    {
     "name": "stdout",
     "output_type": "stream",
     "text": [
      "Original 2D array:\n",
      " [[45 65 40 35 49]\n",
      " [53 18  3 21 25]\n",
      " [46 60 44 96 95]\n",
      " [32 91 68 86 45]\n",
      " [47 33  1 70 80]]\n",
      "\n",
      "Mask array (elements > 50):\n",
      " [[ True False False False False]\n",
      " [False  True  True  True False]\n",
      " [False  True False  True False]\n",
      " [False False False False  True]\n",
      " [False  True False False False]]\n",
      "\n",
      "Selected elements using the mask:\n",
      " [45 18  3 21 60 96 45 33]\n"
     ]
    }
   ],
   "source": [
    "# Write a NumPy program that creates a 2D NumPy array and uses a mask array (boolean array) \n",
    "# for indexing to select a subset of elements that match the mask criteria.\n",
    "\n",
    "array_2d = np.random.randint(0, 100, size=(5, 5))\n",
    "\n",
    "mask = array_2d % 3 ==0\n",
    "\n",
    "selected_elements = array_2d[mask]\n",
    "\n",
    "print('Original 2D array:\\n', array_2d)\n",
    "print('\\nMask array (elements > 50):\\n', mask)\n",
    "print('\\nSelected elements using the mask:\\n', selected_elements)"
   ]
  },
  {
   "cell_type": "markdown",
   "metadata": {},
   "source": [
    "# Datetime and String Operations"
   ]
  },
  {
   "cell_type": "code",
   "execution_count": 13,
   "metadata": {},
   "outputs": [
    {
     "name": "stdout",
     "output_type": "stream",
     "text": [
      "Number of weekdays in March 2017:\n",
      "23\n",
      "\n",
      "Number of weekdays in Feb 2025:\n",
      "20\n"
     ]
    }
   ],
   "source": [
    "# Write a NumPy program to find the number of weekdays in March 2017.\n",
    "# Note: \"busday\" default of Monday through Friday being valid days.\n",
    "# Sample Output:\n",
    "# Number of weekdays in March 2017:\n",
    "# 23\n",
    "\n",
    "print(\"Number of weekdays in March 2017:\")\n",
    "print(np.busday_count('2017-03', '2017-04')) \n",
    "\n",
    "print(\"\\nNumber of weekdays in Feb 2025:\")\n",
    "print(np.busday_count('2025-02', '2025-03')) "
   ]
  },
  {
   "cell_type": "code",
   "execution_count": 14,
   "metadata": {},
   "outputs": [
    {
     "name": "stdout",
     "output_type": "stream",
     "text": [
      "First Monday in May 2017:\n",
      "2017-05-01\n",
      "\n",
      "Second Monday in Jan 2025:\n",
      "2025-01-13\n"
     ]
    }
   ],
   "source": [
    "# Write a NumPy program to find the first Monday in May 2017.\n",
    "# Expected Output:\n",
    "# First Monday in May 2017:\n",
    "# 2017-05-01\n",
    "\n",
    "print(\"First Monday in May 2017:\")\n",
    "print(np.busday_offset('2017-05', 0, roll='forward', weekmask='Mon')) \n",
    "\n",
    "print(\"\\nSecond Monday in Jan 2025:\")\n",
    "print(np.busday_offset('2025-01', 1, roll='forward', weekmask='Mon')) "
   ]
  },
  {
   "cell_type": "code",
   "execution_count": 15,
   "metadata": {},
   "outputs": [
    {
     "name": "stdout",
     "output_type": "stream",
     "text": [
      "Count 'Python' row wise in the above array of string values:\n",
      "[[1 0 1]\n",
      " [2 0 0]\n",
      " [1 0 1]]\n"
     ]
    }
   ],
   "source": [
    "# Write a NumPy program to count a given word in each row of a given array of string values.\n",
    "# Sample output:\n",
    "# Original array of string values:\n",
    "# [['Python' 'NumPy' 'Exercises']\n",
    "# ['Python' 'Pandas' 'Exercises']\n",
    "# ['Python' 'Machine learning' 'Python']]\n",
    "# Count 'Python' row wise in the above array of string values:\n",
    "# [[1 0 0]\n",
    "# [1 0 0]\n",
    "# [1 0 1]]\n",
    "\n",
    "str1 = np.array([['Python','NumPy','Python Exercises'],\n",
    "                 ['Python Python','Pandas','Exercises'],\n",
    "                 ['Python','Machine learning','Python']])\n",
    "\n",
    "print(\"Count 'Python' row wise in the above array of string values:\")\n",
    "print(np.char.count(str1, 'Python')) "
   ]
  },
  {
   "cell_type": "code",
   "execution_count": 16,
   "metadata": {},
   "outputs": [
    {
     "name": "stdout",
     "output_type": "stream",
     "text": [
      "Replace '-' with ':' character in the said array of string values:\n",
      "[['Python:NumPy:Exercises']\n",
      " [':Python:']]\n",
      "\n",
      "Replace '-' with ' ' character in the said array of string values:\n",
      "[['Python NumPy Exercises']\n",
      " ['Python']]\n"
     ]
    }
   ],
   "source": [
    "# Write a NumPy program to replace a specific character with another in a given array of string values.\n",
    "# Sample output:\n",
    "# Original array of string values:\n",
    "# [['Python-NumPy-Exercises']\n",
    "# ['-Python-']]\n",
    "# Replace '-' with '=' character in the said array of string values:\n",
    "# [['Python==NumPy==Exercises']\n",
    "# ['==Python==']]\n",
    "# Replace '-' with ' ' character in the said array of string values:\n",
    "# [['Python NumPy Exercises']\n",
    "# ['Python']]\n",
    "\n",
    "str1 = np.array([['Python-NumPy-Exercises'], ['-Python-']])\n",
    "\n",
    "print(\"Replace '-' with ':' character in the said array of string values:\")\n",
    "print(np.char.strip(np.char.replace(str1, '-', ':')))\n",
    "\n",
    "print(\"\\nReplace '-' with ' ' character in the said array of string values:\")\n",
    "print(np.char.strip(np.char.replace(str1, '-', ' '))) "
   ]
  },
  {
   "cell_type": "markdown",
   "metadata": {},
   "source": [
    "# Broadcasting and Memory Layout"
   ]
  },
  {
   "cell_type": "code",
   "execution_count": 17,
   "metadata": {},
   "outputs": [
    {
     "name": "stdout",
     "output_type": "stream",
     "text": [
      "[[  1   2   3]\n",
      " [  8  10  12]\n",
      " [ 21  24  27]\n",
      " [ 40  44  48]\n",
      " [ 65  70  75]\n",
      " [ 96 102 108]\n",
      " [133 140 147]]\n"
     ]
    }
   ],
   "source": [
    "# Write a NumPy program that Multiplies each column of a 2D array x of shape (7, 3) by a 1D array y of shape (7,) using broadcasting.\n",
    "\n",
    "x = np.arange(1,22)\n",
    "x = x.reshape(7,3)\n",
    "\n",
    "y = np.array([1,2,3,4,5,6,7])\n",
    "\n",
    "result = x*y[:,np.newaxis]\n",
    "print(result)"
   ]
  },
  {
   "cell_type": "code",
   "execution_count": 48,
   "metadata": {},
   "outputs": [
    {
     "name": "stdout",
     "output_type": "stream",
     "text": [
      "Original 1D array:\n",
      " [ 0  1  2  3  4  5  6  7  8  9 10 11 12 13 14 15 16 17 18 19]\n",
      "\n",
      "Reshaped (4, 5) matrix:\n",
      " [[ 0  1  2  3  4]\n",
      " [ 5  6  7  8  9]\n",
      " [10 11 12 13 14]\n",
      " [15 16 17 18 19]]\n",
      "\n",
      "Sliced (2, 3) sub-matrix:\n",
      " [[0 1 2]\n",
      " [5 6 7]]\n",
      "\n",
      "Strides of the sub-matrix:\n",
      " (20, 4)\n"
     ]
    }
   ],
   "source": [
    "# Write a NumPy program that creates a 1D array of 20 elements and use reshape() \n",
    "# to create a (4, 5) matrix. Slice a (2, 3) sub-matrix and print its strides.\n",
    "\n",
    "_1d_array = np.arange(20)\n",
    "print(\"Original 1D array:\\n\", _1d_array)\n",
    "\n",
    "reshaped_arr = _1d_array.reshape(4, 5)\n",
    "print(\"\\nReshaped (4, 5) matrix:\\n\", reshaped_arr)\n",
    "\n",
    "sub_matrix = reshaped_arr[:2, :3]\n",
    "print(\"\\nSliced (2, 3) sub-matrix:\\n\", sub_matrix)\n",
    "\n",
    "print(\"\\nStrides of the sub-matrix:\\n\", sub_matrix.strides)"
   ]
  },
  {
   "cell_type": "markdown",
   "metadata": {},
   "source": [
    "# Performance Optimization and Interoperability"
   ]
  },
  {
   "cell_type": "code",
   "execution_count": 20,
   "metadata": {},
   "outputs": [
    {
     "name": "stdout",
     "output_type": "stream",
     "text": [
      "First 10 elements of the array reversed using for loop:\n",
      "[151297 130851 226343 613757   8076 726175 621547 885034 197449 240310]\n",
      "Time taken: 0.6434757709503174\n",
      "\n",
      "First 10 elements of the array reversed using NumPy slicing:\n",
      "[151297 130851 226343 613757   8076 726175 621547 885034 197449 240310]\n",
      "Time taken: 0.0009982585906982422\n"
     ]
    }
   ],
   "source": [
    "# Write a NumPy program that creates a large NumPy array and write a function to reverse its elements using a for loop. \n",
    "# Optimize it using NumPy's slicing operations.\n",
    "import time\n",
    "large_array = np.random.randint(1, 1000000, size=1000000)\n",
    "\n",
    "def reverse_with_loop(arr):\n",
    "    t1 = time.time()\n",
    "    reversed_array = np.empty_like(arr)\n",
    "    for i in range(len(arr)):\n",
    "        reversed_array[i] = arr[len(arr) - 1 - i]\n",
    "    t2 = time.time()\n",
    "    return reversed_array,t2-t1\n",
    "\n",
    "reversed_with_loop,T1 = reverse_with_loop(large_array)\n",
    "t3 = time.time()\n",
    "reversed_with_numpy = large_array[::-1]\n",
    "t4 = time.time()\n",
    "T2 = t4-t3\n",
    "print(\"First 10 elements of the array reversed using for loop:\")\n",
    "print(reversed_with_loop[:10])\n",
    "print(\"Time taken:\",T1)\n",
    "print(\"\\nFirst 10 elements of the array reversed using NumPy slicing:\")\n",
    "print(reversed_with_numpy[:10])\n",
    "print(\"Time taken:\",T2)"
   ]
  },
  {
   "cell_type": "code",
   "execution_count": 21,
   "metadata": {},
   "outputs": [
    {
     "name": "stdout",
     "output_type": "stream",
     "text": [
      "Original Python list: [1, 2, 3]\n",
      "<class 'list'>\n",
      "\n",
      "Original NumPy list: [4 5 6]\n",
      "<class 'numpy.ndarray'>\n",
      "\n",
      "Combined list:\n",
      "[1, 2, 3, 4, 5, 6]\n",
      "<class 'list'>\n"
     ]
    }
   ],
   "source": [
    "# Write a NumPy program to append a NumPy array to a Python list and print the result.\n",
    "\n",
    "python_list = [1, 2, 3]\n",
    "print(\"Original Python list:\",python_list)\n",
    "print(type(python_list))\n",
    "\n",
    "numpy_array = np.array([4, 5, 6])\n",
    "print(\"\\nOriginal NumPy list:\",numpy_array)\n",
    "print(type(numpy_array))\n",
    "\n",
    "combined_list = python_list + numpy_array.tolist()\n",
    "print(\"\\nCombined list:\")\n",
    "print(combined_list)\n",
    "print(type(combined_list))"
   ]
  },
  {
   "cell_type": "code",
   "execution_count": 22,
   "metadata": {},
   "outputs": [
    {
     "name": "stdout",
     "output_type": "stream",
     "text": [
      "   A  B   C   D\n",
      "0  1  a  10  20\n",
      "1  2  b  30  40\n",
      "2  3  c  50  60\n"
     ]
    }
   ],
   "source": [
    "# Write a NumPy program to combine a NumPy array and a Pandas DataFrame into a single DataFrame and print it.\n",
    "\n",
    "import pandas as pd\n",
    "\n",
    "array = np.array([[10, 20], [30, 40], [50, 60]])\n",
    "\n",
    "data = {\n",
    "    'A': [1, 2, 3],\n",
    "    'B': ['a', 'b', 'c']\n",
    "}\n",
    "df = pd.DataFrame(data)\n",
    "\n",
    "array_df = pd.DataFrame(array, columns=['C', 'D'])\n",
    "\n",
    "combined_df = pd.concat([df, array_df], axis=1)\n",
    "\n",
    "print(combined_df)"
   ]
  },
  {
   "cell_type": "markdown",
   "metadata": {},
   "source": [
    "# Input/Output (I/O) Operations"
   ]
  },
  {
   "cell_type": "code",
   "execution_count": 23,
   "metadata": {},
   "outputs": [],
   "source": [
    "# Write a NumPy program that saves a NumPy array as an image file (e.g., PNG) using an image processing library like PIL or opencv.\n",
    "\n",
    "from PIL import Image\n",
    "import numpy as np\n",
    "\n",
    "array_data = np.random.rand(100, 100, 3) * 255\n",
    "array_data = array_data.astype(np.uint8)\n",
    "\n",
    "image_file_name = 'saved_image.png'\n",
    "\n",
    "image = Image.fromarray(array_data)\n",
    "\n",
    "image.save(image_file_name)\n",
    "\n",
    "loaded_image = Image.open(image_file_name)\n",
    "loaded_image.show()"
   ]
  },
  {
   "cell_type": "code",
   "execution_count": 24,
   "metadata": {},
   "outputs": [
    {
     "name": "stdout",
     "output_type": "stream",
     "text": [
      "Loaded array:\n",
      " [[1. 2. 3.]\n",
      " [4. 5. 6.]\n",
      " [7. 8. 9.]]\n"
     ]
    }
   ],
   "source": [
    "# Write a NumPy array to a CSV file with a custom delimiter and then read it back into a NumPy array using the same delimiter.\n",
    "\n",
    "array_to_save = np.array([[1, 2, 3], [4, 5, 6], [7, 8, 9]])\n",
    "\n",
    "csv_file_name = 'array_data.csv'\n",
    "\n",
    "np.savetxt(csv_file_name, array_to_save, delimiter=';', fmt='%d')\n",
    "\n",
    "loaded_array = np.loadtxt(csv_file_name, delimiter=';')\n",
    "\n",
    "print('Loaded array:\\n', loaded_array)"
   ]
  },
  {
   "cell_type": "markdown",
   "metadata": {},
   "source": [
    "# Functions and Masked Arrays"
   ]
  },
  {
   "cell_type": "code",
   "execution_count": 25,
   "metadata": {},
   "outputs": [
    {
     "name": "stdout",
     "output_type": "stream",
     "text": [
      "Maximum elements along axis 0:\n",
      "[11 15  9]\n",
      "\n",
      "Maximum elements along axis 1:\n",
      "[12 15  9]\n"
     ]
    }
   ],
   "source": [
    "# Write a NumPy program that uses np.maximum.reduce to find the maximum element along a specified axis of a 2D array.\n",
    "\n",
    "array_2d = np.array([[11, 12, 3], [4, 15, 6], [7, 8, 9]])\n",
    "\n",
    "max_elements_axis0 = np.maximum.reduce(array_2d, axis=0)\n",
    "\n",
    "max_elements_axis1 = np.maximum.reduce(array_2d, axis=1)\n",
    "\n",
    "print(\"Maximum elements along axis 0:\")\n",
    "print(max_elements_axis0)\n",
    "\n",
    "print(\"\\nMaximum elements along axis 1:\")\n",
    "print(max_elements_axis1)"
   ]
  },
  {
   "cell_type": "code",
   "execution_count": 26,
   "metadata": {},
   "outputs": [
    {
     "name": "stdout",
     "output_type": "stream",
     "text": [
      "Result Array after applying np.logical_and:\n",
      "[ True False False False]\n"
     ]
    }
   ],
   "source": [
    "# Write a NumPy program that uses np.logical_and to combine two boolean arrays based on element-wise logical AND operation.\n",
    "\n",
    "array_a = np.array([True, False, True, False])\n",
    "array_b = np.array([True, True, False, False])\n",
    "\n",
    "result_array = np.logical_and(array_a, array_b)\n",
    "\n",
    "print(\"Result Array after applying np.logical_and:\")\n",
    "print(result_array)"
   ]
  },
  {
   "cell_type": "code",
   "execution_count": 27,
   "metadata": {},
   "outputs": [
    {
     "name": "stdout",
     "output_type": "stream",
     "text": [
      "Original 2D array:\n",
      " [[51 14 35 21]\n",
      " [13 77 49 54]\n",
      " [54 66 63 75]\n",
      " [63 49 11  6]]\n",
      "\n",
      "Masked array (values < 20 are masked):\n",
      " [[51 -- 35 21]\n",
      " [-- 77 49 54]\n",
      " [54 66 63 75]\n",
      " [63 49 -- --]]\n",
      "\n",
      "Any masked elements present?: True\n"
     ]
    }
   ],
   "source": [
    "# Write a NumPy program that creates a masked array and checks if any masked elements are present.\n",
    "\n",
    "import numpy.ma as ma\n",
    "\n",
    "array_2d = np.random.randint(0, 100, size=(4, 4))\n",
    "\n",
    "condition = array_2d < 20\n",
    "\n",
    "masked_array = ma.masked_array(array_2d, mask=condition)\n",
    "\n",
    "has_masked_elements = masked_array.mask.any()\n",
    "\n",
    "print('Original 2D array:\\n', array_2d)\n",
    "print('\\nMasked array (values < 20 are masked):\\n', masked_array)\n",
    "print('\\nAny masked elements present?:', has_masked_elements)"
   ]
  },
  {
   "cell_type": "code",
   "execution_count": 28,
   "metadata": {},
   "outputs": [
    {
     "name": "stdout",
     "output_type": "stream",
     "text": [
      "Original 2D array:\n",
      " [[14  4  2]\n",
      " [10 15 10]\n",
      " [19 17 16]]\n",
      "\n",
      "Masked array (values > 5 are masked):\n",
      " [[-- 4 2]\n",
      " [-- -- --]\n",
      " [-- -- --]]\n",
      "\n",
      "Result array after applying sin to unmasked elements:\n",
      " [[-- -0.7568024953079282 0.9092974268256817]\n",
      " [-- -- --]\n",
      " [-- -- --]]\n"
     ]
    }
   ],
   "source": [
    "# Write a NumPy program that creates a masked array and applies a mathematical function (e.g., sin, cos) only to the unmasked elements.\n",
    "\n",
    "array_2d = np.random.randint(0, 20, size=(3, 3))\n",
    "\n",
    "condition = array_2d > 5\n",
    "\n",
    "masked_array = ma.masked_array(array_2d, mask=condition)\n",
    "\n",
    "result_array = ma.sin(masked_array)\n",
    "\n",
    "print('Original 2D array:\\n', array_2d)\n",
    "print('\\nMasked array (values > 5 are masked):\\n', masked_array)\n",
    "print('\\nResult array after applying sin to unmasked elements:\\n', result_array)"
   ]
  },
  {
   "cell_type": "markdown",
   "metadata": {},
   "source": [
    "# Structured Arrays and SciPy Integration"
   ]
  },
  {
   "cell_type": "code",
   "execution_count": 29,
   "metadata": {},
   "outputs": [
    {
     "name": "stdout",
     "output_type": "stream",
     "text": [
      "Structured Array with all 'height' values set to 6.0:\n",
      "[('Aneri Desai', 20, 6.) ('Priyanshu Desai', 21, 6.)\n",
      " ('Vatsal Chauhan', 25, 6.) ('Vraj Desai', 30, 6.)]\n"
     ]
    }
   ],
   "source": [
    "# Write a NumPy program to broadcast a value (e.g., set all 'height' values to 6.0) across the 'height' field in the structured array \n",
    "# created with fields for 'name' (string), 'age' (integer), and 'height' (float).\n",
    "\n",
    "dtype = [('name', 'U20'), ('age', 'i4'), ('height', 'f4')]\n",
    "\n",
    "structured_array = np.array([\n",
    "    ('Aneri Desai', 20, 5.5),\n",
    "    ('Priyanshu Desai', 21, 6.1),\n",
    "    ('Vatsal Chauhan', 25, 5.8),\n",
    "    ('Vraj Desai', 30, 5.9)\n",
    "], dtype=dtype)\n",
    "\n",
    "structured_array['height'] = 6.0\n",
    "\n",
    "print(\"Structured Array with all 'height' values set to 6.0:\")\n",
    "print(structured_array)"
   ]
  },
  {
   "cell_type": "code",
   "execution_count": 37,
   "metadata": {},
   "outputs": [
    {
     "name": "stdout",
     "output_type": "stream",
     "text": [
      "[('Aneri Desai', 20, 6., 'Aneri Desai_20')\n",
      " ('Priyanshu Desai', 21, 6., 'Priyanshu Desai_21')\n",
      " ('Vatsal Chauhan', 25, 6., 'Vatsal Chauhan_25')\n",
      " ('Vraj Desai', 30, 6., 'Vraj Desai_30')]\n"
     ]
    }
   ],
   "source": [
    "# Write a NumPy program that creates a new field 'name_age' that concatenates the 'name' and 'age' fields\n",
    "# from the structured array created with fields for 'name' (string), 'age' (integer), and 'height' (float).\n",
    "\n",
    "new_dtype = [('name', 'U20'), ('age', 'i4'), ('height', 'f4'), ('name_age','U24')]\n",
    "\n",
    "new_structured_array = np.empty(structured_array.shape,dtype=new_dtype)\n",
    "\n",
    "for field in structured_array.dtype.names:\n",
    "    new_structured_array[field] = structured_array[field]\n",
    "\n",
    "new_structured_array['name_age'] = np.array([f\"{name}_{age}\" for name,age in zip(structured_array['name'],structured_array['age'])])\n",
    "\n",
    "print(new_structured_array)"
   ]
  },
  {
   "cell_type": "code",
   "execution_count": 38,
   "metadata": {},
   "outputs": [
    {
     "name": "stdout",
     "output_type": "stream",
     "text": [
      "Estimated A: 5.70\n",
      "Estimated B: 0.58\n",
      "Estimated C: 2.04\n"
     ]
    },
    {
     "data": {
      "image/png": "[encoded data removed]",
      "text/plain": [
       "<Figure size 640x480 with 1 Axes>"
      ]
     },
     "metadata": {},
     "output_type": "display_data"
    }
   ],
   "source": [
    "# You have experimental data for a system that is expected to follow an exponential decay model. The model is given by:\n",
    "\n",
    "# y(x) = A(e^-Bx) + C\n",
    "\n",
    "# where A,B and C are parameters to be estimated from the data. Use scipy.optimize.curve_fit \n",
    "# to fit the model to the data and estimate the parameters.\n",
    "\n",
    "import numpy as np\n",
    "import matplotlib.pyplot as plt\n",
    "from scipy.optimize import curve_fit\n",
    "\n",
    "# Generate synthetic data with added noise\n",
    "np.random.seed(0)\n",
    "x_data = np.linspace(0, 10, 100)\n",
    "y_data = 5 * np.exp(-0.5 * x_data) + 2 + np.random.normal(0, 0.5, size=x_data.size)\n",
    "\n",
    "# Define the exponential decay model\n",
    "def model(x, A, B, C):\n",
    "    return A * np.exp(-B * x) + C\n",
    "\n",
    "# Use curve_fit to estimate the parameters A, B, and C\n",
    "params, covariance = curve_fit(model, x_data, y_data, p0=[1, 1, 1])\n",
    "\n",
    "# Extract estimated parameters\n",
    "A_est, B_est, C_est = params\n",
    "\n",
    "# Print the estimated parameters\n",
    "print(f\"Estimated A: {A_est:.2f}\")\n",
    "print(f\"Estimated B: {B_est:.2f}\")\n",
    "print(f\"Estimated C: {C_est:.2f}\")\n",
    "\n",
    "# Plot the data and the fitted curve\n",
    "plt.scatter(x_data, y_data, label=\"Data\", color='red', alpha=0.6)\n",
    "plt.plot(x_data, model(x_data, *params), label=\"Fitted Curve\", color='blue', linewidth=2)\n",
    "plt.xlabel(\"x\")\n",
    "plt.ylabel(\"y\")\n",
    "plt.title(\"Curve Fitting with Exponential Decay Model\")\n",
    "plt.legend()\n",
    "plt.show()\n"
   ]
  },
  {
   "cell_type": "code",
   "execution_count": 41,
   "metadata": {},
   "outputs": [
    {
     "name": "stdout",
     "output_type": "stream",
     "text": [
      "Solution: x = 0.07, y = 0.53, z = 0.73\n"
     ]
    }
   ],
   "source": [
    "# Solving a System of Linear Equations Using scipy.linalg.solve\n",
    "# Solve the following system of linear equations using SciPy:\n",
    "# 2x+3y−z=1\n",
    "# 4x+y+3z=3\n",
    "# −2x+5y+2z=4\n",
    "# You can use scipy.linalg.solve to find the values of x,y and z.\n",
    "\n",
    "import numpy as np\n",
    "from scipy.linalg import solve\n",
    "\n",
    "A = np.array([[2, 3, -1],\n",
    "              [4, 1, 3],\n",
    "              [-2, 5, 2]])\n",
    "\n",
    "b = np.array([1, 3, 4])\n",
    "\n",
    "solution = solve(A, b)\n",
    "\n",
    "x, y, z = solution\n",
    "print(f\"Solution: x = {x:.2f}, y = {y:.2f}, z = {z:.2f}\")\n"
   ]
  },
  {
   "cell_type": "markdown",
   "metadata": {},
   "source": [
    "# Advanced Topics and Mastery"
   ]
  },
  {
   "cell_type": "code",
   "execution_count": 50,
   "metadata": {},
   "outputs": [
    {
     "name": "stdout",
     "output_type": "stream",
     "text": [
      "Original Array:\n",
      " [[0.29828233 0.56996491 0.59087276]\n",
      " [0.57432525 0.65320082 0.65210327]\n",
      " [0.43141844 0.8965466  0.36756187]]\n",
      "\n",
      "Pairwise Euclidean distances between each pair of rows:\n",
      " [[0.         0.29474919 0.41743092]\n",
      " [0.29474919 0.         0.40075346]\n",
      " [0.41743092 0.40075346 0.        ]]\n"
     ]
    }
   ],
   "source": [
    "# Write a NumPy program to create a 3x3 array with random values \n",
    "# and calculate the pairwise Euclidean distance between each pair of rows.\n",
    "\n",
    "from scipy.spatial import distance\n",
    "\n",
    "array = np.random.random((3, 3))\n",
    "\n",
    "print(\"Original Array:\\n\", array)\n",
    "\n",
    "pairwise_distances = distance.cdist(array, array, 'euclidean')\n",
    "\n",
    "print(\"\\nPairwise Euclidean distances between each pair of rows:\\n\", pairwise_distances)"
   ]
  },
  {
   "cell_type": "code",
   "execution_count": 54,
   "metadata": {},
   "outputs": [
    {
     "name": "stdout",
     "output_type": "stream",
     "text": [
      "Original Array:\n",
      " [[0.39822106 0.20984375 0.18619301 0.94437239]\n",
      " [0.7395508  0.49045881 0.22741463 0.25435648]\n",
      " [0.05802916 0.43441663 0.31179588 0.69634349]\n",
      " [0.37775184 0.17960368 0.02467873 0.06724963]]\n",
      "\n",
      "Array after shifting all elements one position downwards:\n",
      " [[0.37775184 0.17960368 0.02467873 0.06724963]\n",
      " [0.39822106 0.20984375 0.18619301 0.94437239]\n",
      " [0.7395508  0.49045881 0.22741463 0.25435648]\n",
      " [0.05802916 0.43441663 0.31179588 0.69634349]]\n",
      "\n",
      "Array after shifting all elements one position to right:\n",
      " [[0.94437239 0.39822106 0.20984375 0.18619301]\n",
      " [0.25435648 0.7395508  0.49045881 0.22741463]\n",
      " [0.69634349 0.05802916 0.43441663 0.31179588]\n",
      " [0.06724963 0.37775184 0.17960368 0.02467873]]\n"
     ]
    }
   ],
   "source": [
    "# Write a NumPy program to create a 4x4 array with random values and shift all elements one position downwards.\n",
    "\n",
    "array = np.random.random((4, 4))\n",
    "\n",
    "print(\"Original Array:\\n\", array)\n",
    "\n",
    "shifted_array = np.roll(array, shift=1, axis=0)\n",
    "\n",
    "print(\"\\nArray after shifting all elements one position downwards:\\n\", shifted_array)\n",
    "\n",
    "shifted_array1 = np.roll(array, shift=1, axis=1)\n",
    "\n",
    "print(\"\\nArray after shifting all elements one position to right:\\n\", shifted_array1)"
   ]
  },
  {
   "cell_type": "code",
   "execution_count": 59,
   "metadata": {},
   "outputs": [
    {
     "name": "stdout",
     "output_type": "stream",
     "text": [
      "[[3 7 8]\n",
      " [5 0 8]\n",
      " [5 4 7]]\n",
      "\n",
      "After updating all value greater than 6 with 6:\n",
      " [[3 6 6]\n",
      " [5 0 6]\n",
      " [5 4 6]]\n"
     ]
    }
   ],
   "source": [
    "# Create a 2D array with random integers and replace all values greater than a certain threshold with that threshold.\n",
    "\n",
    "arr = np.random.randint(0,10,size=(3,3))\n",
    "print(arr)\n",
    "\n",
    "ts = 6\n",
    "arr[arr>ts]=ts\n",
    "print(f\"\\nAfter updating all value greater than {ts} with {ts}:\\n\",arr)"
   ]
  },
  {
   "cell_type": "code",
   "execution_count": 61,
   "metadata": {},
   "outputs": [
    {
     "name": "stdout",
     "output_type": "stream",
     "text": [
      "[[5 7 2]\n",
      " [7 1 6]\n",
      " [5 0 0]]\n",
      "\n",
      "Cumulative sum along with axis 1:\n",
      " [[ 5 12 14]\n",
      " [ 7  8 14]\n",
      " [ 5  5  5]]\n",
      "\n",
      "Cumulative sum along with axis 0:\n",
      " [[ 5  7  2]\n",
      " [12  8  8]\n",
      " [17  8  8]]\n"
     ]
    }
   ],
   "source": [
    "# Compute the cumulative sum of elements along a given axis in a 2D array.\n",
    "\n",
    "m = np.random.randint(0,10,size=(3,3))\n",
    "\n",
    "print(m)\n",
    "\n",
    "cumulative_sum1 = np.cumsum(m,axis=1)\n",
    "\n",
    "print(\"\\nCumulative sum along with axis 1:\\n\",cumulative_sum1)\n",
    "\n",
    "cumulative_sum2 = np.cumsum(m,axis=0)\n",
    "\n",
    "print(\"\\nCumulative sum along with axis 0:\\n\",cumulative_sum2)"
   ]
  },
  {
   "cell_type": "code",
   "execution_count": null,
   "metadata": {},
   "outputs": [],
   "source": []
  }
 ],
 "metadata": {
  "kernelspec": {
   "display_name": "base",
   "language": "python",
   "name": "python3"
  },
  "language_info": {
   "codemirror_mode": {
    "name": "ipython",
    "version": 3
   },
   "file_extension": ".py",
   "mimetype": "text/x-python",
   "name": "python",
   "nbconvert_exporter": "python",
   "pygments_lexer": "ipython3",
   "version": "3.12.7"
  }
 },
 "nbformat": 4,
 "nbformat_minor": 2
}

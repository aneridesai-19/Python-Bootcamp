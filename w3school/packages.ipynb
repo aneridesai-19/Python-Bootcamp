{
 "cells": [
  {
   "cell_type": "markdown",
   "metadata": {},
   "source": [
    "# urllib3"
   ]
  },
  {
   "cell_type": "code",
   "execution_count": 1,
   "metadata": {},
   "outputs": [
    {
     "name": "stdout",
     "output_type": "stream",
     "text": [
      "Response is not compressed.\n"
     ]
    }
   ],
   "source": [
    "# . Write a Python program that makes a request to a server that sends a compressed response. \n",
    "# Manually decompresses the content using the urllib3 function.\n",
    "\n",
    "import urllib3\n",
    "import gzip\n",
    "from io import BytesIO\n",
    "\n",
    "http = urllib3.PoolManager()\n",
    "\n",
    "url = 'https://example.com/compressed-data'\n",
    "\n",
    "try:\n",
    "    response = http.request('GET', url)\n",
    "\n",
    "    if 'gzip' in response.headers.get('content-encoding', ''):\n",
    "        compressed_data = BytesIO(response.data)\n",
    "        decompressed_data = gzip.GzipFile(fileobj=compressed_data).read()\n",
    "        print(\"Decompressed Content:\")\n",
    "        print(decompressed_data.decode('utf-8'))\n",
    "    else:\n",
    "        print(\"Response is not compressed.\")\n",
    "\n",
    "except Exception as e:\n",
    "    print(f\"Error: {e}\")"
   ]
  },
  {
   "cell_type": "markdown",
   "metadata": {},
   "source": [
    "# Metaprogramming"
   ]
  },
  {
   "cell_type": "code",
   "execution_count": 2,
   "metadata": {},
   "outputs": [
    {
     "name": "stdout",
     "output_type": "stream",
     "text": [
      "5\n",
      "5\n"
     ]
    }
   ],
   "source": [
    "# Write a Python function \"generate_complex_function\" that takes a function name, a list of parameter names, \n",
    "# and a body as strings, and returns a dynamically generated function.\n",
    "\n",
    "def generate_complex_function(name, params, body):\n",
    "    params_str = ', '.join(params)\n",
    "    \n",
    "    indented_body = body.replace('\\n', '\\n    ')\n",
    "    \n",
    "    func_code = f\"def {name}({params_str}):\\n    {indented_body}\"\n",
    "    \n",
    "    exec(func_code)\n",
    "    \n",
    "    return locals()[name]\n",
    "\n",
    "function_name = 'complex_function'\n",
    "parameters = ['x', 'y']\n",
    "function_body = \"\"\"\n",
    "if x > y:\n",
    "    return x - y\n",
    "else:\n",
    "    return y - x\n",
    "\"\"\"\n",
    "\n",
    "complex_func = generate_complex_function(function_name, parameters, function_body)\n",
    "\n",
    "print(complex_func(10, 5)) \n",
    "print(complex_func(5, 10))  "
   ]
  },
  {
   "cell_type": "markdown",
   "metadata": {},
   "source": [
    "# GeoPy"
   ]
  },
  {
   "cell_type": "code",
   "execution_count": 4,
   "metadata": {},
   "outputs": [
    {
     "name": "stdout",
     "output_type": "stream",
     "text": [
      "Distance between London and New York city (in km):\n",
      "5585.2335789313 kms\n"
     ]
    }
   ],
   "source": [
    "# Write a Python program to calculate the distance between London and New York city.\n",
    "\n",
    "from geopy import distance\n",
    "\n",
    "london = (\"51.5074° N, 0.1278° W\")\n",
    "newyork = (\"40.7128° N, 74.0060° W\")\n",
    "\n",
    "print(\"Distance between London and New York city (in km):\")\n",
    "print(distance.distance(london, newyork).km,\"kms\")"
   ]
  },
  {
   "cell_type": "markdown",
   "metadata": {},
   "source": [
    "# BeautifulSoup"
   ]
  },
  {
   "cell_type": "code",
   "execution_count": 7,
   "metadata": {},
   "outputs": [
    {
     "name": "stdout",
     "output_type": "stream",
     "text": [
      "Original markup:\n",
      "<a href=\"https://w3resource.com/\">Python exercises.<i>w3resource.com</i></a>\n",
      "\n",
      "After unwrapping:\n",
      "<a href=\"https://w3resource.com/\">Python exercises.w3resource.com</a>\n"
     ]
    }
   ],
   "source": [
    "# Write a Python program to replace a given tag with whatever's inside a given tag.\n",
    "\n",
    "from bs4 import BeautifulSoup\n",
    "\n",
    "markup = '<a href=\"https://w3resource.com/\">Python exercises.<i>w3resource.com</i></a>'\n",
    "\n",
    "soup = BeautifulSoup(markup, \"lxml\")\n",
    "\n",
    "a_tag = soup.a\n",
    "\n",
    "print(\"Original markup:\")\n",
    "print(a_tag)\n",
    "\n",
    "a_tag.i.unwrap()\n",
    "\n",
    "print(\"\\nAfter unwrapping:\")\n",
    "print(a_tag)"
   ]
  },
  {
   "cell_type": "markdown",
   "metadata": {},
   "source": [
    "# Arrow"
   ]
  },
  {
   "cell_type": "code",
   "execution_count": 8,
   "metadata": {},
   "outputs": [
    {
     "name": "stdout",
     "output_type": "stream",
     "text": [
      "Current datetime:\n",
      "2025-01-15T12:11:02.848263+00:00\n",
      "\n",
      "String representing the date, controlled by an explicit format string:\n",
      "15-01-2025 12:11:02\n",
      "2025-01-15 12:11:02\n",
      "2025-15-01 12:11:02\n"
     ]
    }
   ],
   "source": [
    "# Write a Python program to get hourly datetime between two hours.\n",
    "\n",
    "import arrow\n",
    "\n",
    "a = arrow.utcnow()\n",
    "\n",
    "print(\"Current datetime:\")\n",
    "print(a)\n",
    "\n",
    "print(\"\\nString representing the date, controlled by an explicit format string:\")\n",
    "print(arrow.utcnow().strftime('%d-%m-%Y %H:%M:%S'))\n",
    "print(arrow.utcnow().strftime('%Y-%m-%d %H:%M:%S'))\n",
    "print(arrow.utcnow().strftime('%Y-%d-%m %H:%M:%S'))"
   ]
  },
  {
   "cell_type": "markdown",
   "metadata": {},
   "source": [
    "# Web Scraping "
   ]
  },
  {
   "cell_type": "code",
   "execution_count": 9,
   "metadata": {},
   "outputs": [
    {
     "name": "stdout",
     "output_type": "stream",
     "text": [
      "<Response [200]>\n",
      "<Response [200]>\n"
     ]
    }
   ],
   "source": [
    "# Write a Python program to verifiy SSL certificates for HTTPS requests using requests module.\n",
    "\n",
    "import requests\n",
    "print(requests.get('https://w3resource.com'))\n",
    "print(requests.get('https://wayback.com'))"
   ]
  }
 ],
 "metadata": {
  "kernelspec": {
   "display_name": "base",
   "language": "python",
   "name": "python3"
  },
  "language_info": {
   "codemirror_mode": {
    "name": "ipython",
    "version": 3
   },
   "file_extension": ".py",
   "mimetype": "text/x-python",
   "name": "python",
   "nbconvert_exporter": "python",
   "pygments_lexer": "ipython3",
   "version": "3.12.7"
  }
 },
 "nbformat": 4,
 "nbformat_minor": 2
}

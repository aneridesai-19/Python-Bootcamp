{
 "cells": [
  {
   "cell_type": "markdown",
   "metadata": {},
   "source": [
    "# Pandas Basics"
   ]
  },
  {
   "cell_type": "code",
   "execution_count": 1,
   "metadata": {},
   "outputs": [
    {
     "name": "stdout",
     "output_type": "stream",
     "text": [
      "Original DataFrame:\n",
      "      W     X   Y   Z\n",
      "0  68.0  78.0  84  86\n",
      "1  75.0  75.0  94  97\n",
      "2  86.0   NaN  89  96\n",
      "3  80.0  80.0  86  72\n",
      "4   NaN  86.0  86  83\n",
      "\n",
      "Original Series:\n",
      "0    68.0\n",
      "1    75.0\n",
      "2    86.0\n",
      "3    80.0\n",
      "4     NaN\n",
      "dtype: float64\n",
      "\n",
      "Check for inequality of the said series & dataframe:\n",
      "       W      X     Y     Z\n",
      "0  False   True  True  True\n",
      "1  False  False  True  True\n",
      "2  False   True  True  True\n",
      "3  False  False  True  True\n",
      "4   True   True  True  True\n"
     ]
    }
   ],
   "source": [
    "# Write a Pandas program to check inequality over the index axis of a given dataframe and a given series.\n",
    "\n",
    "import pandas as pd\n",
    "\n",
    "df_data = pd.DataFrame({'W':[68,75,86,80,None],'X':[78,75,None,80,86], 'Y':[84,94,89,86,86],'Z':[86,97,96,72,83]})\n",
    "sr_data = pd.Series([68, 75, 86, 80, None]) \n",
    "\n",
    "print(\"Original DataFrame:\")\n",
    "print(df_data)\n",
    "\n",
    "print(\"\\nOriginal Series:\")\n",
    "print(sr_data)\n",
    "\n",
    "print(\"\\nCheck for inequality of the said series & dataframe:\")\n",
    "print(df_data.ne(sr_data, axis = 0))\n"
   ]
  },
  {
   "cell_type": "code",
   "execution_count": 4,
   "metadata": {},
   "outputs": [
    {
     "name": "stdout",
     "output_type": "stream",
     "text": [
      "Index of the first occurence of the smallest value: 7\n",
      "Index of the first occurence of the largest value: 1\n"
     ]
    }
   ],
   "source": [
    "# Write a Pandas program to find the index of the first occurrence of the smallest and largest value of a given series.\n",
    "\n",
    "nums = pd.Series([1, 88, 7, 12, 88, 23, 3, 0, 9, 0])\n",
    "\n",
    "print(\"Index of the first occurence of the smallest value:\",nums.idxmin())\n",
    "\n",
    "print(\"Index of the first occurence of the largest value:\",nums.idxmax())"
   ]
  },
  {
   "cell_type": "code",
   "execution_count": 6,
   "metadata": {},
   "outputs": [
    {
     "name": "stdout",
     "output_type": "stream",
     "text": [
      "Lowest n records within each group of a DataFrame:\n",
      "   col1  col2  col3\n",
      "0     1     4     7\n",
      "1     2     5     5\n",
      "2     3     6     8\n",
      "\n",
      "    col1  col2  col3\n",
      "5    11     0    11\n",
      "0     1     4     7\n",
      "\n",
      "    col1  col2  col3\n",
      "4     7     5     1\n",
      "1     2     5     5\n",
      "0     1     4     7\n",
      "2     3     6     8\n"
     ]
    }
   ],
   "source": [
    "# Write a Pandas program to get lowest n records within each group of a given DataFrame.\n",
    "\n",
    "d = {'col1': [1, 2, 3, 4, 7, 11], 'col2': [4, 5, 6, 9, 5, 0], 'col3': [7, 5, 8, 12, 1,11]}\n",
    "df = pd.DataFrame(data=d)\n",
    "\n",
    "print(\"Lowest n records within each group of a DataFrame:\")\n",
    "df1 = df.nsmallest(3, 'col1')\n",
    "print(df1)\n",
    "\n",
    "df2 = df.nsmallest(2, 'col2')\n",
    "print(\"\\n\",df2)\n",
    "\n",
    "df3 = df.nsmallest(4, 'col3')\n",
    "print(\"\\n\",df3)"
   ]
  },
  {
   "cell_type": "code",
   "execution_count": 7,
   "metadata": {},
   "outputs": [
    {
     "name": "stdout",
     "output_type": "stream",
     "text": [
      "Check for inequality of the said dataframes:\n",
      "       W      X      Y      Z\n",
      "0   True  False  False  False\n",
      "1  False  False   True  False\n",
      "2  False   True  False  False\n",
      "3  False  False  False  False\n",
      "4   True   True  False  False\n"
     ]
    }
   ],
   "source": [
    "# Write a Pandas program to check for inequality of two given DataFrames.\n",
    "\n",
    "df1 = pd.DataFrame({'W':[68,75,86,80,None],'X':[78,85,None,80,86], 'Y':[84,94,89,83,86],'Z':[86,97,96,72,83]})\n",
    "df2 = pd.DataFrame({'W':[78,75,86,80,None],'X':[78,85,96,80,76], 'Y':[84,84,89,83,86],'Z':[86,97,96,72,83]})\n",
    "\n",
    "print(\"Check for inequality of the said dataframes:\")\n",
    "print(df1.ne(df2))\n"
   ]
  },
  {
   "cell_type": "code",
   "execution_count": 13,
   "metadata": {},
   "outputs": [
    {
     "name": "stdout",
     "output_type": "stream",
     "text": [
      "Create MultiIndex on 'tcode' and 'school_code':\n",
      "                  class            name date_of_birth  weight\n",
      "tcode school_code                                            \n",
      "t1    s001            V  Alberto Franco    15/05/2002      35\n",
      "t2    s002            V    Gino Mcneill    17/05/2002      37\n",
      "t3    s003           VI     Ryan Parkes    16/02/1999      33\n",
      "t4    s001           VI    Eesha Hinton    25/09/1998      30\n",
      "t5    s002            V    Gino Mcneill    11/05/2002      31\n",
      "t6    s004           VI    David Parkes    15/09/1997      32\n",
      "\n",
      "\n",
      "Select rows(s) from 'tcode' column:\n",
      "                  class          name date_of_birth  weight\n",
      "tcode school_code                                          \n",
      "t2    s002            V  Gino Mcneill    17/05/2002      37\n",
      "\n",
      "\n",
      "Select rows(s) from 'school_code' column:\n",
      "                  class            name date_of_birth  weight\n",
      "tcode school_code                                            \n",
      "t1    s001            V  Alberto Franco    15/05/2002      35\n",
      "t4    s001           VI    Eesha Hinton    25/09/1998      30\n",
      "\n",
      "\n",
      "Select rows(s) from 'tcode' and 'scode' columns:\n",
      "                  class            name date_of_birth  weight\n",
      "tcode school_code                                            \n",
      "t1    s001            V  Alberto Franco    15/05/2002      35\n",
      "t4    s001           VI    Eesha Hinton    25/09/1998      30\n"
     ]
    }
   ],
   "source": [
    "# Write a Pandas program to select rows by filtering on one or more column(s) in a multi-index dataframe.\n",
    "\n",
    "df = pd.DataFrame({\n",
    "    'school_code': ['s001','s002','s003','s001','s002','s004'],\n",
    "    'class': ['V', 'V', 'VI', 'VI', 'V', 'VI'],\n",
    "    'name': ['Alberto Franco','Gino Mcneill','Ryan Parkes', 'Eesha Hinton', 'Gino Mcneill', 'David Parkes'],\n",
    "    'date_of_birth': ['15/05/2002','17/05/2002','16/02/1999','25/09/1998','11/05/2002','15/09/1997'],\n",
    "    'weight': [35, 37, 33, 30, 31, 32],\n",
    "    'tcode': ['t1', 't2', 't3', 't4', 't5', 't6']})    \n",
    "\n",
    "\n",
    "print(\"Create MultiIndex on 'tcode' and 'school_code':\")\n",
    "df = df.set_index(['tcode', 'school_code'])\n",
    "print(df)\n",
    "\n",
    "print(\"\\n\\nSelect rows(s) from 'tcode' column:\")\n",
    "print(df.query((\"tcode == 't2'\")))\n",
    "\n",
    "print(\"\\n\\nSelect rows(s) from 'school_code' column:\")\n",
    "print(df.query(\"school_code == 's001'\"))\n",
    "\n",
    "print(\"\\n\\nSelect rows(s) from 'tcode' and 'scode' columns:\")\n",
    "print(df.query((\"tcode == 't1'\") and (\"school_code == 's001'\")))\n"
   ]
  },
  {
   "cell_type": "code",
   "execution_count": 14,
   "metadata": {},
   "outputs": [
    {
     "name": "stdout",
     "output_type": "stream",
     "text": [
      "Original DataFrame:\n",
      "  school_code class            name date_of_birth  weight\n",
      "0        s001     V  Alberto Franco    15/05/2002      35\n",
      "1        s002     V    Gino Mcneill    17/05/2002      37\n",
      "2        s003    VI     Ryan Parkes    16/02/1999      33\n",
      "3        s001    VI    Eesha Hinton    25/09/1998      30\n",
      "4        s002     V    Gino Mcneill    11/05/2002      31\n",
      "5        s004    VI    David Parkes    15/09/1997      32\n",
      "\n",
      "Default Index Range:\n",
      "RangeIndex(start=0, stop=6, step=1)\n",
      "\n",
      "New Index Range:\n",
      "RangeIndex(start=10, stop=16, step=1)\n",
      "\n",
      "DataFrame with new index:\n",
      "   school_code class            name date_of_birth  weight\n",
      "10        s001     V  Alberto Franco    15/05/2002      35\n",
      "11        s002     V    Gino Mcneill    17/05/2002      37\n",
      "12        s003    VI     Ryan Parkes    16/02/1999      33\n",
      "13        s001    VI    Eesha Hinton    25/09/1998      30\n",
      "14        s002     V    Gino Mcneill    11/05/2002      31\n",
      "15        s004    VI    David Parkes    15/09/1997      32\n"
     ]
    }
   ],
   "source": [
    "# Write a  Pandas program to start index with different value rather than 0 in a given DataFrame.\n",
    "\n",
    "df = pd.DataFrame({\n",
    "    'school_code': ['s001','s002','s003','s001','s002','s004'],\n",
    "    'class': ['V', 'V', 'VI', 'VI', 'V', 'VI'],\n",
    "    'name': ['Alberto Franco','Gino Mcneill','Ryan Parkes', 'Eesha Hinton', 'Gino Mcneill', 'David Parkes'],\n",
    "    'date_of_birth': ['15/05/2002','17/05/2002','16/02/1999','25/09/1998','11/05/2002','15/09/1997'],\n",
    "    'weight': [35, 37, 33, 30, 31, 32]})\n",
    "     \n",
    "print(\"Original DataFrame:\")\n",
    "print(df)\n",
    "\n",
    "print(\"\\nDefault Index Range:\")\n",
    "print(df.index)\n",
    "\n",
    "df.index += 10 \n",
    "print(\"\\nNew Index Range:\")\n",
    "print(df.index)\n",
    "\n",
    "print(\"\\nDataFrame with new index:\")\n",
    "print(df)"
   ]
  },
  {
   "cell_type": "code",
   "execution_count": null,
   "metadata": {},
   "outputs": [],
   "source": []
  }
 ],
 "metadata": {
  "kernelspec": {
   "display_name": "base",
   "language": "python",
   "name": "python3"
  },
  "language_info": {
   "codemirror_mode": {
    "name": "ipython",
    "version": 3
   },
   "file_extension": ".py",
   "mimetype": "text/x-python",
   "name": "python",
   "nbconvert_exporter": "python",
   "pygments_lexer": "ipython3",
   "version": "3.12.7"
  }
 },
 "nbformat": 4,
 "nbformat_minor": 2
}

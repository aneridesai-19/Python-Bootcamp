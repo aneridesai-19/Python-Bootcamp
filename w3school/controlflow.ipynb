{
 "cells": [
  {
   "cell_type": "code",
   "execution_count": 11,
   "metadata": {},
   "outputs": [
    {
     "name": "stdout",
     "output_type": "stream",
     "text": [
      "(2024, 2, 29)\n"
     ]
    }
   ],
   "source": [
    "def next_date(year,month,date):\n",
    "    if year%400==0:\n",
    "        leap_year = True\n",
    "    elif year%100 == 0:\n",
    "        leap_year = False\n",
    "    elif year%4==0:\n",
    "        leap_year = True\n",
    "    else:\n",
    "        leap_year = False\n",
    "\n",
    "    if month in (1,3,5,7,8,10,12):\n",
    "        month_days = 31\n",
    "    elif month==2:\n",
    "        if leap_year:\n",
    "            month_days=29\n",
    "        else:\n",
    "            month_days=28\n",
    "    else:\n",
    "        month_days = 30\n",
    "    \n",
    "    if date<month_days:\n",
    "        date+=1\n",
    "    elif date == month_days:\n",
    "        if month==12:\n",
    "            date=1\n",
    "            month=1\n",
    "            year+=1\n",
    "        else:\n",
    "            date=1\n",
    "            month+=1\n",
    "    else: \n",
    "        return \"Invalid date\"\n",
    "    return (year,month,date)\n",
    "\n",
    "print(next_date(2024,2,28))\n"
   ]
  },
  {
   "cell_type": "code",
   "execution_count": 28,
   "metadata": {},
   "outputs": [
    {
     "name": "stdout",
     "output_type": "stream",
     "text": [
      "* \n",
      "\n",
      "* * \n",
      "\n",
      "* * * \n",
      "\n",
      "* * * * \n",
      "\n",
      "* * * * * \n",
      "\n",
      "* * * * \n",
      "\n",
      "* * * \n",
      "\n",
      "* * \n",
      "\n",
      "* \n",
      "\n"
     ]
    }
   ],
   "source": [
    "# Write a Python program to construct the following pattern, using a nested for loop.\n",
    "\n",
    "# * \n",
    "# * * \n",
    "# * * * \n",
    "# * * * * \n",
    "# * * * * * \n",
    "# * * * * \n",
    "# * * * \n",
    "# * * \n",
    "# *\n",
    "\n",
    "n = 5\n",
    "\n",
    "for i in range(1,n+1):\n",
    "    for j in range(1,i+1):\n",
    "        print(\"*\",end=\" \")\n",
    "    print(\"\\n\")\n",
    "\n",
    "m=n-1\n",
    "while m>0:\n",
    "    l=1\n",
    "    while l<=m:\n",
    "        print(\"*\",end=\" \")\n",
    "        l+=1\n",
    "    print(\"\\n\")\n",
    "    m-=1"
   ]
  }
 ],
 "metadata": {
  "kernelspec": {
   "display_name": "base",
   "language": "python",
   "name": "python3"
  },
  "language_info": {
   "codemirror_mode": {
    "name": "ipython",
    "version": 3
   },
   "file_extension": ".py",
   "mimetype": "text/x-python",
   "name": "python",
   "nbconvert_exporter": "python",
   "pygments_lexer": "ipython3",
   "version": "3.12.7"
  }
 },
 "nbformat": 4,
 "nbformat_minor": 2
}

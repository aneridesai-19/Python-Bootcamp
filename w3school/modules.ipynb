{
 "cells": [
  {
   "cell_type": "markdown",
   "metadata": {},
   "source": [
    "# Built-in modules"
   ]
  },
  {
   "cell_type": "code",
   "execution_count": 1,
   "metadata": {},
   "outputs": [
    {
     "name": "stdout",
     "output_type": "stream",
     "text": [
      "Original:  {'a': 1, 'b': 2, 'cc': {'c': 3}}\n",
      "\n",
      "Deep copy: {'a': 1, 'b': 2, 'cc': {'c': 3}}\n",
      "\n",
      "Updated original dictionary: {'a': 1, 'b': 2, 'cc': {'c': 10}}\n",
      "\n",
      "Deep copy: {'a': 1, 'b': 2, 'cc': {'c': 3}}\n"
     ]
    }
   ],
   "source": [
    "#  Write a Python program to create a deep copy of a given dictionary. Use copy.copy\n",
    "\n",
    "import copy\n",
    "\n",
    "nums_x = {\"a\":1, \"b\":2, 'cc':{\"c\":3}}\n",
    "print(\"Original: \", nums_x)\n",
    "\n",
    "nums_y = copy.deepcopy(nums_x)\n",
    "print(\"\\nDeep copy:\",nums_y)\n",
    "\n",
    "nums_x[\"cc\"][\"c\"] = 10\n",
    "print(\"\\nUpdated original dictionary:\",nums_x)\n",
    "\n",
    "print(\"\\nDeep copy:\",nums_y)"
   ]
  },
  {
   "cell_type": "code",
   "execution_count": 2,
   "metadata": {},
   "outputs": [
    {
     "name": "stdout",
     "output_type": "stream",
     "text": [
      "Configure the rounding to round up:\n",
      "8\n",
      "\n",
      "Configure the rounding to round down:\n",
      "7.5\n",
      "\n",
      "Configure the rounding to round up:\n",
      "8.33\n",
      "\n",
      "Configure the rounding to round down:\n",
      "8.32\n"
     ]
    }
   ],
   "source": [
    "# Write a Python program to configure rounding to round up and round down a given decimal value. Use decimal.Decimal\n",
    "\n",
    "import decimal\n",
    "\n",
    "print(\"Configure the rounding to round up:\")\n",
    "decimal.getcontext().prec = 1\n",
    "decimal.getcontext().rounding = decimal.ROUND_UP\n",
    "print(decimal.Decimal(30) / decimal.Decimal(4))\n",
    "\n",
    "print(\"\\nConfigure the rounding to round down:\")\n",
    "decimal.getcontext().prec = 3\n",
    "decimal.getcontext().rounding = decimal.ROUND_DOWN\n",
    "print(decimal.Decimal(30) / decimal.Decimal(4))\n",
    "\n",
    "print(\"\\nConfigure the rounding to round up:\")\n",
    "print(decimal.Decimal('8.325').quantize(decimal.Decimal('.01'), rounding=decimal.ROUND_UP))\n",
    "\n",
    "print(\"\\nConfigure the rounding to round down:\")\n",
    "print(decimal.Decimal('8.325').quantize(decimal.Decimal('.01'), rounding=decimal.ROUND_DOWN))\n"
   ]
  },
  {
   "cell_type": "markdown",
   "metadata": {},
   "source": [
    "# Operating system service"
   ]
  },
  {
   "cell_type": "code",
   "execution_count": 6,
   "metadata": {},
   "outputs": [
    {
     "name": "stdout",
     "output_type": "stream",
     "text": [
      "Directory 'test' created successfully.\n",
      "The directory 'test' is empty.\n",
      "Directory 'test' renamed to 'new_test' successfully.\n",
      "The directory 'new_test' is empty.\n",
      "Directory 'new_test' deleted successfully.\n"
     ]
    }
   ],
   "source": [
    "# Directory Management with os Module\n",
    "\n",
    "import os\n",
    "\n",
    "def create(directory_name):\n",
    "    try:\n",
    "        os.mkdir(directory_name)\n",
    "        print(f\"Directory '{directory_name}' created successfully.\")\n",
    "    except FileExistsError:\n",
    "        print(f\"Error: The directory '{directory_name}' already exists.\")\n",
    "    except Exception as e:\n",
    "        print(f\"Error creating directory: {e}\")\n",
    "\n",
    "def list_contents(directory_name):\n",
    "    try:\n",
    "        files = os.listdir(directory_name)\n",
    "        if files:\n",
    "            print(f\"Contents of '{directory_name}':\")\n",
    "            for file in files:\n",
    "                print(f\"- {file}\")\n",
    "        else:\n",
    "            print(f\"The directory '{directory_name}' is empty.\")\n",
    "    except FileNotFoundError:\n",
    "        print(f\"Error: The directory '{directory_name}' does not exist.\")\n",
    "    except Exception as e:\n",
    "        print(f\"Error listing contents of directory: {e}\")\n",
    "\n",
    "def rename_dir(old_name, new_name):\n",
    "    try:\n",
    "        os.rename(old_name, new_name)\n",
    "        print(f\"Directory '{old_name}' renamed to '{new_name}' successfully.\")\n",
    "    except FileNotFoundError:\n",
    "        print(f\"Error: The directory '{old_name}' does not exist.\")\n",
    "    except FileExistsError:\n",
    "        print(f\"Error: The directory '{new_name}' already exists.\")\n",
    "    except Exception as e:\n",
    "        print(f\"Error renaming directory: {e}\")\n",
    "\n",
    "def delete_dir(directory_name):\n",
    "    try:\n",
    "        os.rmdir(directory_name)\n",
    "        print(f\"Directory '{directory_name}' deleted successfully.\")\n",
    "    except FileNotFoundError:\n",
    "        print(f\"Error: The directory '{directory_name}' does not exist.\")\n",
    "    except OSError:\n",
    "        print(f\"Error: The directory '{directory_name}' is not empty.\")\n",
    "    except Exception as e:\n",
    "        print(f\"Error deleting directory: {e}\")\n",
    "\n",
    "create(\"test\")  \n",
    "list_contents(\"test\")   \n",
    "rename_dir(\"test\", \"new_test\")  \n",
    "list_contents(\"new_test\")\n",
    "delete_dir(\"new_test\") "
   ]
  },
  {
   "cell_type": "markdown",
   "metadata": {},
   "source": [
    "# Math"
   ]
  },
  {
   "cell_type": "code",
   "execution_count": 7,
   "metadata": {},
   "outputs": [
    {
     "data": {
      "text/plain": [
       "(5421, 1245)"
      ]
     },
     "execution_count": 7,
     "metadata": {},
     "output_type": "execute_result"
    }
   ],
   "source": [
    "# Write a Python program that takes an integer and rearranges the digits to create two maximum and minimum numbers.\n",
    "\n",
    "n = 1425\n",
    "\n",
    "def test(n):\n",
    "    temp=[]\n",
    "    for i in str(n):\n",
    "        temp.append(i)\n",
    "    max_val = \"\".join(sorted(temp)[::-1])\n",
    "    min_val = \"\".join(sorted(temp))\n",
    "    return int(max_val),int(min_val)\n",
    "\n",
    "test(n)"
   ]
  },
  {
   "cell_type": "markdown",
   "metadata": {},
   "source": [
    "# Requests"
   ]
  },
  {
   "cell_type": "code",
   "execution_count": 9,
   "metadata": {},
   "outputs": [
    {
     "name": "stdout",
     "output_type": "stream",
     "text": [
      "parameters:  {'key1': 'val1', 'key2': ['val2', 'val3']}\n",
      "https://httpbin.org/get?key1=val1&key2=val2&key2=val3\n"
     ]
    }
   ],
   "source": [
    "# Write a Python program to send some sort of data in the URL's query string.\n",
    "\n",
    "import requests\n",
    "\n",
    "dict = {\"key1\":\"val1\",\"key2\":[\"val2\",\"val3\"]}\n",
    "print(\"parameters: \",dict)\n",
    "\n",
    "ans = requests.get(\"https://httpbin.org/get\",params=dict)\n",
    "print(ans.url)"
   ]
  },
  {
   "cell_type": "code",
   "execution_count": 12,
   "metadata": {},
   "outputs": [
    {
     "name": "stdout",
     "output_type": "stream",
     "text": [
      "{\n",
      "  \"cookies\": {\n",
      "    \"cookies_are\": \"This is my personal cookies.\"\n",
      "  }\n",
      "}\n",
      "\n"
     ]
    }
   ],
   "source": [
    "# Write a Python program to send cookies to a given server and access cookies from the response of a server.\n",
    "\n",
    "import requests\n",
    "\n",
    "url =\"http://httpbin.org/cookies\"\n",
    "\n",
    "my_cookies = {\"cookies_are\":\"This is my personal cookies.\"}\n",
    "result = requests.get(url,cookies=my_cookies)\n",
    "print(result.text)"
   ]
  },
  {
   "cell_type": "markdown",
   "metadata": {},
   "source": [
    "# SQLite Database"
   ]
  },
  {
   "cell_type": "code",
   "execution_count": 13,
   "metadata": {},
   "outputs": [
    {
     "name": "stdout",
     "output_type": "stream",
     "text": [
      "Employee in the database:\n",
      "(1, 'Aneri Desai', 20)\n",
      "(2, 'Vatsal Chauhan', 21)\n",
      "(3, 'Vraj Desai', 21)\n",
      "\n",
      "Updated employee in the database:\n",
      "(1, 'Aneri Desai', 20)\n",
      "(2, 'Vatsal Chauhan', 22)\n"
     ]
    }
   ],
   "source": [
    "# Basic SQLite3 Operations in Python\n",
    "\n",
    "import sqlite3\n",
    "\n",
    "conn = sqlite3.connect('employee.db')\n",
    "cursor = conn.cursor()\n",
    "\n",
    "cursor.execute('''\n",
    "CREATE TABLE IF NOT EXISTS employee (\n",
    "    id INTEGER PRIMARY KEY,\n",
    "    name TEXT NOT NULL,\n",
    "    age INTEGER\n",
    ")\n",
    "''')\n",
    "\n",
    "cursor.execute(\"INSERT INTO employee (name, age) VALUES ('Aneri Desai', 20)\")\n",
    "cursor.execute(\"INSERT INTO employee (name, age) VALUES ('Vatsal Chauhan', 21)\")\n",
    "cursor.execute(\"INSERT INTO employee (name, age) VALUES ('Vraj Desai', 21)\")\n",
    "\n",
    "conn.commit()\n",
    "\n",
    "cursor.execute(\"SELECT * FROM employee\")\n",
    "employee = cursor.fetchall()\n",
    "\n",
    "print(\"Employee in the database:\")\n",
    "for employe in employee:\n",
    "    print(employe)\n",
    "\n",
    "cursor.execute(\"UPDATE employee SET age = 22 WHERE name = 'Vatsal Chauhan'\")\n",
    "\n",
    "conn.commit()\n",
    "\n",
    "cursor.execute(\"DELETE FROM employee WHERE name = 'Vraj Desai'\")\n",
    "\n",
    "conn.commit()\n",
    "\n",
    "cursor.execute(\"SELECT * FROM employee\")\n",
    "updated_employee = cursor.fetchall()\n",
    "\n",
    "print(\"\\nUpdated employee in the database:\")\n",
    "for employe in updated_employee:\n",
    "    print(employe)\n",
    "\n",
    "conn.close()\n"
   ]
  },
  {
   "cell_type": "code",
   "execution_count": null,
   "metadata": {},
   "outputs": [],
   "source": []
  }
 ],
 "metadata": {
  "kernelspec": {
   "display_name": "base",
   "language": "python",
   "name": "python3"
  },
  "language_info": {
   "codemirror_mode": {
    "name": "ipython",
    "version": 3
   },
   "file_extension": ".py",
   "mimetype": "text/x-python",
   "name": "python",
   "nbconvert_exporter": "python",
   "pygments_lexer": "ipython3",
   "version": "3.12.7"
  }
 },
 "nbformat": 4,
 "nbformat_minor": 2
}

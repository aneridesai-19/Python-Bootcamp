{
 "cells": [
  {
   "cell_type": "code",
   "execution_count": 1,
   "metadata": {},
   "outputs": [
    {
     "name": "stdout",
     "output_type": "stream",
     "text": [
      "Value     10  15  20  25  30  35  40  45  50  55\n",
      "Category                                        \n",
      "A          1   0   1   0   0   1   0   0   0   1\n",
      "B          0   1   0   1   0   0   0   0   1   0\n",
      "C          0   0   0   0   1   0   1   1   0   0\n"
     ]
    }
   ],
   "source": [
    "# Perform a cross-tabulation between two columns in a DataFrame.\n",
    "\n",
    "import pandas as pd\n",
    "\n",
    "data = {'Category': ['A', 'B', 'A', 'B', 'C', 'A', 'C', 'C', 'B', 'A'],\n",
    "        'Value': [10, 15, 20, 25, 30, 35, 40, 45, 50, 55]}\n",
    "\n",
    "df = pd.DataFrame(data)\n",
    "\n",
    "ans = pd.crosstab(df['Category'],df['Value'])\n",
    "\n",
    "print(ans)"
   ]
  },
  {
   "cell_type": "code",
   "execution_count": 4,
   "metadata": {},
   "outputs": [
    {
     "name": "stdout",
     "output_type": "stream",
     "text": [
      "Original DataFrame:\n",
      "   Value  Rolling_Mean\n",
      "0     10           NaN\n",
      "1     15           NaN\n",
      "2     20          15.0\n",
      "3     25          20.0\n",
      "4     30          25.0\n",
      "5     35          30.0\n",
      "6     40          35.0\n",
      "7     45          40.0\n",
      "8     50          45.0\n"
     ]
    }
   ],
   "source": [
    "# Perform a rolling calculation on a numerical column in a DataFrame.\n",
    "\n",
    "data = {'Value': [10, 15, 20, 25, 30, 35, 40, 45, 50]}\n",
    "df = pd.DataFrame(data)\n",
    "\n",
    "rolling_mean = df['Value'].rolling(window=3).mean()\n",
    "\n",
    "df['Rolling_Mean'] = rolling_mean\n",
    "\n",
    "print(\"Original DataFrame:\")\n",
    "print(df)"
   ]
  },
  {
   "cell_type": "code",
   "execution_count": 5,
   "metadata": {},
   "outputs": [
    {
     "name": "stdout",
     "output_type": "stream",
     "text": [
      "Original DataFrame:\n",
      "            Value\n",
      "2012-01-01     10\n",
      "2012-01-02     15\n",
      "2012-01-03     20\n",
      "2012-01-04     25\n",
      "2012-01-05     30\n",
      "2012-01-06     35\n",
      "2012-01-07     40\n",
      "2012-01-08     45\n",
      "2012-01-09     50\n",
      "2012-01-10     55\n",
      "\n",
      "Resampled DataFrame:\n",
      "            Value\n",
      "2012-01-01   10.0\n",
      "2012-01-08   30.0\n",
      "2012-01-15   52.5\n"
     ]
    }
   ],
   "source": [
    "# Resample time-series data in a DataFrame.\n",
    "\n",
    "date_rng = pd.date_range(start='2012-01-01', end='2012-01-10', freq='D')\n",
    "data = {'Value': [10, 15, 20, 25, 30, 35, 40, 45, 50, 55]}\n",
    "df = pd.DataFrame(data, index=date_rng)\n",
    "\n",
    "resampled_df = df.resample('W').mean()\n",
    "\n",
    "print(\"Original DataFrame:\")\n",
    "print(df)\n",
    "print(\"\\nResampled DataFrame:\")\n",
    "print(resampled_df)\n"
   ]
  },
  {
   "cell_type": "code",
   "execution_count": null,
   "metadata": {},
   "outputs": [],
   "source": []
  }
 ],
 "metadata": {
  "kernelspec": {
   "display_name": "base",
   "language": "python",
   "name": "python3"
  },
  "language_info": {
   "codemirror_mode": {
    "name": "ipython",
    "version": 3
   },
   "file_extension": ".py",
   "mimetype": "text/x-python",
   "name": "python",
   "nbconvert_exporter": "python",
   "pygments_lexer": "ipython3",
   "version": "3.12.7"
  }
 },
 "nbformat": 4,
 "nbformat_minor": 2
}

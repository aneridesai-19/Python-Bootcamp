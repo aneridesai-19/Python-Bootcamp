{
 "cells": [
  {
   "cell_type": "markdown",
   "metadata": {},
   "source": [
    "# Date Time"
   ]
  },
  {
   "cell_type": "code",
   "execution_count": 12,
   "metadata": {},
   "outputs": [
    {
     "name": "stdout",
     "output_type": "stream",
     "text": [
      "Time 1: time.struct_time(tm_year=2020, tm_mon=1, tm_mday=22, tm_hour=0, tm_min=0, tm_sec=0, tm_wday=2, tm_yday=22, tm_isdst=-1)\n",
      "\n",
      "Time 2: time.struct_time(tm_year=2000, tm_mon=11, tm_mday=30, tm_hour=0, tm_min=0, tm_sec=0, tm_wday=3, tm_yday=335, tm_isdst=-1)\n",
      "\n",
      "Time 3: time.struct_time(tm_year=2015, tm_mon=11, tm_mday=4, tm_hour=11, tm_min=55, tm_sec=23, tm_wday=2, tm_yday=308, tm_isdst=-1)\n",
      "\n",
      "Time 4: time.struct_time(tm_year=2019, tm_mon=11, tm_mday=12, tm_hour=0, tm_min=0, tm_sec=0, tm_wday=1, tm_yday=316, tm_isdst=-1)\n",
      "\n",
      "Time 5: time.struct_time(tm_year=1900, tm_mon=1, tm_mday=1, tm_hour=13, tm_min=55, tm_sec=26, tm_wday=0, tm_yday=1, tm_isdst=-1)\n"
     ]
    }
   ],
   "source": [
    "# Write a Python program to parse a string representing time and return the time structure.\n",
    "# Sample Output:\n",
    "# String representing time: 22 January, 2020\n",
    "# time.struct_time(tm_year=2020, tm_mon=1, tm_mday=22, tm_hour=0, tm_min=0, tm_sec=0, tm_wday=2, tm_yday=22, tm_isdst=-1)\n",
    "# String representing time: 30 Nov 00\n",
    "# time.struct_time(tm_year=2000, tm_mon=11, tm_mday=30, tm_hour=0, tm_min=0, tm_sec=0, tm_wday=3, tm_yday=335, tm_isdst=-1)\n",
    "# String representing time: 04/11/15 11:55:23\n",
    "# time.struct_time(tm_year=2015, tm_mon=4, tm_mday=11, tm_hour=11, tm_min=55, tm_sec=23, tm_wday=5, tm_yday=101, tm_isdst=-1)\n",
    "# String representing time: 12-11-2019\n",
    "# time.struct_time(tm_year=2019, tm_mon=12, tm_mday=11, tm_hour=0, tm_min=0, tm_sec=0, tm_wday=2, tm_yday=345, tm_isdst=-1)\n",
    "# String representing time: 13::55::26\n",
    "# time.struct_time(tm_year=1900, tm_mon=1, tm_mday=1, tm_hour=13, tm_min=55, tm_sec=26, tm_wday=0, tm_yday=1, tm_isdst=-1)\n",
    "import time\n",
    "\n",
    "time_str1 = \"22 January, 2020\"\n",
    "r1 = time.strptime(time_str1,\"%d %B, %Y\")\n",
    "print(\"Time 1:\",r1)\n",
    "\n",
    "time_str2 = \"30 Nov 00\"\n",
    "r2 = time.strptime(time_str2,\"%d %b %y\")\n",
    "print(\"\\nTime 2:\",r2)\n",
    "\n",
    "time_str3 = \"04/11/15 11:55:23\"\n",
    "r3 = time.strptime(time_str3,\"%d/%m/%y %H:%M:%S\")\n",
    "print(\"\\nTime 3:\",r3)\n",
    "\n",
    "time_str4 = \"12-11-2019\"\n",
    "r4 = time.strptime(time_str4,\"%d-%m-%Y\")\n",
    "print(\"\\nTime 4:\",r4)\n",
    "\n",
    "time_str5 = \"13::55::26\"\n",
    "r5 = time.strptime(time_str5,\"%H::%M::%S\")\n",
    "print(\"\\nTime 5:\",r5)"
   ]
  },
  {
   "cell_type": "code",
   "execution_count": 15,
   "metadata": {},
   "outputs": [
    {
     "name": "stdout",
     "output_type": "stream",
     "text": [
      "Sun Jan 22 02:34:06 2020\n",
      "Tue Nov 12 02:54:08 1982\n"
     ]
    }
   ],
   "source": [
    "# Write a Python program that takes a tuple containing 9 elements corresponding to structure time as an argument and returns a string representing it.\n",
    "# Sample Output:\n",
    "# Result: Sun Jan 22 02:34:06 2020\n",
    "# Result: Tue Nov 12 02:54:08 1982\n",
    "\n",
    "import time\n",
    "\n",
    "tup1 = (2020,1,22,2,34,6,6,0,0)\n",
    "print(time.asctime(tup1))\n",
    "\n",
    "tup2 = (1982,11,12,2,54,8,1,0,0)\n",
    "print(time.asctime(tup2))"
   ]
  },
  {
   "cell_type": "markdown",
   "metadata": {},
   "source": [
    "# Pendulum"
   ]
  },
  {
   "cell_type": "code",
   "execution_count": 29,
   "metadata": {},
   "outputs": [
    {
     "name": "stdout",
     "output_type": "stream",
     "text": [
      "Remaining time = 10 sec\n",
      "Remaining time = 7 sec\n",
      "Remaining time = 5 sec\n",
      "Remaining time = 3 sec\n",
      "Remaining time = 1 sec\n",
      "Remaining time = 0 sec\n",
      "\n",
      "Countdown ended.\n"
     ]
    }
   ],
   "source": [
    "# Write a Python program that creates a countdown timer that prints the remaining time \n",
    "# in seconds every second until reaching zero using Pendulum module.\n",
    "\n",
    "import time\n",
    "import pendulum\n",
    "\n",
    "def countdown(end_time):\n",
    "    while True:\n",
    "        current_time = pendulum.now()\n",
    "        remaining_time = end_time.diff(current_time)\n",
    "\n",
    "        remaining_seconds = int(remaining_time.total_seconds())\n",
    "\n",
    "        print(f\"Remaining time = {remaining_seconds} sec\")\n",
    "\n",
    "        if remaining_seconds <= 0:\n",
    "            break\n",
    "\n",
    "        time.sleep(2)\n",
    "\n",
    "    print(\"\\nCountdown ended.\")\n",
    "\n",
    "end_time = pendulum.now().add(seconds=10)\n",
    "\n",
    "countdown(end_time)\n"
   ]
  },
  {
   "cell_type": "code",
   "execution_count": 33,
   "metadata": {},
   "outputs": [
    {
     "name": "stdout",
     "output_type": "stream",
     "text": [
      "Travel time is 1 day 21 hours 30 minutes\n"
     ]
    }
   ],
   "source": [
    "# Write a Python program to calculate and print the travel time between two given dates and times them using Pendulum module.\n",
    "\n",
    "import pendulum\n",
    "\n",
    "def travel_time(start_date,end_date):\n",
    "    time_diff = start_date.diff(end_date)\n",
    "\n",
    "    print(\"Travel time is\",time_diff.in_words())\n",
    "\n",
    "sdate = \"2025-01-08 15:00:00\"\n",
    "edate = \"2025-01-10 12:30:00\"\n",
    "\n",
    "start_date = pendulum.parse(sdate)\n",
    "end_date = pendulum.parse(edate)\n",
    "travel_time(start_date,end_date)"
   ]
  }
 ],
 "metadata": {
  "kernelspec": {
   "display_name": "base",
   "language": "python",
   "name": "python3"
  },
  "language_info": {
   "codemirror_mode": {
    "name": "ipython",
    "version": 3
   },
   "file_extension": ".py",
   "mimetype": "text/x-python",
   "name": "python",
   "nbconvert_exporter": "python",
   "pygments_lexer": "ipython3",
   "version": "3.12.7"
  }
 },
 "nbformat": 4,
 "nbformat_minor": 2
}

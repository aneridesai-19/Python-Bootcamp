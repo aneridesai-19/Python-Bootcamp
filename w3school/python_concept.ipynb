{
 "cells": [
  {
   "cell_type": "markdown",
   "metadata": {},
   "source": [
    "# Unit Test"
   ]
  },
  {
   "cell_type": "code",
   "execution_count": 6,
   "metadata": {},
   "outputs": [
    {
     "name": "stderr",
     "output_type": "stream",
     "text": [
      ".\n",
      "----------------------------------------------------------------------\n",
      "Ran 1 test in 0.018s\n",
      "\n",
      "OK\n"
     ]
    }
   ],
   "source": [
    "# Write a Python unit test program to check if a database query returns the expected results.\n",
    "\n",
    "import unittest\n",
    "import sqlite3\n",
    "\n",
    "class TestQuery(unittest.TestCase):\n",
    "    def setUp(self):\n",
    "        self.conn = sqlite3.connect(\":memory:\")\n",
    "        self.cursor = self.conn.cursor()\n",
    "        self.cursor.execute(\"CREATE TABLE employees (id INTEGER PRIMARY KEY, name TEXT, salary REAL)\")\n",
    "        self.cursor.execute(\"INSERT INTO employees (name, salary) VALUES ('Priyanshu', 80000)\")\n",
    "        self.cursor.execute(\"INSERT INTO employees (name, salary) VALUES ('Aneri', 100000)\")\n",
    "        self.conn.commit()\n",
    "    \n",
    "    def tearDown(self):\n",
    "        self.cursor.close()\n",
    "        self.conn.close()\n",
    "\n",
    "    def test_query(self):\n",
    "        self.cursor.execute(\"SELECT name, salary FROM employees ORDER BY name\")\n",
    "        result = self.cursor.fetchall()\n",
    "        expected_result = [(\"Aneri\",100000),(\"Priyanshu\",80000)]\n",
    "\n",
    "        self.assertEqual(result,expected_result)\n",
    "\n",
    "if __name__==\"__main__\":\n",
    "    unittest.main(argv=[\"\"],exit=False)"
   ]
  },
  {
   "cell_type": "code",
   "execution_count": 14,
   "metadata": {},
   "outputs": [
    {
     "name": "stderr",
     "output_type": "stream",
     "text": [
      "..\n",
      "----------------------------------------------------------------------\n",
      "Ran 2 tests in 0.003s\n",
      "\n",
      "OK\n"
     ]
    }
   ],
   "source": [
    "# Write a Python unit test program to check if a function correctly parses and validates input data.\n",
    "\n",
    "import unittest\n",
    "\n",
    "def parse_validate(data):\n",
    "    if isinstance(data,str) and data.isnumeric():\n",
    "        return int(data)>0\n",
    "    return False\n",
    "\n",
    "class TestInput(unittest.TestCase):\n",
    "    def test_valid(self):\n",
    "        data = \"10\"\n",
    "        result = parse_validate(data)\n",
    "        self.assertTrue(result)\n",
    "    \n",
    "    def test_invalid(self):\n",
    "        data= \"0\"\n",
    "        result = parse_validate(data)\n",
    "        self.assertFalse(result)\n",
    "if __name__==\"__main__\":\n",
    "    unittest.main(argv=[\"\"],defaultTest=\"TestInput\",exit=False)"
   ]
  },
  {
   "cell_type": "markdown",
   "metadata": {},
   "source": [
    "# Exception Handling"
   ]
  },
  {
   "cell_type": "code",
   "execution_count": 16,
   "metadata": {},
   "outputs": [
    {
     "name": "stdout",
     "output_type": "stream",
     "text": [
      "Error: encoding issue occured while reading the file.\n"
     ]
    }
   ],
   "source": [
    "#  Write a Python program that opens a file and handles a UnicodeDecodeError exception if there is an encoding issue.\n",
    "\n",
    "def open_file(filename):\n",
    "    encoding = input(\"Input encoding (ASCII, UTF-16, UTF-8) for file: \")\n",
    "    try:\n",
    "        with open(filename,'r',encoding=encoding) as file:\n",
    "            text = file.read()\n",
    "            print(\"File content:\")\n",
    "            print(text)\n",
    "    except UnicodeDecodeError:\n",
    "        print(\"Error: encoding issue occured while reading the file.\")\n",
    "\n",
    "filename = input(\"Enter a file name: \")\n",
    "open_file(filename)\n"
   ]
  },
  {
   "cell_type": "code",
   "execution_count": 21,
   "metadata": {},
   "outputs": [
    {
     "name": "stdout",
     "output_type": "stream",
     "text": [
      "Error: List doesn't have a 'length' attribute.\n"
     ]
    }
   ],
   "source": [
    "# Write a Python program that executes a list operation and handles an AttributeError exception if the attribute does not exist.\n",
    "\n",
    "def test_list(lst):\n",
    "    try:\n",
    "        r = lst.length()\n",
    "        print(\"Length of list is\",r)\n",
    "    except AttributeError:\n",
    "        print(\"Error: List doesn't have a 'length' attribute.\")\n",
    "\n",
    "lst = [1,2,3,4,5]\n",
    "test_list(lst)"
   ]
  },
  {
   "cell_type": "markdown",
   "metadata": {},
   "source": [
    "# OOP"
   ]
  },
  {
   "cell_type": "code",
   "execution_count": 25,
   "metadata": {},
   "outputs": [
    {
     "name": "stdout",
     "output_type": "stream",
     "text": [
      "Current queue : [10, 20, 30]\n",
      "Dequeued items is: 10\n",
      "Dequeued items is: 20\n",
      "Is queue empty?? False\n",
      "Dequeued items is: 30\n",
      "Is queue empty?? True\n"
     ]
    }
   ],
   "source": [
    "# Write a Python program to create a class representing a queue data structure. \n",
    "# Include methods for enqueueing and dequeueing elements.\n",
    "\n",
    "class Queue:\n",
    "    def __init__(self):\n",
    "        self.items = []\n",
    "\n",
    "    def enqueue(self,item):\n",
    "        self.items.append(item)\n",
    "    \n",
    "    def dequeue(self):\n",
    "        if len(self.items) != 0:\n",
    "            return self.items.pop(0)\n",
    "        else:\n",
    "            raise IndexError(\"Can't dequeue from an empty queue.\")\n",
    "        \n",
    "    def isEmpty(self):\n",
    "        return len(self.items)==0\n",
    "    \n",
    "q = Queue()\n",
    "q.enqueue(10)\n",
    "q.enqueue(20)\n",
    "q.enqueue(30)\n",
    "print(\"Current queue :\",q.items)\n",
    "a=q.dequeue()\n",
    "print(\"Dequeued items is:\",a)\n",
    "a=q.dequeue()\n",
    "print(\"Dequeued items is:\",a)\n",
    "b = q.isEmpty()\n",
    "print(\"Is queue empty??\",b)\n",
    "a=q.dequeue()\n",
    "print(\"Dequeued items is:\",a)\n",
    "b = q.isEmpty()\n",
    "print(\"Is queue empty??\",b)"
   ]
  },
  {
   "cell_type": "code",
   "execution_count": 26,
   "metadata": {},
   "outputs": [
    {
     "name": "stdout",
     "output_type": "stream",
     "text": [
      "New a/c No.:  147 Deposit Amount: 1000\n",
      "Account created successfully.\n",
      "\n",
      "Deposit Rs. 600 to A/c No. 147\n",
      "Deposit successful.\n",
      "A/c. No. 147\n",
      "Account balance: 1600\n",
      "Withdraw Rs. 1200 From A/c No. 147\n",
      "Withdrawal successful.\n",
      "Balance of acc num: 147\n",
      "Account balance: 400\n",
      "A/c. No. 258\n",
      "Account number does not exist.\n"
     ]
    }
   ],
   "source": [
    "# Write a Python program to create a class representing a bank. \n",
    "# Include methods for managing customer accounts and transactions.\n",
    "\n",
    "class Bank:\n",
    "    def __init__(self):\n",
    "        self.customers = {}\n",
    "\n",
    "    def create_account(self, acc_num, balance=0):\n",
    "        if acc_num in self.customers:\n",
    "            print(\"Account number already exists.\")\n",
    "        else:\n",
    "            self.customers[acc_num] = balance\n",
    "            print(\"Account created successfully.\")\n",
    "\n",
    "    def deposit(self, acc_num, amount):\n",
    "        if acc_num in self.customers:\n",
    "            self.customers[acc_num] += amount\n",
    "            print(\"Deposit successful.\")\n",
    "        else:\n",
    "            print(\"Account number does not exist.\")\n",
    "\n",
    "    def withdrawal(self, acc_num, amount):\n",
    "        if acc_num in self.customers:\n",
    "            if self.customers[acc_num] >= amount:\n",
    "                self.customers[acc_num] -= amount\n",
    "                print(\"Withdrawal successful.\")\n",
    "            else:\n",
    "                print(\"Insufficient funds.\")\n",
    "        else:\n",
    "            print(\"Account number does not exist.\")\n",
    "\n",
    "    def check_balance(self, acc_num):\n",
    "        if acc_num in self.customers:\n",
    "            balance = self.customers[acc_num]\n",
    "            print(f\"Account balance: {balance}\")\n",
    "        else:\n",
    "            print(\"Account number does not exist.\")\n",
    "\n",
    "bank = Bank()\n",
    "\n",
    "acno= 147\n",
    "bal = 1000\n",
    "print(\"New a/c No.: \",acno,\"Deposit Amount:\",bal)\n",
    "bank.create_account(acno, bal)\n",
    "\n",
    "dep = 600\n",
    "print(\"\\nDeposit Rs.\",dep,\"to A/c No.\",acno)\n",
    "bank.deposit(acno, dep)\n",
    "\n",
    "print(\"A/c. No.\",acno)\n",
    "bank.check_balance(acno)\n",
    "\n",
    "withdraw = 1200\n",
    "print(\"Withdraw Rs.\",withdraw,\"From A/c No.\",acno)\n",
    "bank.withdrawal(acno, withdraw)\n",
    "\n",
    "print(\"Balance of acc num:\",acno)\n",
    "bank.check_balance(acno)\n",
    "\n",
    "acno3 = 258\n",
    "print(\"A/c. No.\",acno3)\n",
    "bank.check_balance(acno3)  # Non-existent account number \n"
   ]
  },
  {
   "cell_type": "markdown",
   "metadata": {},
   "source": [
    "# Decorator"
   ]
  },
  {
   "cell_type": "code",
   "execution_count": 34,
   "metadata": {},
   "outputs": [
    {
     "name": "stdout",
     "output_type": "stream",
     "text": [
      "Check 1:\n",
      "Result: 35\n",
      "\n",
      "\n",
      "Check 2:\n"
     ]
    },
    {
     "ename": "TypeError",
     "evalue": "Argument 'x' must be of type 'int'",
     "output_type": "error",
     "traceback": [
      "\u001b[1;31m---------------------------------------------------------------------------\u001b[0m",
      "\u001b[1;31mTypeError\u001b[0m                                 Traceback (most recent call last)",
      "Cell \u001b[1;32mIn[34], line 25\u001b[0m\n\u001b[0;32m     23\u001b[0m \u001b[38;5;28mprint\u001b[39m(\u001b[38;5;124m\"\u001b[39m\u001b[38;5;124mResult:\u001b[39m\u001b[38;5;124m\"\u001b[39m, result)\n\u001b[0;32m     24\u001b[0m \u001b[38;5;28mprint\u001b[39m(\u001b[38;5;124m\"\u001b[39m\u001b[38;5;130;01m\\n\u001b[39;00m\u001b[38;5;130;01m\\n\u001b[39;00m\u001b[38;5;124mCheck 2:\u001b[39m\u001b[38;5;124m\"\u001b[39m)\n\u001b[1;32m---> 25\u001b[0m result \u001b[38;5;241m=\u001b[39m multiply_numbers(\u001b[38;5;124m\"\u001b[39m\u001b[38;5;124m5\u001b[39m\u001b[38;5;124m\"\u001b[39m, \u001b[38;5;241m7\u001b[39m)\n",
      "Cell \u001b[1;32mIn[34], line 13\u001b[0m, in \u001b[0;36menforce_type_checking.<locals>.wrapper\u001b[1;34m(*args, **kwargs)\u001b[0m\n\u001b[0;32m     11\u001b[0m     param_type \u001b[38;5;241m=\u001b[39m parameters[param_name]\u001b[38;5;241m.\u001b[39mannotation\n\u001b[0;32m     12\u001b[0m     \u001b[38;5;28;01mif\u001b[39;00m \u001b[38;5;129;01mnot\u001b[39;00m \u001b[38;5;28misinstance\u001b[39m(arg, param_type):\n\u001b[1;32m---> 13\u001b[0m         \u001b[38;5;28;01mraise\u001b[39;00m \u001b[38;5;167;01mTypeError\u001b[39;00m(\u001b[38;5;124mf\u001b[39m\u001b[38;5;124m\"\u001b[39m\u001b[38;5;124mArgument \u001b[39m\u001b[38;5;124m'\u001b[39m\u001b[38;5;132;01m{\u001b[39;00mparam_name\u001b[38;5;132;01m}\u001b[39;00m\u001b[38;5;124m'\u001b[39m\u001b[38;5;124m must be of type \u001b[39m\u001b[38;5;124m'\u001b[39m\u001b[38;5;132;01m{\u001b[39;00mparam_type\u001b[38;5;241m.\u001b[39m\u001b[38;5;18m__name__\u001b[39m\u001b[38;5;132;01m}\u001b[39;00m\u001b[38;5;124m'\u001b[39m\u001b[38;5;124m\"\u001b[39m)\n\u001b[0;32m     15\u001b[0m \u001b[38;5;28;01mreturn\u001b[39;00m func(\u001b[38;5;241m*\u001b[39margs, \u001b[38;5;241m*\u001b[39m\u001b[38;5;241m*\u001b[39mkwargs)\n",
      "\u001b[1;31mTypeError\u001b[0m: Argument 'x' must be of type 'int'"
     ]
    }
   ],
   "source": [
    "# Write a Python program that implements a decorator to enforce type checking on the arguments of a function.\n",
    "\n",
    "import inspect\n",
    "def enforce_type_checking(func):\n",
    "    def wrapper(*args, **kwargs):\n",
    "        signature = inspect.signature(func)\n",
    "        parameters = signature.parameters\n",
    "\n",
    "        for i, arg in enumerate(args):\n",
    "            param_name = list(parameters.keys())[i]\n",
    "            param_type = parameters[param_name].annotation\n",
    "            if not isinstance(arg, param_type):\n",
    "                raise TypeError(f\"Argument '{param_name}' must be of type '{param_type.__name__}'\")\n",
    "\n",
    "        return func(*args, **kwargs)\n",
    "    return wrapper\n",
    "\n",
    "@enforce_type_checking\n",
    "def multiply_numbers(x: int, y: int) -> int:\n",
    "    return x * y\n",
    "print(\"Check 1:\")\n",
    "result = multiply_numbers(5, 7)  \n",
    "print(\"Result:\", result)\n",
    "print(\"\\n\\nCheck 2:\")\n",
    "result = multiply_numbers(\"5\", 7)  \n"
   ]
  }
 ],
 "metadata": {
  "kernelspec": {
   "display_name": "base",
   "language": "python",
   "name": "python3"
  },
  "language_info": {
   "codemirror_mode": {
    "name": "ipython",
    "version": 3
   },
   "file_extension": ".py",
   "mimetype": "text/x-python",
   "name": "python",
   "nbconvert_exporter": "python",
   "pygments_lexer": "ipython3",
   "version": "3.12.7"
  }
 },
 "nbformat": 4,
 "nbformat_minor": 2
}

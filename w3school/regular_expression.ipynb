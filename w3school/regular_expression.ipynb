{
 "cells": [
  {
   "cell_type": "markdown",
   "metadata": {},
   "source": [
    "# regular expression"
   ]
  },
  {
   "cell_type": "code",
   "execution_count": 3,
   "metadata": {},
   "outputs": [
    {
     "name": "stdout",
     "output_type": "stream",
     "text": [
      "True\n"
     ]
    }
   ],
   "source": [
    "# Write a Python program that takes a string with some words. For two consecutive words in the said string, \n",
    "# check whether the first word ends with a vowel and the next word begins with a vowel. \n",
    "# If the program meets the condition, return true, otherwise false. Only one space is allowed between the words.\n",
    "# Sample Data:\n",
    "# (\"These exercises can be used for practice.\") -> True\n",
    "# (\"Following exercises should be removed for practice.\") -> False\n",
    "# (\"I use these stories in my classroom.\") -> True\n",
    "\n",
    "import re\n",
    "\n",
    "text = \"I use these stories in my classroom.\"\n",
    "pattern = r\"[AaEeIiOoUu] [AaEeIiOoUu]\"\n",
    "\n",
    "result = bool(re.findall(pattern,text))\n",
    "print(result)"
   ]
  },
  {
   "cell_type": "code",
   "execution_count": 8,
   "metadata": {},
   "outputs": [
    {
     "name": "stdout",
     "output_type": "stream",
     "text": [
      "True\n"
     ]
    }
   ],
   "source": [
    "# Write a Python program that checks whether a word starts and ends with a vowel in a given string. \n",
    "# Return true if a word matches the condition; otherwise, return false.\n",
    "# Sample Data:\n",
    "# (\"Red Orange White\") -> True\n",
    "# (\"Red White Black\") -> False\n",
    "# (\"abcd dkise eosksu\") -> True\n",
    "\n",
    "text = \"abcd dkise eosksu\"\n",
    "pattern =r'\\b[AaEeIiOoUu]\\w*[AaEeIiOoUu]\\b'\n",
    "\n",
    "result = bool(re.findall(pattern,text))\n",
    "print(result)"
   ]
  },
  {
   "cell_type": "code",
   "execution_count": null,
   "metadata": {},
   "outputs": [],
   "source": []
  }
 ],
 "metadata": {
  "kernelspec": {
   "display_name": "base",
   "language": "python",
   "name": "python3"
  },
  "language_info": {
   "codemirror_mode": {
    "name": "ipython",
    "version": 3
   },
   "file_extension": ".py",
   "mimetype": "text/x-python",
   "name": "python",
   "nbconvert_exporter": "python",
   "pygments_lexer": "ipython3",
   "version": "3.12.7"
  }
 },
 "nbformat": 4,
 "nbformat_minor": 2
}

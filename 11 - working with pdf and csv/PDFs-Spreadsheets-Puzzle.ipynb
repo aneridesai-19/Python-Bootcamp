{
 "cells": [
  {
   "cell_type": "markdown",
   "metadata": {},
   "source": [
    "# PDFs and Spreadsheets Puzzle Exercise\n",
    "\n",
    "Let's test your skills, the files needed for this puzzle exercise\n",
    "\n",
    "You will need to work with two files for this exercise and solve the following tasks:\n",
    "\n",
    "* Task One: Use Python to extract the Google Drive link from the .csv file. (Hint: Its along the diagonal from top left to bottom right).\n",
    "* Task Two: Download the PDF from the Google Drive link (we already downloaded it for you just in case you can't download from Google Drive) and find the phone number that is in the document. Note: There are different ways of formatting a phone number!"
   ]
  },
  {
   "cell_type": "markdown",
   "metadata": {},
   "source": [
    "## Task One: Grab the Google Drive Link from .csv File"
   ]
  },
  {
   "cell_type": "code",
   "execution_count": 2,
   "metadata": {
    "collapsed": true
   },
   "outputs": [
    {
     "data": {
      "text/plain": [
       "'https://drive.google.com/open?id=1G6SEgg018UB4_4xsAJJ5TdzrhmXipr4Q'"
      ]
     },
     "execution_count": 2,
     "metadata": {},
     "output_type": "execute_result"
    }
   ],
   "source": [
    "import csv\n",
    "\n",
    "file = open('Exercise_Files/find_the_link.csv',encoding='utf-8')\n",
    "data = csv.reader(file)\n",
    "data_line = list(data)\n",
    "\n",
    "link =\"\"\n",
    "for i,j in enumerate(data_line):\n",
    "    link += j[i]\n",
    "\n",
    "link"
   ]
  },
  {
   "cell_type": "markdown",
   "metadata": {},
   "source": [
    "## Task Two: Download the PDF from the Google Drive link and find the phone number that is in the document. "
   ]
  },
  {
   "cell_type": "code",
   "execution_count": 16,
   "metadata": {
    "collapsed": true
   },
   "outputs": [
    {
     "data": {
      "text/plain": [
       "17"
      ]
     },
     "execution_count": 16,
     "metadata": {},
     "output_type": "execute_result"
    }
   ],
   "source": [
    "import PyPDF2\n",
    "file = open('Exercise_Files/Find_the_Phone_Number.pdf','rb')\n",
    "pdf = PyPDF2.PdfReader(file)\n",
    "len(pdf.pages)"
   ]
  },
  {
   "cell_type": "code",
   "execution_count": 23,
   "metadata": {},
   "outputs": [],
   "source": [
    "import re\n",
    "pattern = r'\\d{3}'\n",
    "text=''\n",
    "for i in range(len(pdf.pages)):\n",
    "    page = pdf.pages[i]\n",
    "    page_text = page.extract_text()\n",
    "    text+=page_text"
   ]
  },
  {
   "cell_type": "code",
   "execution_count": 27,
   "metadata": {},
   "outputs": [
    {
     "name": "stdout",
     "output_type": "stream",
     "text": [
      "<re.Match object; span=(649, 652), match='000'>\n",
      "<re.Match object; span=(18264, 18267), match='000'>\n",
      "<re.Match object; span=(35878, 35881), match='000'>\n",
      "<re.Match object; span=(42905, 42908), match='505'>\n",
      "<re.Match object; span=(42909, 42912), match='503'>\n",
      "<re.Match object; span=(42913, 42916), match='445'>\n"
     ]
    }
   ],
   "source": [
    "for match in re.finditer(pattern,text):\n",
    "    print(match)"
   ]
  },
  {
   "cell_type": "code",
   "execution_count": 33,
   "metadata": {},
   "outputs": [
    {
     "name": "stdout",
     "output_type": "stream",
     "text": [
      "505.503.4455. So hor\n"
     ]
    }
   ],
   "source": [
    "print(text[42905:42925])"
   ]
  },
  {
   "cell_type": "code",
   "execution_count": 34,
   "metadata": {},
   "outputs": [
    {
     "name": "stdout",
     "output_type": "stream",
     "text": [
      "505.503.4455\n"
     ]
    }
   ],
   "source": [
    "pattern=r'\\d{3}.\\d{3}.\\d{4}'\n",
    "text=''\n",
    "for i in range(len(pdf.pages)):\n",
    "    page = pdf.pages[i]\n",
    "    page_text = page.extract_text()\n",
    "    text+=page_text\n",
    "for match in re.finditer(pattern,text):\n",
    "    print(match.group())"
   ]
  }
 ],
 "metadata": {
  "anaconda-cloud": {},
  "kernelspec": {
   "display_name": "base",
   "language": "python",
   "name": "python3"
  },
  "language_info": {
   "codemirror_mode": {
    "name": "ipython",
    "version": 3
   },
   "file_extension": ".py",
   "mimetype": "text/x-python",
   "name": "python",
   "nbconvert_exporter": "python",
   "pygments_lexer": "ipython3",
   "version": "3.12.7"
  }
 },
 "nbformat": 4,
 "nbformat_minor": 2
}

{
 "cells": [
  {
   "cell_type": "markdown",
   "metadata": {},
   "source": [
    "### Convert class object to JSON"
   ]
  },
  {
   "cell_type": "code",
   "execution_count": 1,
   "metadata": {},
   "outputs": [
    {
     "name": "stdout",
     "output_type": "stream",
     "text": [
      "{\"roll_no\": \"24\", \"name\": \"Aneri\", \"batch\": \"2021\"}\n",
      "{\"roll_no\": \"9\", \"name\": \"Vatsal\", \"batch\": \"2020\"}\n",
      "{\"brand\": \"Honda\", \"name\": \"city\"}\n",
      "{\"brand\": \"Tata\", \"name\": \"Amaze\"}\n"
     ]
    }
   ],
   "source": [
    "import json \n",
    "\n",
    "class Student: \n",
    "    def __init__(self, roll_no, name, batch): \n",
    "        self.roll_no = roll_no \n",
    "        self.name = name \n",
    "        self.batch = batch \n",
    "  \n",
    "  \n",
    "class Car: \n",
    "    def __init__(self, brand, name): \n",
    "        self.brand = brand \n",
    "        self.name = name \n",
    "\n",
    "if __name__ == \"__main__\": \n",
    "    \n",
    "    s1 = Student(\"24\", \"Aneri\", \"2021\") \n",
    "    s2 = Student(\"9\", \"Vatsal\", \"2020\") \n",
    "  \n",
    "    c1 = Car(\"Honda\", \"city\") \n",
    "    c2 = Car(\"Tata\", \"Amaze\") \n",
    "  \n",
    "    jsonstr1 = json.dumps(s1.__dict__) \n",
    "    jsonstr2 = json.dumps(s2.__dict__) \n",
    "    jsonstr3 = json.dumps(c1.__dict__) \n",
    "    jsonstr4 = json.dumps(c2.__dict__) \n",
    "  \n",
    "    print(jsonstr1) \n",
    "    print(jsonstr2) \n",
    "    print(jsonstr3) \n",
    "    print(jsonstr4) "
   ]
  },
  {
   "cell_type": "markdown",
   "metadata": {},
   "source": [
    "### Convert JSON data Into a Custom Python Object"
   ]
  },
  {
   "cell_type": "code",
   "execution_count": 2,
   "metadata": {},
   "outputs": [
    {
     "name": "stdout",
     "output_type": "stream",
     "text": [
      "Aneri 24 Mumbai\n"
     ]
    }
   ],
   "source": [
    "import json\n",
    "from collections import namedtuple\n",
    "\n",
    "data = '{\"name\" : \"Aneri\", \"id\" : 24, \"location\" : \"Mumbai\"}'\n",
    "\n",
    "x = json.loads(data, object_hook =\n",
    "\t\t\tlambda d : namedtuple('X', d.keys())\n",
    "\t\t\t(*d.values()))\n",
    "\n",
    "print(x.name, x.id, x.location)\n"
   ]
  },
  {
   "cell_type": "markdown",
   "metadata": {},
   "source": [
    "### Flattening JSON objects in Python"
   ]
  },
  {
   "cell_type": "code",
   "execution_count": 3,
   "metadata": {},
   "outputs": [
    {
     "name": "stdout",
     "output_type": "stream",
     "text": [
      "{'user_Aneri_UserID': 11111111, 'user_Aneri_Email': 'aneridesai@gmail.com', 'user_Aneri_friends_0': 'Vatsal', 'user_Aneri_friends_1': 'Vraj'}\n"
     ]
    }
   ],
   "source": [
    "from flatten_json import flatten\n",
    "\n",
    "unflat_json = {'user':\n",
    "\t\t\t{'Aneri':\n",
    "\t\t\t\t{'UserID': 11111111,\n",
    "\t\t\t\t'Email': 'aneridesai@gmail.com',\n",
    "\t\t\t\t'friends': ['Vatsal', 'Vraj']\n",
    "\t\t\t\t}\n",
    "\t\t\t\t}\n",
    "\t\t\t}\n",
    "\n",
    "flat_json = flatten(unflat_json)\n",
    "\n",
    "print(flat_json)\n"
   ]
  },
  {
   "cell_type": "code",
   "execution_count": null,
   "metadata": {},
   "outputs": [],
   "source": []
  }
 ],
 "metadata": {
  "kernelspec": {
   "display_name": "base",
   "language": "python",
   "name": "python3"
  },
  "language_info": {
   "codemirror_mode": {
    "name": "ipython",
    "version": 3
   },
   "file_extension": ".py",
   "mimetype": "text/x-python",
   "name": "python",
   "nbconvert_exporter": "python",
   "pygments_lexer": "ipython3",
   "version": "3.12.7"
  }
 },
 "nbformat": 4,
 "nbformat_minor": 2
}

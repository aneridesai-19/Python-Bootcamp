{
 "cells": [
  {
   "cell_type": "markdown",
   "metadata": {},
   "source": [
    "### find Indices of Overlapping Substrings"
   ]
  },
  {
   "cell_type": "code",
   "execution_count": 3,
   "metadata": {},
   "outputs": [
    {
     "name": "stdout",
     "output_type": "stream",
     "text": [
      "[0, 8]\n"
     ]
    }
   ],
   "source": [
    "import re\n",
    "\n",
    "def find_pattern_indices_with_regex(string, pattern):\n",
    "    indices = [] \n",
    "    start = 0 \n",
    "    \n",
    "    while True:\n",
    "        match = re.search(pattern, string[start:])\n",
    "        \n",
    "        if match:\n",
    "            indices.append(start + match.start())\n",
    "            start += match.start() + 1\n",
    "        else:\n",
    "            break \n",
    "\n",
    "    return indices\n",
    "\n",
    "string = \"geeksforgeeksforgeeks\"\n",
    "pattern = \"geeksforgeeks\"\n",
    "result = find_pattern_indices_with_regex(string, pattern)\n",
    "\n",
    "print(result)\n"
   ]
  },
  {
   "cell_type": "markdown",
   "metadata": {},
   "source": [
    "### extract Strings between HTML Tags"
   ]
  },
  {
   "cell_type": "code",
   "execution_count": 8,
   "metadata": {},
   "outputs": [
    {
     "name": "stdout",
     "output_type": "stream",
     "text": [
      "['Gfg', 'Best', 'Reading CS']\n"
     ]
    }
   ],
   "source": [
    "import re\n",
    " \n",
    "test_str = '<h1>Gfg</h1> is <h1>Best</h1> I love <h1>Reading CS</h1>’'\n",
    "\n",
    "tag = \"h1\"\n",
    "\n",
    "reg_str = \"<\" + tag + \">(.*?)</\" + tag + \">\"\n",
    "res = re.findall(reg_str, test_str)\n",
    "\n",
    "print(res)"
   ]
  },
  {
   "cell_type": "markdown",
   "metadata": {},
   "source": [
    "### Check if String Contain Only Defined Characters using Regex"
   ]
  },
  {
   "cell_type": "code",
   "execution_count": 14,
   "metadata": {},
   "outputs": [
    {
     "name": "stdout",
     "output_type": "stream",
     "text": [
      "Valid\n",
      "Invalid\n"
     ]
    }
   ],
   "source": [
    "import re\n",
    "def search(str,pattern):\n",
    "    if re.search(pattern,str):\n",
    "        print(\"Valid\")\n",
    "    else:\n",
    "        print(\"Invalid\")\n",
    "pattern=r'^[1234]+$'\n",
    "search('24',pattern)\n",
    "search('18',pattern)"
   ]
  },
  {
   "cell_type": "markdown",
   "metadata": {},
   "source": [
    "### find files having a particular extension using RegEx"
   ]
  },
  {
   "cell_type": "code",
   "execution_count": 17,
   "metadata": {},
   "outputs": [
    {
     "name": "stdout",
     "output_type": "stream",
     "text": [
      "abc.png\n",
      "efg.png\n"
     ]
    }
   ],
   "source": [
    "import re\n",
    "\n",
    "files = ['abc.png','pqr.html','xyz.pdf','efg.png','mno.word']\n",
    "pattern = r'\\.png$'\n",
    "\n",
    "for file in files:\n",
    "    a = re.search(pattern,file)\n",
    "    if a:\n",
    "        print(file)"
   ]
  },
  {
   "cell_type": "code",
   "execution_count": null,
   "metadata": {},
   "outputs": [],
   "source": []
  }
 ],
 "metadata": {
  "kernelspec": {
   "display_name": "base",
   "language": "python",
   "name": "python3"
  },
  "language_info": {
   "codemirror_mode": {
    "name": "ipython",
    "version": 3
   },
   "file_extension": ".py",
   "mimetype": "text/x-python",
   "name": "python",
   "nbconvert_exporter": "python",
   "pygments_lexer": "ipython3",
   "version": "3.12.7"
  }
 },
 "nbformat": 4,
 "nbformat_minor": 2
}

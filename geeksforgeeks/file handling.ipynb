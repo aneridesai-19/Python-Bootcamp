{
 "cells": [
  {
   "cell_type": "markdown",
   "metadata": {},
   "source": [
    "### Read content from one file and write it into another file"
   ]
  },
  {
   "cell_type": "code",
   "execution_count": 2,
   "metadata": {},
   "outputs": [],
   "source": [
    "with open('input.txt','r') as input:\n",
    "    with open('output.txt','w') as output:\n",
    "        for line in input:\n",
    "            output.write(line)\n",
    "output.close()"
   ]
  },
  {
   "cell_type": "markdown",
   "metadata": {},
   "source": [
    "### Write a dictionary to a file in Python"
   ]
  },
  {
   "cell_type": "code",
   "execution_count": 5,
   "metadata": {},
   "outputs": [],
   "source": [
    "dict ={'Name':'Aneri', 'Age':20, 'Degree': 'BTech', 'Domain':'AI/ML'}\n",
    "\n",
    "with open('dict_file.txt','w') as dict_file:\n",
    "    for key,val in dict.items():\n",
    "        dict_file.write(f'{key}:{val} \\n')\n",
    "\n",
    "dict_file.close()"
   ]
  },
  {
   "cell_type": "markdown",
   "metadata": {},
   "source": [
    "### check file size"
   ]
  },
  {
   "cell_type": "code",
   "execution_count": 6,
   "metadata": {},
   "outputs": [
    {
     "name": "stdout",
     "output_type": "stream",
     "text": [
      "52\n"
     ]
    }
   ],
   "source": [
    "import os\n",
    "\n",
    "sz = os.path.getsize('dict_file.txt')\n",
    "\n",
    "print(sz)"
   ]
  },
  {
   "cell_type": "markdown",
   "metadata": {},
   "source": [
    "### Find the most repeated word in a text file"
   ]
  },
  {
   "cell_type": "code",
   "execution_count": 23,
   "metadata": {},
   "outputs": [
    {
     "name": "stdout",
     "output_type": "stream",
     "text": [
      "Most repeated word: good\n",
      "Frequency: 4\n"
     ]
    }
   ],
   "source": [
    "file = open('gfg.txt','r')\n",
    "\n",
    "freq = 0\n",
    "freq_word = \"\" \n",
    "words=[]\n",
    "\n",
    "for line in file:\n",
    "    text = line.lower().replace(',',\"\").replace('.',\"\").split(\" \")\n",
    "    for word in text:\n",
    "        words.append(word)\n",
    "\n",
    "for i in range(len(words)):\n",
    "    count=1\n",
    "    for j in range(i+1,len(words)):\n",
    "        if words[i]==words[j]:\n",
    "            count+=1\n",
    "\n",
    "    if count==freq:\n",
    "        freq_word+=\",\"+words[i]\n",
    "    if count>freq:\n",
    "        freq=count\n",
    "        freq_word = words[i]\n",
    "print(\"Most repeated word: \" + freq_word)\n",
    "print(\"Frequency: \" + str(freq))\n",
    "file.close()"
   ]
  },
  {
   "cell_type": "markdown",
   "metadata": {},
   "source": [
    "### read specific lines from a File"
   ]
  },
  {
   "cell_type": "code",
   "execution_count": 28,
   "metadata": {},
   "outputs": [
    {
     "name": "stdout",
     "output_type": "stream",
     "text": [
      "['This is line 1.\\n', 'This is line 2.\\n', 'This is line 3.\\n', 'This is line 4.\\n', 'This is line 5.\\n'] \n",
      "\n"
     ]
    }
   ],
   "source": [
    "file = open('line.txt','r')\n",
    "\n",
    "text = file.readlines()\n",
    "\n",
    "print(text[0:5])"
   ]
  },
  {
   "cell_type": "code",
   "execution_count": null,
   "metadata": {},
   "outputs": [],
   "source": []
  }
 ],
 "metadata": {
  "kernelspec": {
   "display_name": "base",
   "language": "python",
   "name": "python3"
  },
  "language_info": {
   "codemirror_mode": {
    "name": "ipython",
    "version": 3
   },
   "file_extension": ".py",
   "mimetype": "text/x-python",
   "name": "python",
   "nbconvert_exporter": "python",
   "pygments_lexer": "ipython3",
   "version": "3.12.7"
  }
 },
 "nbformat": 4,
 "nbformat_minor": 2
}

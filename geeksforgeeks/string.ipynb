{
 "cells": [
  {
   "cell_type": "markdown",
   "metadata": {},
   "source": [
    "### Reverse Words in a Given String"
   ]
  },
  {
   "cell_type": "code",
   "execution_count": 4,
   "metadata": {},
   "outputs": [
    {
     "name": "stdout",
     "output_type": "stream",
     "text": [
      "aneri is name my\n"
     ]
    }
   ],
   "source": [
    "'''\n",
    "Input : str =\" geeks quiz practice code\"\n",
    "Output : str = code practice quiz geeks  \n",
    "Input : str = \"my name is laxmi\"\n",
    "output : str= laxmi is name my \n",
    "'''\n",
    "\n",
    "text = input(\"Enter a string:\")\n",
    "l = text.split(\" \")\n",
    "l=l[::-1]\n",
    "r = \" \".join(l)\n",
    "print(r)"
   ]
  },
  {
   "cell_type": "markdown",
   "metadata": {},
   "source": [
    "### print even length words in a string"
   ]
  },
  {
   "cell_type": "code",
   "execution_count": 5,
   "metadata": {},
   "outputs": [
    {
     "name": "stdout",
     "output_type": "stream",
     "text": [
      "am\n"
     ]
    }
   ],
   "source": [
    "'''\n",
    "Input: s = \"This is a python language\"\n",
    "Output: This is python language\n",
    "\n",
    "Input: s = \"i am laxmi\"\n",
    "Output: am\n",
    "'''\n",
    "text = input(\"Enter a string:\")\n",
    "l = text.split(\" \")\n",
    "s=[]\n",
    "for i in l:\n",
    "    if len(i)%2==0:\n",
    "        s.append(i)\n",
    "r = \" \".join(s)\n",
    "print(r)"
   ]
  },
  {
   "cell_type": "markdown",
   "metadata": {},
   "source": [
    "### Remove Letters From a String"
   ]
  },
  {
   "cell_type": "code",
   "execution_count": 6,
   "metadata": {},
   "outputs": [
    {
     "name": "stdout",
     "output_type": "stream",
     "text": [
      "Heo Word\n"
     ]
    }
   ],
   "source": [
    "#remove 'l' from 'hello world' \n",
    "s = \"Hello World\"\n",
    "print(s.replace('l',''))"
   ]
  },
  {
   "cell_type": "markdown",
   "metadata": {},
   "source": [
    "### check whether the string is Symmetrical or Palindrome"
   ]
  },
  {
   "cell_type": "code",
   "execution_count": 8,
   "metadata": {},
   "outputs": [
    {
     "name": "stdout",
     "output_type": "stream",
     "text": [
      "It is symmetrical.\n",
      "It is palindrome.\n"
     ]
    }
   ],
   "source": [
    "text = input(\"Enter a string: \")\n",
    "a = len(text) //2\n",
    "t1 = text[:a]\n",
    "t2= text[a:]\n",
    "if t1==t1:\n",
    "    print(\"It is symmetrical.\")\n",
    "else:\n",
    "    print(\"It is not symmetrical.\")\n",
    "\n",
    "lst = list(text)\n",
    "lst = lst[::-1]\n",
    "res = \"\".join(lst)\n",
    "if res == text:\n",
    "    print(\"It is palindrome.\")\n",
    "else:\n",
    "    print(\"It is not palindrome\")"
   ]
  },
  {
   "cell_type": "code",
   "execution_count": null,
   "metadata": {},
   "outputs": [],
   "source": []
  }
 ],
 "metadata": {
  "kernelspec": {
   "display_name": "base",
   "language": "python",
   "name": "python3"
  },
  "language_info": {
   "codemirror_mode": {
    "name": "ipython",
    "version": 3
   },
   "file_extension": ".py",
   "mimetype": "text/x-python",
   "name": "python",
   "nbconvert_exporter": "python",
   "pygments_lexer": "ipython3",
   "version": "3.12.7"
  }
 },
 "nbformat": 4,
 "nbformat_minor": 2
}

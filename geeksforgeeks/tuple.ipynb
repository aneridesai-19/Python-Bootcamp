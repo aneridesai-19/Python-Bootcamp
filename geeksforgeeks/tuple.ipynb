{
 "cells": [
  {
   "cell_type": "markdown",
   "metadata": {},
   "source": [
    "### Maximum and Minimum K elements in Tuple"
   ]
  },
  {
   "cell_type": "code",
   "execution_count": 3,
   "metadata": {},
   "outputs": [
    {
     "name": "stdout",
     "output_type": "stream",
     "text": [
      "(1, 3, 9, 18)\n"
     ]
    }
   ],
   "source": [
    "'''\n",
    "Input : test_tup = (3, 7, 1, 18, 9), k = 2 \n",
    "Output : (3, 1, 9, 18)\n",
    "\n",
    "\n",
    "Input : test_tup = (3, 7, 1), k=1 \n",
    "Output : (1, 7) \n",
    "'''\n",
    "\n",
    "test_tup = (3,7,1,18,9)\n",
    "k = 2\n",
    "lst=list(sorted(test_tup))\n",
    "l1=lst[:k] + lst[-k:]\n",
    "tup = tuple(l1)\n",
    "print(tup)"
   ]
  },
  {
   "cell_type": "markdown",
   "metadata": {},
   "source": [
    "### Sum of tuple elements"
   ]
  },
  {
   "cell_type": "code",
   "execution_count": 4,
   "metadata": {},
   "outputs": [
    {
     "data": {
      "text/plain": [
       "38"
      ]
     },
     "execution_count": 4,
     "metadata": {},
     "output_type": "execute_result"
    }
   ],
   "source": [
    "def sum(tup):\n",
    "    count=0\n",
    "    for i in tup:\n",
    "        count+=i\n",
    "    return count\n",
    "tup = (3,7,1,18,9)\n",
    "sum(tup)"
   ]
  },
  {
   "cell_type": "markdown",
   "metadata": {},
   "source": [
    "### Row-wise element Addition in Tuple Matrix"
   ]
  },
  {
   "cell_type": "code",
   "execution_count": 14,
   "metadata": {},
   "outputs": [
    {
     "name": "stdout",
     "output_type": "stream",
     "text": [
      "[[('Gfg', 3, 1)], [('best', 1, 2)]]\n"
     ]
    }
   ],
   "source": [
    "'''\n",
    "Input : test_list = [[(‘Gfg’, 3)], [(‘best’, 1)]] cus_eles = [1, 2] \n",
    "Output : [[(‘Gfg’, 3, 1)], [(‘best’, 1, 2)]] \n",
    "\n",
    "\n",
    "Input : test_list = [[(‘Gfg’, 6), (‘Gfg’, 3)]] cus_eles = [7] \n",
    "Output : [[(‘Gfg’, 6, 7), (‘Gfg’, 3, 7)]]\n",
    "\n",
    "\n",
    "'''\n",
    "test_list = [[('Gfg', 3)], [('best', 1)]] \n",
    "cus_eles = [1, 2] \n",
    "for i,test in enumerate(test_list):\n",
    "    for j,tup in enumerate(test):\n",
    "        l = list(tup)\n",
    "        l.append(cus_eles[i])\n",
    "        test[j]=tuple(l)\n",
    "print(test_list)"
   ]
  },
  {
   "cell_type": "markdown",
   "metadata": {},
   "source": [
    "### create a list of tuples from given list having number and its cube in each tuple"
   ]
  },
  {
   "cell_type": "code",
   "execution_count": 10,
   "metadata": {},
   "outputs": [
    {
     "name": "stdout",
     "output_type": "stream",
     "text": [
      "[(1, 1), (2, 8), (3, 27)]\n"
     ]
    }
   ],
   "source": [
    "'''\n",
    "Input: list = [1, 2, 3]\n",
    "Output: [(1, 1), (2, 8), (3, 27)]\n",
    "\n",
    "Input: list = [9, 5, 6]\n",
    "Output: [(9, 729), (5, 125), (6, 216)]\n",
    "'''\n",
    "\n",
    "lst = [1, 2, 3]\n",
    "\n",
    "result = [(i,i**3) for i in lst ]\n",
    "\n",
    "print(result)"
   ]
  }
 ],
 "metadata": {
  "kernelspec": {
   "display_name": "base",
   "language": "python",
   "name": "python3"
  },
  "language_info": {
   "codemirror_mode": {
    "name": "ipython",
    "version": 3
   },
   "file_extension": ".py",
   "mimetype": "text/x-python",
   "name": "python",
   "nbconvert_exporter": "python",
   "pygments_lexer": "ipython3",
   "version": "3.12.7"
  }
 },
 "nbformat": 4,
 "nbformat_minor": 2
}

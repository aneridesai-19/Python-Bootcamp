{
 "cells": [
  {
   "cell_type": "markdown",
   "metadata": {},
   "source": [
    "### find the sum of all items in a dictionary"
   ]
  },
  {
   "cell_type": "code",
   "execution_count": 11,
   "metadata": {},
   "outputs": [
    {
     "name": "stdout",
     "output_type": "stream",
     "text": [
      "65\n",
      "1\n"
     ]
    }
   ],
   "source": [
    "set = ([8, 16, 24, 1, 25, 3, 10, 65, 55])\n",
    "print(max(set))\n",
    "print(min(set))"
   ]
  },
  {
   "cell_type": "markdown",
   "metadata": {},
   "source": [
    "### Remove items from Set"
   ]
  },
  {
   "cell_type": "code",
   "execution_count": 10,
   "metadata": {},
   "outputs": [
    {
     "name": "stdout",
     "output_type": "stream",
     "text": [
      "{9, 10, 12, 13, 15}\n",
      "{10, 12, 13, 15}\n",
      "{12, 13, 15}\n",
      "{13, 15}\n",
      "{15}\n",
      "set()\n"
     ]
    }
   ],
   "source": [
    "'''\n",
    "Input : set([12, 10, 13, 15, 8, 9])\n",
    "Output :\n",
    "{9, 10, 12, 13, 15}\n",
    "{10, 12, 13, 15}\n",
    "{12, 13, 15}\n",
    "{13, 15}\n",
    "{15}\n",
    "set()\n",
    "'''\n",
    "set = {12, 10, 13, 15, 8, 9}\n",
    "while set:\n",
    "    set.discard(min(set))\n",
    "    print(set)"
   ]
  },
  {
   "cell_type": "markdown",
   "metadata": {},
   "source": [
    "### Check if two lists have at-least one element common"
   ]
  },
  {
   "cell_type": "code",
   "execution_count": 12,
   "metadata": {},
   "outputs": [
    {
     "name": "stdout",
     "output_type": "stream",
     "text": [
      "common element exist\n"
     ]
    }
   ],
   "source": [
    "a = [1, 2, 3, 4]\n",
    "b = [5, 6, 3, 8]\n",
    "\n",
    "for i in a:\n",
    "    if i in b:\n",
    "        common=1\n",
    "        break\n",
    "    else:\n",
    "        common=0\n",
    "\n",
    "if common==1:\n",
    "    print(\"common element exist\")\n",
    "else:\n",
    "    print(\"common element doesn't exist\")        \n"
   ]
  }
 ],
 "metadata": {
  "kernelspec": {
   "display_name": "base",
   "language": "python",
   "name": "python3"
  },
  "language_info": {
   "codemirror_mode": {
    "name": "ipython",
    "version": 3
   },
   "file_extension": ".py",
   "mimetype": "text/x-python",
   "name": "python",
   "nbconvert_exporter": "python",
   "pygments_lexer": "ipython3",
   "version": "3.12.7"
  }
 },
 "nbformat": 4,
 "nbformat_minor": 2
}

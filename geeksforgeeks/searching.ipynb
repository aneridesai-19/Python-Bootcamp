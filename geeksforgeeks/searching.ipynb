{
 "cells": [
  {
   "cell_type": "markdown",
   "metadata": {},
   "source": [
    "### Linear Search"
   ]
  },
  {
   "cell_type": "code",
   "execution_count": 3,
   "metadata": {},
   "outputs": [
    {
     "name": "stdout",
     "output_type": "stream",
     "text": [
      "Element found at index : 3\n"
     ]
    }
   ],
   "source": [
    "def l_search(arr,target):\n",
    "    for i in range(len(arr)):\n",
    "        if target==arr[i]:\n",
    "            return i\n",
    "    return -1\n",
    "\n",
    "arr = [10, 23, 45, 70, 11, 15]\n",
    "target = 70\n",
    "\n",
    "result = l_search(arr,target)\n",
    "\n",
    "if result==-1:\n",
    "    print(\"Element not found.\")\n",
    "else:\n",
    "    print(\"Element found at index :\",result)\n",
    "\n"
   ]
  },
  {
   "cell_type": "markdown",
   "metadata": {},
   "source": [
    "### Binary Search"
   ]
  },
  {
   "cell_type": "code",
   "execution_count": 5,
   "metadata": {},
   "outputs": [
    {
     "name": "stdout",
     "output_type": "stream",
     "text": [
      "[10, 11, 15, 23, 45, 70]\n",
      "Element found at index : 5\n"
     ]
    }
   ],
   "source": [
    "def b_search(arr,target):\n",
    "    low = 0\n",
    "    high = len(arr)-1\n",
    "\n",
    "    while low<=high:\n",
    "        mid = (low+high) // 2\n",
    "        if arr[mid]==target:\n",
    "            return mid\n",
    "        elif arr[mid]>target:\n",
    "            high = mid-1\n",
    "        else:\n",
    "            low=mid+1\n",
    "    return -1\n",
    "\n",
    "arr = [10, 23, 45, 70, 11, 15]\n",
    "target = 70\n",
    "arr.sort()\n",
    "print(arr)\n",
    "result = b_search(arr,target)\n",
    "\n",
    "if result==-1:\n",
    "    print(\"Element not found.\")\n",
    "else:\n",
    "    print(\"Element found at index :\",result)\n"
   ]
  },
  {
   "cell_type": "markdown",
   "metadata": {},
   "source": [
    "### Anagram Substring Search"
   ]
  },
  {
   "cell_type": "code",
   "execution_count": null,
   "metadata": {},
   "outputs": [],
   "source": []
  }
 ],
 "metadata": {
  "kernelspec": {
   "display_name": "base",
   "language": "python",
   "name": "python3"
  },
  "language_info": {
   "codemirror_mode": {
    "name": "ipython",
    "version": 3
   },
   "file_extension": ".py",
   "mimetype": "text/x-python",
   "name": "python",
   "nbconvert_exporter": "python",
   "pygments_lexer": "ipython3",
   "version": "3.12.7"
  }
 },
 "nbformat": 4,
 "nbformat_minor": 2
}

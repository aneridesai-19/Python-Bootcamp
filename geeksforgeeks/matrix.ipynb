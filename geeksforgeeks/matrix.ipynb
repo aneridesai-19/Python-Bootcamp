{
 "cells": [
  {
   "cell_type": "markdown",
   "metadata": {},
   "source": [
    "### Assigning Subsequent Rows to Matrix first row elements"
   ]
  },
  {
   "cell_type": "code",
   "execution_count": 3,
   "metadata": {},
   "outputs": [
    {
     "name": "stdout",
     "output_type": "stream",
     "text": [
      "{5: [2, 0, 9], 8: [5, 4, 2], 9: [2, 3, 9]}\n"
     ]
    }
   ],
   "source": [
    "test_list = [[5, 8, 9], [2, 0, 9], [5, 4, 2], [2, 3, 9]]\n",
    "\n",
    "## test_list = [[5, 8], [2, 0], [5, 4]]\n",
    "\n",
    "result = {test_list[0][i]:test_list[i+1] for i in range(len(test_list)-1)}\n",
    "\n",
    "print(result)"
   ]
  },
  {
   "cell_type": "markdown",
   "metadata": {},
   "source": [
    "### Adding and Subtracting Matrices"
   ]
  },
  {
   "cell_type": "code",
   "execution_count": 5,
   "metadata": {},
   "outputs": [
    {
     "name": "stdout",
     "output_type": "stream",
     "text": [
      "matrix A:\n",
      "[[1 2]\n",
      " [3 4]]\n",
      "\n",
      "matrix B:\n",
      "[[4 5]\n",
      " [6 7]]\n",
      "\n",
      "Addition of two matrix:\n",
      "[[ 5  7]\n",
      " [ 9 11]]\n",
      "\n",
      "Subtraction of two matrix:\n",
      "[[-3 -3]\n",
      " [-3 -3]]\n"
     ]
    }
   ],
   "source": [
    "import numpy as np\n",
    "\n",
    "A = np.array([[1, 2], [3, 4]])\n",
    "\n",
    "B = np.array([[4, 5], [6, 7]])\n",
    "\n",
    "print(\"matrix A:\")\n",
    "print(A)\n",
    "\n",
    "print(\"\\nmatrix B:\")\n",
    "print(B)\n",
    "\n",
    "print(\"\\nAddition of two matrix:\")\n",
    "print(np.add(A,B))\n",
    "\n",
    "print(\"\\nSubtraction of two matrix:\")\n",
    "print(np.subtract(A,B))"
   ]
  },
  {
   "cell_type": "markdown",
   "metadata": {},
   "source": [
    "### Group similar elements into Matrix"
   ]
  },
  {
   "cell_type": "code",
   "execution_count": 11,
   "metadata": {},
   "outputs": [
    {
     "name": "stdout",
     "output_type": "stream",
     "text": [
      "[[1, 1], [2, 2], [3, 3], [4], [5, 5]]\n"
     ]
    }
   ],
   "source": [
    "from itertools import groupby\n",
    "\n",
    "test_list = [1, 3, 5, 1, 3, 2, 5, 4, 2]\n",
    "\n",
    "res = [list(val) for key,val in groupby(sorted(test_list))]\n",
    "\n",
    "print(res)"
   ]
  },
  {
   "cell_type": "markdown",
   "metadata": {},
   "source": [
    "### Row-wise element Addition in Tuple Matrix"
   ]
  },
  {
   "cell_type": "code",
   "execution_count": 12,
   "metadata": {},
   "outputs": [
    {
     "name": "stdout",
     "output_type": "stream",
     "text": [
      "[[('Gfg', 3, 6), ('is', 3, 6)], [('best', 1, 7)], [('for', 5, 8), ('geeks', 1, 8)]]\n"
     ]
    }
   ],
   "source": [
    "test_list = [[('Gfg', 3), ('is', 3)], [('best', 1)], [('for', 5), ('geeks', 1)]]\n",
    "\n",
    "cus_eles = [6, 7, 8]\n",
    "\n",
    "result_list = []\n",
    "\n",
    "for i, row in enumerate(test_list):\n",
    "    result_list.append(list(map(lambda x: x+(cus_eles[i],), row)))\n",
    "\n",
    "print(result_list)"
   ]
  },
  {
   "cell_type": "markdown",
   "metadata": {},
   "source": [
    "### Create an n x n square matrix, where all the sub-matrix have the sum of opposite corner elements as even"
   ]
  },
  {
   "cell_type": "code",
   "execution_count": 21,
   "metadata": {},
   "outputs": [
    {
     "name": "stdout",
     "output_type": "stream",
     "text": [
      "1 2 3 4 \n",
      "\n",
      "8 7 6 5 \n",
      "\n",
      "9 10 11 12 \n",
      "\n",
      "16 15 14 13 \n",
      "\n"
     ]
    }
   ],
   "source": [
    "def sub_mat(n):\n",
    "    element=1\n",
    "    mat=[]\n",
    "    for i in range(n):\n",
    "        row=[]\n",
    "        for j in range(n):\n",
    "            row.append(element)\n",
    "            element+=1\n",
    "        mat.append(row)\n",
    "    if n%2==0:\n",
    "        for i in range(n):\n",
    "            if i%2!=0:\n",
    "                mat[i][:] = mat[i][::-1]\n",
    "    for i in range(n):\n",
    "        for j in range(n):\n",
    "            print(mat[i][j],end=\" \")\n",
    "        print(\"\\n\")\n",
    "n=4\n",
    "sub_mat(n)"
   ]
  },
  {
   "cell_type": "code",
   "execution_count": null,
   "metadata": {},
   "outputs": [],
   "source": []
  }
 ],
 "metadata": {
  "kernelspec": {
   "display_name": "base",
   "language": "python",
   "name": "python3"
  },
  "language_info": {
   "codemirror_mode": {
    "name": "ipython",
    "version": 3
   },
   "file_extension": ".py",
   "mimetype": "text/x-python",
   "name": "python",
   "nbconvert_exporter": "python",
   "pygments_lexer": "ipython3",
   "version": "3.12.7"
  }
 },
 "nbformat": 4,
 "nbformat_minor": 2
}
